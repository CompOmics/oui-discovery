{
 "cells": [
  {
   "cell_type": "code",
   "execution_count": 23,
   "id": "e4aaefcb-d835-4ec3-aafe-4131046d02ea",
   "metadata": {},
   "outputs": [],
   "source": [
    "from explore_import import  *\n",
    "import ionbot_preprocess as io\n",
    "import data_preprocess as dt\n",
    "import tpp_preprocess as tpp\n",
    "import hpp_checker as hpp\n",
    "import pyteomics.auxiliary as aux\n",
    "\n",
    "from scipy.stats import mannwhitneyu\n",
    "from scipy.stats import chi2_contingency\n",
    "warnings.simplefilter(action='ignore', category=FutureWarning)"
   ]
  },
  {
   "cell_type": "code",
   "execution_count": 5,
   "id": "4224239b-ce70-4334-ad24-5ff4dbdecb02",
   "metadata": {},
   "outputs": [],
   "source": [
    "project_palette={\"canon\":\"orangered\",\"trembl\":\"yellowgreen\",\"openprot\":\"cornflowerblue\",\n",
    "                \"Canon_unique\":\"salmon\", \"NonCanon_unique\":\"skyblue\", \"Shared\":\"darkkhaki\",\n",
    "                \"Canon\":\"firebrick\",\"Noncanon\":\"steelblue\"}"
   ]
  },
  {
   "cell_type": "code",
   "execution_count": 6,
   "id": "ece6878e-ad67-4a1e-8076-5cd5fd5f8fe0",
   "metadata": {},
   "outputs": [],
   "source": [
    "peptide_classes={\"NonCanon_unique\":[\"unique_to_Noncanon\",'shared_in_Noncanon'],\n",
    "                \"Canon_unique\":[\"unique_to_Canon\",'shared_in_Canon'],\n",
    "                \"Shared\":['shared_btw_can_noncan']}"
   ]
  },
  {
   "cell_type": "code",
   "execution_count": 17,
   "id": "a53aef50-4d77-44d1-97cd-4eb5ae688145",
   "metadata": {},
   "outputs": [],
   "source": [
    "working_folder = \"./../msfragger_pride_reanalysis/fragpipe23_ms42/\"\n",
    "work_subdirs_db=[\"canon\",\"trembl\",\"openprot\"]\n",
    "work_subdirs_dts=[\"PXD002057\",\"PXD005833\",\"PXD014258\"]\n",
    "figsave_folder=\"./oui_discovery_subfigures/explore-1-msfragger/\"\n",
    "wildcard=\"msfr\""
   ]
  },
  {
   "cell_type": "code",
   "execution_count": 8,
   "id": "18da14b4-b193-4c38-862a-9a0c666d3cd2",
   "metadata": {},
   "outputs": [],
   "source": [
    "dt.list_files(working_folder)"
   ]
  },
  {
   "cell_type": "code",
   "execution_count": 9,
   "id": "215b8f0d-938f-4d9a-a36a-533d28225b2a",
   "metadata": {},
   "outputs": [],
   "source": [
    "mgfspectraN_datasets=pickle.load(open('./../mgfspectraN_datasets.pickle', 'rb'))"
   ]
  },
  {
   "cell_type": "code",
   "execution_count": 10,
   "id": "3ff54e5c-7b50-4446-8d62-1228d698579c",
   "metadata": {},
   "outputs": [],
   "source": [
    "def find_files(root_dir, target_filename_prefix):\n",
    "    result_files = []\n",
    "    for dirpath, _, filenames in os.walk(root_dir):\n",
    "        #print(filenames)\n",
    "        if any(target_filename_prefix in x for x in filenames):\n",
    "            #print(filenames)\n",
    "            target_filenames=[x for x in filenames if target_filename_prefix in x]\n",
    "            for target_filename in target_filenames:\n",
    "                file=os.path.join(dirpath, target_filename)\n",
    "                file=file.replace(\"\\\\\", \"/\")\n",
    "                result_files.append(file)\n",
    "    return result_files\n",
    "def load_philosopher_output(root_dir,target_filename_prefix=\"mod.pep.xml\"):\n",
    "    files=find_files(root_dir,target_filename_prefix)\n",
    "    print(files)\n",
    "    dfs=[]\n",
    "    for file in files:    \n",
    "        if \"pep\" in target_filename_prefix:\n",
    "            with pepxml.read(file) as reader:\n",
    "                data = list(reader)\n",
    "        if \"prot\" in target_filename_prefix:\n",
    "            with protxml.read(file) as reader:\n",
    "                data = list(reader)\n",
    "        df = pd.DataFrame(data)\n",
    "        df[\"spectrum_file\"]=file.split(\"/\")[-2]#.replace(\"interact-\",\"\").replace(target_filename_prefix,\"\")\n",
    "        df[\"dataset\"]=file.split(\"/\")[-3]\n",
    "        df[\"database\"]=file.split(\"/\")[-4]\n",
    "        dfs.append(df)\n",
    "    files_df=pd.concat(dfs)\n",
    "    return files_df\n",
    "def get_hitclass(row):\n",
    "    #print(row)\n",
    "    proteins=[hit if 'protein_descr' in hit.keys() else {'protein_descr':hit['protein']} for hit in row[0]['proteins']]\n",
    "    proteins=[hit if len(hit['protein_descr'])>1 else {'protein_descr':hit['protein']} for hit in proteins]\n",
    "    vals=[ \"D\" if \"decoy\" in hit['protein_descr'] else \"NC\" if \"no_match\" in hit['protein_descr'] or ((\"II_\" in hit['protein_descr'] or \"IP_\" in hit['protein_descr']) and \"protein\" not in hit.keys()) else \"CONTAM\" if \"CONTAM\" in hit['protein_descr'] or \"contam\" in hit['protein_descr'] else \"T\"  for hit in proteins ]\n",
    "    #print(proteins)\n",
    "    #print(vals)\n",
    "    if any(\"D\"==x for x in vals):\n",
    "        return \"D\"\n",
    "    if any(\"CONTAM\"==x or \"contam\"==x for x in vals):\n",
    "        return \"CONTAM\"\n",
    "    if all(\"NC\"==x for x in vals):\n",
    "        return \"NC\"\n",
    "    else:\n",
    "        return \"T\"\n",
    "    \n",
    "def get_proteins(row):\n",
    "    return \"||\".join([hit['protein'] for hit in row[0]['proteins']])\n",
    "\n",
    "def get_pepclass(row):\n",
    "    #print(row) #here was a mistake with D\n",
    "    if row[\"hit_class\"]==\"D\":\n",
    "        pepclass=\"Decoy\"\n",
    "    if row[\"hit_class\"]==\"CONTAM\":\n",
    "        pepclass=\"Contam\"\n",
    "    elif row[\"hit_class\"]==\"NC\":\n",
    "        pepclass=\"shared_in_Noncanon\" if \"||\" in row[\"proteins\"] else \"unique_to_Noncanon\"\n",
    "    else:\n",
    "        proteins=[hit if 'protein_descr' in hit.keys() else {'protein_descr':hit['protein']} for hit in row[\"search_hit\"][0]['proteins']]\n",
    "        proteins=[hit if len(hit['protein_descr'])>1 else {'protein_descr':hit['protein']} for hit in proteins]\n",
    "        vals=[\"NC\" if \"no_match\" in hit['protein_descr'] or (\"II_\" in hit['protein_descr'] or \"IP_\" in hit['protein_descr']) else \"C\"  for hit in proteins]\n",
    "        pepclass=\"shared_in_Canon\" if all(\"C\"==v for v in vals) and len(vals)>1 else \"unique_to_Canon\" if all(\"C\"==v for v in vals) and len(vals)==1 else \"shared_btw_can_noncan\"\n",
    "    return pepclass\n",
    "\n",
    "def parse_search_hit(row,feature):\n",
    "    row=row[0]\n",
    "    if not isinstance(feature,list):\n",
    "        if feature in row.keys():\n",
    "            return row[feature]\n",
    "    if isinstance(feature,list):\n",
    "        item=row\n",
    "        for i in range(len(feature)):\n",
    "            if isinstance(item,list) and i!=len(feature)-1:\n",
    "                item=item[0]\n",
    "            #print(item)\n",
    "            item=item[feature[i]] if feature[i] in item.keys() else None\n",
    "            if item==None:\n",
    "                return None\n",
    "    return item    \n",
    "def init_file(df):\n",
    "    df[\"proteins\"]=df.search_hit.apply(get_proteins)\n",
    "    df[\"hit_class\"]=df.search_hit.apply(get_hitclass)\n",
    "    df[\"peptide_class\"]=df.apply(get_pepclass,axis=1)\n",
    "    ask_features=[\"peptide\",\"num_missed_cleavages\",'num_tot_proteins',['search_score','expect'],\n",
    "                  [\"analysis_result\",\"peptideprophet_result\",\"parameter\",\"fval\"],['analysis_result','peptideprophet_result','probability'],\n",
    "             ['ptm_result','localization'],['ptm_result','ptm_mass'],['ptm_result','localization_peptide'],\n",
    "                  'modified_peptide','modifications','massdiff','calc_neutral_pep_mass']\n",
    "    for feature in ask_features:\n",
    "        col=\":\".join(feature) if isinstance(feature,list) else feature\n",
    "        df[col]=df.search_hit.apply(lambda x: parse_search_hit(x,feature))\n",
    "    return df\n",
    "def get_qval(df,score=\"analysis_result:peptideprophet_result:parameter:fval\"):\n",
    "    \"\"\" calculate FDR and q-values based on score\"\"\"\n",
    "    df = df.sort_values(by=score, ascending=False).reset_index(drop=True)        \n",
    "    # Calculate cumulative counts of targets and decoys\n",
    "    df['cum_targets'] = (df['hit_class'] != 'D').cumsum()\n",
    "    df['cum_decoys'] = (df['hit_class'] == 'D').cumsum()\n",
    "    # Calculate FDR\n",
    "    df['FDR'] = df['cum_decoys'] / df['cum_targets']\n",
    "    # cumulative minimum from bottom to top\n",
    "    df['q-value'] = df['FDR'][::-1].cummin()[::-1]  \n",
    "    df[\"q-value\"].fillna(0,inplace=True)\n",
    "    return df\n",
    "def get_qval_prot(df,score=\"confidence\"):\n",
    "    \"\"\" calculate FDR and q-values based on score\"\"\"\n",
    "    df = df.sort_values(by=score, ascending=False).reset_index(drop=True)        \n",
    "    # Calculate cumulative counts of targets and decoys\n",
    "    df['cum_targets'] = (df['protein_class'] != 'Decoy').cumsum()\n",
    "    df['cum_decoys'] = (df['protein_class'] == 'Decoy').cumsum()\n",
    "    # Calculate FDR\n",
    "    df['FDR'] = df['cum_decoys'] / df['cum_targets']\n",
    "    # cumulative minimum from bottom to top\n",
    "    df['q-value'] = df['FDR'][::-1].cummin()[::-1]  \n",
    "    df[\"q-value\"].fillna(0,inplace=True)\n",
    "    return df"
   ]
  },
  {
   "cell_type": "code",
   "execution_count": 25,
   "id": "3038e51c-5064-4de6-bbe0-286f6f05ca64",
   "metadata": {},
   "outputs": [],
   "source": [
    "def classify_leadprot(x):\n",
    "    if 'CONTAMINANT' in x.upper():\n",
    "        return 'Contam'\n",
    "    elif x.startswith('II_') or x.startswith('IP_'):\n",
    "        return 'NonCanon'\n",
    "        # Ensembl is canonical\n",
    "    else:\n",
    "        return 'Canon'\n",
    "\n",
    "def is_peptide_canonical(x):\n",
    "    '''x is the list of protein classes'''\n",
    "    if np.array([_=='Contam' for _ in x]).any():\n",
    "        return 'Contam'\n",
    "    if np.array([_=='Canon' for _ in x]).any():\n",
    "        return 'Canonical'\n",
    "    return 'NonCanonical'\n",
    "\n",
    "def classifiy_mods(row):\n",
    "    if pd.isna(row[\"modifications:type_re\"]):\n",
    "        return 'Unmodified'\n",
    "    elif row[\"modifications:type_re\"]==\"unexpected\":\n",
    "        return 'Unexpected'\n",
    "    else:\n",
    "        return 'Expected'\n",
    "\n",
    "def custom_subgroup_filter(data_):\n",
    "    filtered_subgroups = []\n",
    "    for (c,m),df in data_.groupby(['isCanonical','isModified']).__iter__():\n",
    "        tmp = aux.target_decoy.qvalues(df, key='analysis_result:peptideprophet_result:parameter:fval', reverse=True, is_decoy=df.database=='D',\n",
    "                                      formula=1, full_output=True, q_label='custom_q')\n",
    "        filtered_subgroups.append(tmp)\n",
    "\n",
    "    return pd.concat(filtered_subgroups, ignore_index=True)"
   ]
  },
  {
   "cell_type": "markdown",
   "id": "e748fa3c-aaed-44c6-a88f-513c1b9b0c35",
   "metadata": {},
   "source": [
    "### Load PeptideProphet"
   ]
  },
  {
   "cell_type": "code",
   "execution_count": null,
   "id": "c9ef7b0a-9aed-48bd-9b48-f3a58b19c0af",
   "metadata": {},
   "outputs": [],
   "source": [
    "#pepxml after PTMProphet\n",
    "\n",
    "prophet_combined_datasets={}\n",
    "for work_subdir in work_subdirs_dts:\n",
    "    data_frames = {}\n",
    "    for database in work_subdirs_db:\n",
    "        path=os.path.join(working_folder,database,work_subdir)\n",
    "        print(path)\n",
    "        data_frames[database]=load_philosopher_output(path)\n",
    "        print(data_frames[database].shape)\n",
    "    prophet_combined_datasets[work_subdir] = data_frames"
   ]
  },
  {
   "cell_type": "markdown",
   "id": "38fbd5fe-b58b-4276-a2f5-99f877a72457",
   "metadata": {},
   "source": [
    "### Extract features and get global FDR"
   ]
  },
  {
   "cell_type": "code",
   "execution_count": null,
   "id": "f631b58e-a0e5-4fd4-af56-7865f011ca92",
   "metadata": {},
   "outputs": [],
   "source": [
    "#add decoy/target columns, calculate q-value based on fval\n",
    "\n",
    "for dataset, subdict in prophet_combined_datasets.items():\n",
    "    for database,df_ds in subdict.items():\n",
    "        #extract features\n",
    "        df_ds=init_file(df_ds)\n",
    "        df_ds_new=[]\n",
    "        for spectrum_file in set(df_ds.spectrum_file):\n",
    "            print(dataset,database,spectrum_file)\n",
    "            df=df_ds.loc[df_ds.spectrum_file==spectrum_file]\n",
    "            df=get_qval(df)\n",
    "            df_ds_new.append(df)\n",
    "        prophet_combined_datasets[dataset][database]=pd.concat(df_ds_new)"
   ]
  },
  {
   "cell_type": "code",
   "execution_count": 12,
   "id": "8151cfcf-574f-424f-b022-085ccd7f2363",
   "metadata": {},
   "outputs": [],
   "source": [
    "##prophet_combined_datasets=pickle.load(open(\"./../prophet_combined_datasets.pkl\",\"rb\"))"
   ]
  },
  {
   "cell_type": "markdown",
   "id": "cfda68a0-286a-4696-9586-14ff20d84780",
   "metadata": {},
   "source": [
    "### Add modifications"
   ]
  },
  {
   "cell_type": "code",
   "execution_count": 15,
   "id": "010467fb-aa99-45b0-87ee-5cb5dd4b9bbc",
   "metadata": {},
   "outputs": [],
   "source": [
    "def load_ptmshepherd_output(root_dir,filename=\"global.profile.tsv\"):   \n",
    "    files=find_files(root_dir,filename)\n",
    "    print(files)\n",
    "    dfs=[]\n",
    "    for file in files:\n",
    "        df=pd.read_csv(file,sep=\"\\t\")\n",
    "        #fix file, run once\n",
    "        df.reset_index(inplace=True)\n",
    "        df.columns=df.columns.tolist()[1:]+[\"drop\"]\n",
    "        df.drop(\"drop\",axis=1,inplace=True)\n",
    "        df[\"spectrum_file\"]=file.split(\"/\")[-2]#.replace(\"interact-\",\"\").replace(target_filename_prefix,\"\")\n",
    "        df[\"dataset\"]=file.split(\"/\")[-3]\n",
    "        df[\"database\"]=file.split(\"/\")[-4]\n",
    "        dfs.append(df)\n",
    "    files_df=pd.concat(dfs)\n",
    "    return files_df\n",
    "def annotate_massshift(value,ptm_df,col):\n",
    "    #print(value)\n",
    "    a=ptm_df[(ptm_df['peak_lower'] <= value) & (ptm_df['peak_upper'] >= value)]\n",
    "    if len(a[col])==0: \n",
    "        return None\n",
    "    return \"||\".join(set([str(x).split(\"shift \")[-1] if \"Unidentified\" in str(x) or \"Unannotated\" in str(x) else str(x) for x in a[col].values.tolist()]))\n",
    "\n",
    "def extract_trivial_aa(x):\n",
    "    if not x[\"trivial_localization\"]:\n",
    "        return None\n",
    "    peptide = x[\"ptm_result:localization_peptide\"]\n",
    "    filtered = [i for i in peptide if i.lower() == i]\n",
    "    return filtered[0].upper()"
   ]
  },
  {
   "cell_type": "code",
   "execution_count": 18,
   "id": "cb436953-9b2d-40d4-9609-2a2b55b68c77",
   "metadata": {
    "scrolled": true
   },
   "outputs": [
    {
     "name": "stdout",
     "output_type": "stream",
     "text": [
      "['./../msfragger_pride_reanalysis/fragpipe23_ms42/trembl/PXD014258/ESC_HF_SampleHela/ptm-shepherd-output/global.profile.tsv', './../msfragger_pride_reanalysis/fragpipe23_ms42/trembl/PXD014258/ESC_HF_Sample_BT474/ptm-shepherd-output/global.profile.tsv', './../msfragger_pride_reanalysis/fragpipe23_ms42/trembl/PXD014258/ESC_HF_Sample_MCF/ptm-shepherd-output/global.profile.tsv', './../msfragger_pride_reanalysis/fragpipe23_ms42/trembl/PXD002057/130327_o2_02_hu_P1_2hr/ptm-shepherd-output/global.profile.tsv', './../msfragger_pride_reanalysis/fragpipe23_ms42/trembl/PXD002057/130327_o2_03_hu_C2_2hr/ptm-shepherd-output/global.profile.tsv', './../msfragger_pride_reanalysis/fragpipe23_ms42/trembl/PXD002057/130327_o2_05_hu_C3_2hr/ptm-shepherd-output/global.profile.tsv', './../msfragger_pride_reanalysis/fragpipe23_ms42/trembl/PXD002057/130327_o2_06_hu_P3_2hr/ptm-shepherd-output/global.profile.tsv', './../msfragger_pride_reanalysis/fragpipe23_ms42/trembl/PXD002057/130327_o2_04_hu_P2_2hr/ptm-shepherd-output/global.profile.tsv', './../msfragger_pride_reanalysis/fragpipe23_ms42/trembl/PXD002057/130327_o2_01_hu_C1_2hr/ptm-shepherd-output/global.profile.tsv', './../msfragger_pride_reanalysis/fragpipe23_ms42/trembl/PXD005833/AM9/ptm-shepherd-output/global.profile.tsv', './../msfragger_pride_reanalysis/fragpipe23_ms42/trembl/PXD005833/AM15/ptm-shepherd-output/global.profile.tsv', './../msfragger_pride_reanalysis/fragpipe23_ms42/trembl/PXD005833/AM12/ptm-shepherd-output/global.profile.tsv', './../msfragger_pride_reanalysis/fragpipe23_ms42/trembl/PXD005833/AM18/ptm-shepherd-output/global.profile.tsv', './../msfragger_pride_reanalysis/fragpipe23_ms42/trembl/PXD005833/AM20/ptm-shepherd-output/global.profile.tsv', './../msfragger_pride_reanalysis/fragpipe23_ms42/trembl/PXD005833/AM16/ptm-shepherd-output/global.profile.tsv', './../msfragger_pride_reanalysis/fragpipe23_ms42/trembl/PXD005833/AM11/ptm-shepherd-output/global.profile.tsv', './../msfragger_pride_reanalysis/fragpipe23_ms42/trembl/PXD005833/AM7/ptm-shepherd-output/global.profile.tsv', './../msfragger_pride_reanalysis/fragpipe23_ms42/trembl/PXD005833/AM19/ptm-shepherd-output/global.profile.tsv', './../msfragger_pride_reanalysis/fragpipe23_ms42/trembl/PXD005833/AM13/ptm-shepherd-output/global.profile.tsv', './../msfragger_pride_reanalysis/fragpipe23_ms42/trembl/PXD005833/AM21/ptm-shepherd-output/global.profile.tsv', './../msfragger_pride_reanalysis/fragpipe23_ms42/trembl/PXD005833/AM14/ptm-shepherd-output/global.profile.tsv', './../msfragger_pride_reanalysis/fragpipe23_ms42/trembl/PXD005833/AM8/ptm-shepherd-output/global.profile.tsv', './../msfragger_pride_reanalysis/fragpipe23_ms42/trembl/PXD005833/AM10/ptm-shepherd-output/global.profile.tsv', './../msfragger_pride_reanalysis/fragpipe23_ms42/trembl/PXD005833/AM17/ptm-shepherd-output/global.profile.tsv', './../msfragger_pride_reanalysis/fragpipe23_ms42/openprot/PXD002057/130327_o2_05_hu_C3_2hr/ptm-shepherd-output/global.profile.tsv', './../msfragger_pride_reanalysis/fragpipe23_ms42/openprot/PXD002057/130327_o2_03_hu_C2_2hr/ptm-shepherd-output/global.profile.tsv', './../msfragger_pride_reanalysis/fragpipe23_ms42/openprot/PXD002057/130327_o2_02_hu_P1_2hr/ptm-shepherd-output/global.profile.tsv', './../msfragger_pride_reanalysis/fragpipe23_ms42/openprot/PXD002057/130327_o2_01_hu_C1_2hr/ptm-shepherd-output/global.profile.tsv', './../msfragger_pride_reanalysis/fragpipe23_ms42/openprot/PXD002057/130327_o2_04_hu_P2_2hr/ptm-shepherd-output/global.profile.tsv', './../msfragger_pride_reanalysis/fragpipe23_ms42/openprot/PXD002057/130327_o2_06_hu_P3_2hr/ptm-shepherd-output/global.profile.tsv', './../msfragger_pride_reanalysis/fragpipe23_ms42/openprot/PXD005833/AM20/ptm-shepherd-output/global.profile.tsv', './../msfragger_pride_reanalysis/fragpipe23_ms42/openprot/PXD005833/AM12/ptm-shepherd-output/global.profile.tsv', './../msfragger_pride_reanalysis/fragpipe23_ms42/openprot/PXD005833/AM18/ptm-shepherd-output/global.profile.tsv', './../msfragger_pride_reanalysis/fragpipe23_ms42/openprot/PXD005833/AM15/ptm-shepherd-output/global.profile.tsv', './../msfragger_pride_reanalysis/fragpipe23_ms42/openprot/PXD005833/AM9/ptm-shepherd-output/global.profile.tsv', './../msfragger_pride_reanalysis/fragpipe23_ms42/openprot/PXD005833/AM7/ptm-shepherd-output/global.profile.tsv', './../msfragger_pride_reanalysis/fragpipe23_ms42/openprot/PXD005833/AM11/ptm-shepherd-output/global.profile.tsv', './../msfragger_pride_reanalysis/fragpipe23_ms42/openprot/PXD005833/AM16/ptm-shepherd-output/global.profile.tsv', './../msfragger_pride_reanalysis/fragpipe23_ms42/openprot/PXD005833/AM8/ptm-shepherd-output/global.profile.tsv', './../msfragger_pride_reanalysis/fragpipe23_ms42/openprot/PXD005833/AM14/ptm-shepherd-output/global.profile.tsv', './../msfragger_pride_reanalysis/fragpipe23_ms42/openprot/PXD005833/AM21/ptm-shepherd-output/global.profile.tsv', './../msfragger_pride_reanalysis/fragpipe23_ms42/openprot/PXD005833/AM19/ptm-shepherd-output/global.profile.tsv', './../msfragger_pride_reanalysis/fragpipe23_ms42/openprot/PXD005833/AM13/ptm-shepherd-output/global.profile.tsv', './../msfragger_pride_reanalysis/fragpipe23_ms42/openprot/PXD005833/AM17/ptm-shepherd-output/global.profile.tsv', './../msfragger_pride_reanalysis/fragpipe23_ms42/openprot/PXD005833/AM10/ptm-shepherd-output/global.profile.tsv', './../msfragger_pride_reanalysis/fragpipe23_ms42/openprot/PXD014258/ESC_HF_Sample_MCF/ptm-shepherd-output/global.profile.tsv', './../msfragger_pride_reanalysis/fragpipe23_ms42/openprot/PXD014258/ESC_HF_SampleHela/ptm-shepherd-output/global.profile.tsv', './../msfragger_pride_reanalysis/fragpipe23_ms42/openprot/PXD014258/ESC_HF_Sample_BT474/ptm-shepherd-output/global.profile.tsv', './../msfragger_pride_reanalysis/fragpipe23_ms42/canon/PXD002057/130327_o2_06_hu_P3_2hr/ptm-shepherd-output/global.profile.tsv', './../msfragger_pride_reanalysis/fragpipe23_ms42/canon/PXD002057/130327_o2_04_hu_P2_2hr/ptm-shepherd-output/global.profile.tsv', './../msfragger_pride_reanalysis/fragpipe23_ms42/canon/PXD002057/130327_o2_01_hu_C1_2hr/ptm-shepherd-output/global.profile.tsv', './../msfragger_pride_reanalysis/fragpipe23_ms42/canon/PXD002057/130327_o2_02_hu_P1_2hr/ptm-shepherd-output/global.profile.tsv', './../msfragger_pride_reanalysis/fragpipe23_ms42/canon/PXD002057/130327_o2_03_hu_C2_2hr/ptm-shepherd-output/global.profile.tsv', './../msfragger_pride_reanalysis/fragpipe23_ms42/canon/PXD002057/130327_o2_05_hu_C3_2hr/ptm-shepherd-output/global.profile.tsv', './../msfragger_pride_reanalysis/fragpipe23_ms42/canon/PXD005833/AM16/ptm-shepherd-output/global.profile.tsv', './../msfragger_pride_reanalysis/fragpipe23_ms42/canon/PXD005833/AM8/ptm-shepherd-output/global.profile.tsv', './../msfragger_pride_reanalysis/fragpipe23_ms42/canon/PXD005833/AM11/ptm-shepherd-output/global.profile.tsv', './../msfragger_pride_reanalysis/fragpipe23_ms42/canon/PXD005833/AM15/ptm-shepherd-output/global.profile.tsv', './../msfragger_pride_reanalysis/fragpipe23_ms42/canon/PXD005833/AM20/ptm-shepherd-output/global.profile.tsv', './../msfragger_pride_reanalysis/fragpipe23_ms42/canon/PXD005833/AM12/ptm-shepherd-output/global.profile.tsv', './../msfragger_pride_reanalysis/fragpipe23_ms42/canon/PXD005833/AM18/ptm-shepherd-output/global.profile.tsv', './../msfragger_pride_reanalysis/fragpipe23_ms42/canon/PXD005833/AM10/ptm-shepherd-output/global.profile.tsv', './../msfragger_pride_reanalysis/fragpipe23_ms42/canon/PXD005833/AM9/ptm-shepherd-output/global.profile.tsv', './../msfragger_pride_reanalysis/fragpipe23_ms42/canon/PXD005833/AM17/ptm-shepherd-output/global.profile.tsv', './../msfragger_pride_reanalysis/fragpipe23_ms42/canon/PXD005833/AM21/ptm-shepherd-output/global.profile.tsv', './../msfragger_pride_reanalysis/fragpipe23_ms42/canon/PXD005833/AM19/ptm-shepherd-output/global.profile.tsv', './../msfragger_pride_reanalysis/fragpipe23_ms42/canon/PXD005833/AM13/ptm-shepherd-output/global.profile.tsv', './../msfragger_pride_reanalysis/fragpipe23_ms42/canon/PXD005833/AM7/ptm-shepherd-output/global.profile.tsv', './../msfragger_pride_reanalysis/fragpipe23_ms42/canon/PXD005833/AM14/ptm-shepherd-output/global.profile.tsv', './../msfragger_pride_reanalysis/fragpipe23_ms42/canon/PXD014258/ESC_HF_SampleHela/ptm-shepherd-output/global.profile.tsv', './../msfragger_pride_reanalysis/fragpipe23_ms42/canon/PXD014258/ESC_HF_Sample_MCF/ptm-shepherd-output/global.profile.tsv', './../msfragger_pride_reanalysis/fragpipe23_ms42/canon/PXD014258/ESC_HF_Sample_BT474/ptm-shepherd-output/global.profile.tsv']\n"
     ]
    }
   ],
   "source": [
    "#profile after PTMShepherd\n",
    "\n",
    "data_ptm=load_ptmshepherd_output(working_folder)"
   ]
  },
  {
   "cell_type": "code",
   "execution_count": 19,
   "id": "16092272-6815-4c28-aae4-c151b6516b26",
   "metadata": {},
   "outputs": [],
   "source": [
    "expected_mods={57.0215,15.9949, 42.0106}\n",
    "expected_mods_name=['Iodoacetamide derivative/Addition of Glycine/Addition of G','Oxidation or Hydroxylation','Acetylation']"
   ]
  },
  {
   "cell_type": "code",
   "execution_count": 20,
   "id": "acc63153-03b9-45a4-a06b-88e42508dc8b",
   "metadata": {},
   "outputs": [],
   "source": [
    "for dataset, subdict in prophet_combined_datasets.items():\n",
    "    for database,data in subdict.items():\n",
    "        # fixed and variable PTM annotation\n",
    "        data['ptm_result:ptm_mass']=data['ptm_result:ptm_mass'].astype(float)\n",
    "        #mass shift annotation\n",
    "        data[\"mapped_mass_1\"]=np.nan\n",
    "        data[\"mapped_mass_2\"]=np.nan\n",
    "        data[\"mapped_mass_1\"]=data[\"ptm_result:ptm_mass\"].apply(lambda x: annotate_massshift(float(x) if isinstance(x,str) else x,data_ptm,\"mapped_mass_1\"))\n",
    "        data[\"mapped_mass_2\"]=data[\"ptm_result:ptm_mass\"].apply(lambda x: annotate_massshift(float(x) if isinstance(x,str) else x,data_ptm,\"mapped_mass_2\"))\n",
    "        data[\"n_apex\"]=data[\"mapped_mass_1\"].apply(lambda x: len(x.split(\"||\")) if isinstance(x,str) else 0)\n",
    "        #reannotate variable modifications based on mapped_mass_1\n",
    "        data[\"modifications:type_re\"]=data.apply(lambda x: np.nan if not isinstance(x[\"mapped_mass_1\"],str) \n",
    "                                                                   else \"variable\" if any([mod in x[\"mapped_mass_1\"] for mod in expected_mods_name])\n",
    "                                                                   else \"unexpected\" ,axis=1)\n",
    "        prophet_combined_datasets[dataset][database]=data"
   ]
  },
  {
   "cell_type": "markdown",
   "id": "172f4df7-02a7-44ac-85d8-7c9d32f45974",
   "metadata": {},
   "source": [
    "### Custom and hybrid FDR"
   ]
  },
  {
   "cell_type": "code",
   "execution_count": 33,
   "id": "79439293-ed3c-42f6-afd7-a7df57713dd7",
   "metadata": {
    "scrolled": true
   },
   "outputs": [
    {
     "name": "stdout",
     "output_type": "stream",
     "text": [
      "PXD002057 canon 130327_o2_03_hu_C2_2hr\n",
      "PXD002057 canon 130327_o2_05_hu_C3_2hr\n"
     ]
    },
    {
     "name": "stderr",
     "output_type": "stream",
     "text": [
      "/tmp/ipykernel_3338008/3528274130.py:10: SettingWithCopyWarning: \n",
      "A value is trying to be set on a copy of a slice from a DataFrame.\n",
      "Try using .loc[row_indexer,col_indexer] = value instead\n",
      "\n",
      "See the caveats in the documentation: https://pandas.pydata.org/pandas-docs/stable/user_guide/indexing.html#returning-a-view-versus-a-copy\n",
      "  data['protein_classes'] = data.proteins.apply(lambda x: np.unique([classify_leadprot(_) for _ in x.split(\"||\")]))\n",
      "/tmp/ipykernel_3338008/3528274130.py:12: SettingWithCopyWarning: \n",
      "A value is trying to be set on a copy of a slice from a DataFrame.\n",
      "Try using .loc[row_indexer,col_indexer] = value instead\n",
      "\n",
      "See the caveats in the documentation: https://pandas.pydata.org/pandas-docs/stable/user_guide/indexing.html#returning-a-view-versus-a-copy\n",
      "  data['isCanonical'] = data.protein_classes.apply(is_peptide_canonical)\n",
      "/tmp/ipykernel_3338008/3528274130.py:13: SettingWithCopyWarning: \n",
      "A value is trying to be set on a copy of a slice from a DataFrame.\n",
      "Try using .loc[row_indexer,col_indexer] = value instead\n",
      "\n",
      "See the caveats in the documentation: https://pandas.pydata.org/pandas-docs/stable/user_guide/indexing.html#returning-a-view-versus-a-copy\n",
      "  data['isModified']  = data.apply(classifiy_mods,axis=1)\n",
      "/tmp/ipykernel_3338008/3528274130.py:10: SettingWithCopyWarning: \n",
      "A value is trying to be set on a copy of a slice from a DataFrame.\n",
      "Try using .loc[row_indexer,col_indexer] = value instead\n",
      "\n",
      "See the caveats in the documentation: https://pandas.pydata.org/pandas-docs/stable/user_guide/indexing.html#returning-a-view-versus-a-copy\n",
      "  data['protein_classes'] = data.proteins.apply(lambda x: np.unique([classify_leadprot(_) for _ in x.split(\"||\")]))\n",
      "/tmp/ipykernel_3338008/3528274130.py:12: SettingWithCopyWarning: \n",
      "A value is trying to be set on a copy of a slice from a DataFrame.\n",
      "Try using .loc[row_indexer,col_indexer] = value instead\n",
      "\n",
      "See the caveats in the documentation: https://pandas.pydata.org/pandas-docs/stable/user_guide/indexing.html#returning-a-view-versus-a-copy\n",
      "  data['isCanonical'] = data.protein_classes.apply(is_peptide_canonical)\n",
      "/tmp/ipykernel_3338008/3528274130.py:13: SettingWithCopyWarning: \n",
      "A value is trying to be set on a copy of a slice from a DataFrame.\n",
      "Try using .loc[row_indexer,col_indexer] = value instead\n",
      "\n",
      "See the caveats in the documentation: https://pandas.pydata.org/pandas-docs/stable/user_guide/indexing.html#returning-a-view-versus-a-copy\n",
      "  data['isModified']  = data.apply(classifiy_mods,axis=1)\n"
     ]
    },
    {
     "name": "stdout",
     "output_type": "stream",
     "text": [
      "PXD002057 canon 130327_o2_06_hu_P3_2hr\n",
      "PXD002057 canon 130327_o2_01_hu_C1_2hr\n"
     ]
    },
    {
     "name": "stderr",
     "output_type": "stream",
     "text": [
      "/tmp/ipykernel_3338008/3528274130.py:10: SettingWithCopyWarning: \n",
      "A value is trying to be set on a copy of a slice from a DataFrame.\n",
      "Try using .loc[row_indexer,col_indexer] = value instead\n",
      "\n",
      "See the caveats in the documentation: https://pandas.pydata.org/pandas-docs/stable/user_guide/indexing.html#returning-a-view-versus-a-copy\n",
      "  data['protein_classes'] = data.proteins.apply(lambda x: np.unique([classify_leadprot(_) for _ in x.split(\"||\")]))\n",
      "/tmp/ipykernel_3338008/3528274130.py:12: SettingWithCopyWarning: \n",
      "A value is trying to be set on a copy of a slice from a DataFrame.\n",
      "Try using .loc[row_indexer,col_indexer] = value instead\n",
      "\n",
      "See the caveats in the documentation: https://pandas.pydata.org/pandas-docs/stable/user_guide/indexing.html#returning-a-view-versus-a-copy\n",
      "  data['isCanonical'] = data.protein_classes.apply(is_peptide_canonical)\n",
      "/tmp/ipykernel_3338008/3528274130.py:13: SettingWithCopyWarning: \n",
      "A value is trying to be set on a copy of a slice from a DataFrame.\n",
      "Try using .loc[row_indexer,col_indexer] = value instead\n",
      "\n",
      "See the caveats in the documentation: https://pandas.pydata.org/pandas-docs/stable/user_guide/indexing.html#returning-a-view-versus-a-copy\n",
      "  data['isModified']  = data.apply(classifiy_mods,axis=1)\n",
      "/tmp/ipykernel_3338008/3528274130.py:10: SettingWithCopyWarning: \n",
      "A value is trying to be set on a copy of a slice from a DataFrame.\n",
      "Try using .loc[row_indexer,col_indexer] = value instead\n",
      "\n",
      "See the caveats in the documentation: https://pandas.pydata.org/pandas-docs/stable/user_guide/indexing.html#returning-a-view-versus-a-copy\n",
      "  data['protein_classes'] = data.proteins.apply(lambda x: np.unique([classify_leadprot(_) for _ in x.split(\"||\")]))\n",
      "/tmp/ipykernel_3338008/3528274130.py:12: SettingWithCopyWarning: \n",
      "A value is trying to be set on a copy of a slice from a DataFrame.\n",
      "Try using .loc[row_indexer,col_indexer] = value instead\n",
      "\n",
      "See the caveats in the documentation: https://pandas.pydata.org/pandas-docs/stable/user_guide/indexing.html#returning-a-view-versus-a-copy\n",
      "  data['isCanonical'] = data.protein_classes.apply(is_peptide_canonical)\n",
      "/tmp/ipykernel_3338008/3528274130.py:13: SettingWithCopyWarning: \n",
      "A value is trying to be set on a copy of a slice from a DataFrame.\n",
      "Try using .loc[row_indexer,col_indexer] = value instead\n",
      "\n",
      "See the caveats in the documentation: https://pandas.pydata.org/pandas-docs/stable/user_guide/indexing.html#returning-a-view-versus-a-copy\n",
      "  data['isModified']  = data.apply(classifiy_mods,axis=1)\n",
      "/tmp/ipykernel_3338008/3528274130.py:10: SettingWithCopyWarning: \n",
      "A value is trying to be set on a copy of a slice from a DataFrame.\n",
      "Try using .loc[row_indexer,col_indexer] = value instead\n",
      "\n",
      "See the caveats in the documentation: https://pandas.pydata.org/pandas-docs/stable/user_guide/indexing.html#returning-a-view-versus-a-copy\n",
      "  data['protein_classes'] = data.proteins.apply(lambda x: np.unique([classify_leadprot(_) for _ in x.split(\"||\")]))\n",
      "/tmp/ipykernel_3338008/3528274130.py:12: SettingWithCopyWarning: \n",
      "A value is trying to be set on a copy of a slice from a DataFrame.\n",
      "Try using .loc[row_indexer,col_indexer] = value instead\n",
      "\n",
      "See the caveats in the documentation: https://pandas.pydata.org/pandas-docs/stable/user_guide/indexing.html#returning-a-view-versus-a-copy\n",
      "  data['isCanonical'] = data.protein_classes.apply(is_peptide_canonical)\n"
     ]
    },
    {
     "name": "stdout",
     "output_type": "stream",
     "text": [
      "PXD002057 canon 130327_o2_02_hu_P1_2hr\n",
      "PXD002057 canon 130327_o2_04_hu_P2_2hr\n"
     ]
    },
    {
     "name": "stderr",
     "output_type": "stream",
     "text": [
      "/tmp/ipykernel_3338008/3528274130.py:13: SettingWithCopyWarning: \n",
      "A value is trying to be set on a copy of a slice from a DataFrame.\n",
      "Try using .loc[row_indexer,col_indexer] = value instead\n",
      "\n",
      "See the caveats in the documentation: https://pandas.pydata.org/pandas-docs/stable/user_guide/indexing.html#returning-a-view-versus-a-copy\n",
      "  data['isModified']  = data.apply(classifiy_mods,axis=1)\n",
      "/tmp/ipykernel_3338008/3528274130.py:10: SettingWithCopyWarning: \n",
      "A value is trying to be set on a copy of a slice from a DataFrame.\n",
      "Try using .loc[row_indexer,col_indexer] = value instead\n",
      "\n",
      "See the caveats in the documentation: https://pandas.pydata.org/pandas-docs/stable/user_guide/indexing.html#returning-a-view-versus-a-copy\n",
      "  data['protein_classes'] = data.proteins.apply(lambda x: np.unique([classify_leadprot(_) for _ in x.split(\"||\")]))\n",
      "/tmp/ipykernel_3338008/3528274130.py:12: SettingWithCopyWarning: \n",
      "A value is trying to be set on a copy of a slice from a DataFrame.\n",
      "Try using .loc[row_indexer,col_indexer] = value instead\n",
      "\n",
      "See the caveats in the documentation: https://pandas.pydata.org/pandas-docs/stable/user_guide/indexing.html#returning-a-view-versus-a-copy\n",
      "  data['isCanonical'] = data.protein_classes.apply(is_peptide_canonical)\n",
      "/tmp/ipykernel_3338008/3528274130.py:13: SettingWithCopyWarning: \n",
      "A value is trying to be set on a copy of a slice from a DataFrame.\n",
      "Try using .loc[row_indexer,col_indexer] = value instead\n",
      "\n",
      "See the caveats in the documentation: https://pandas.pydata.org/pandas-docs/stable/user_guide/indexing.html#returning-a-view-versus-a-copy\n",
      "  data['isModified']  = data.apply(classifiy_mods,axis=1)\n"
     ]
    },
    {
     "name": "stdout",
     "output_type": "stream",
     "text": [
      "PXD002057 trembl 130327_o2_03_hu_C2_2hr\n",
      "PXD002057 trembl 130327_o2_05_hu_C3_2hr\n"
     ]
    },
    {
     "name": "stderr",
     "output_type": "stream",
     "text": [
      "/tmp/ipykernel_3338008/3528274130.py:10: SettingWithCopyWarning: \n",
      "A value is trying to be set on a copy of a slice from a DataFrame.\n",
      "Try using .loc[row_indexer,col_indexer] = value instead\n",
      "\n",
      "See the caveats in the documentation: https://pandas.pydata.org/pandas-docs/stable/user_guide/indexing.html#returning-a-view-versus-a-copy\n",
      "  data['protein_classes'] = data.proteins.apply(lambda x: np.unique([classify_leadprot(_) for _ in x.split(\"||\")]))\n",
      "/tmp/ipykernel_3338008/3528274130.py:12: SettingWithCopyWarning: \n",
      "A value is trying to be set on a copy of a slice from a DataFrame.\n",
      "Try using .loc[row_indexer,col_indexer] = value instead\n",
      "\n",
      "See the caveats in the documentation: https://pandas.pydata.org/pandas-docs/stable/user_guide/indexing.html#returning-a-view-versus-a-copy\n",
      "  data['isCanonical'] = data.protein_classes.apply(is_peptide_canonical)\n",
      "/tmp/ipykernel_3338008/3528274130.py:13: SettingWithCopyWarning: \n",
      "A value is trying to be set on a copy of a slice from a DataFrame.\n",
      "Try using .loc[row_indexer,col_indexer] = value instead\n",
      "\n",
      "See the caveats in the documentation: https://pandas.pydata.org/pandas-docs/stable/user_guide/indexing.html#returning-a-view-versus-a-copy\n",
      "  data['isModified']  = data.apply(classifiy_mods,axis=1)\n",
      "/tmp/ipykernel_3338008/3528274130.py:10: SettingWithCopyWarning: \n",
      "A value is trying to be set on a copy of a slice from a DataFrame.\n",
      "Try using .loc[row_indexer,col_indexer] = value instead\n",
      "\n",
      "See the caveats in the documentation: https://pandas.pydata.org/pandas-docs/stable/user_guide/indexing.html#returning-a-view-versus-a-copy\n",
      "  data['protein_classes'] = data.proteins.apply(lambda x: np.unique([classify_leadprot(_) for _ in x.split(\"||\")]))\n",
      "/tmp/ipykernel_3338008/3528274130.py:12: SettingWithCopyWarning: \n",
      "A value is trying to be set on a copy of a slice from a DataFrame.\n",
      "Try using .loc[row_indexer,col_indexer] = value instead\n",
      "\n",
      "See the caveats in the documentation: https://pandas.pydata.org/pandas-docs/stable/user_guide/indexing.html#returning-a-view-versus-a-copy\n",
      "  data['isCanonical'] = data.protein_classes.apply(is_peptide_canonical)\n",
      "/tmp/ipykernel_3338008/3528274130.py:13: SettingWithCopyWarning: \n",
      "A value is trying to be set on a copy of a slice from a DataFrame.\n",
      "Try using .loc[row_indexer,col_indexer] = value instead\n",
      "\n",
      "See the caveats in the documentation: https://pandas.pydata.org/pandas-docs/stable/user_guide/indexing.html#returning-a-view-versus-a-copy\n",
      "  data['isModified']  = data.apply(classifiy_mods,axis=1)\n"
     ]
    },
    {
     "name": "stdout",
     "output_type": "stream",
     "text": [
      "PXD002057 trembl 130327_o2_06_hu_P3_2hr\n",
      "PXD002057 trembl 130327_o2_01_hu_C1_2hr\n"
     ]
    },
    {
     "name": "stderr",
     "output_type": "stream",
     "text": [
      "/tmp/ipykernel_3338008/3528274130.py:10: SettingWithCopyWarning: \n",
      "A value is trying to be set on a copy of a slice from a DataFrame.\n",
      "Try using .loc[row_indexer,col_indexer] = value instead\n",
      "\n",
      "See the caveats in the documentation: https://pandas.pydata.org/pandas-docs/stable/user_guide/indexing.html#returning-a-view-versus-a-copy\n",
      "  data['protein_classes'] = data.proteins.apply(lambda x: np.unique([classify_leadprot(_) for _ in x.split(\"||\")]))\n",
      "/tmp/ipykernel_3338008/3528274130.py:12: SettingWithCopyWarning: \n",
      "A value is trying to be set on a copy of a slice from a DataFrame.\n",
      "Try using .loc[row_indexer,col_indexer] = value instead\n",
      "\n",
      "See the caveats in the documentation: https://pandas.pydata.org/pandas-docs/stable/user_guide/indexing.html#returning-a-view-versus-a-copy\n",
      "  data['isCanonical'] = data.protein_classes.apply(is_peptide_canonical)\n",
      "/tmp/ipykernel_3338008/3528274130.py:13: SettingWithCopyWarning: \n",
      "A value is trying to be set on a copy of a slice from a DataFrame.\n",
      "Try using .loc[row_indexer,col_indexer] = value instead\n",
      "\n",
      "See the caveats in the documentation: https://pandas.pydata.org/pandas-docs/stable/user_guide/indexing.html#returning-a-view-versus-a-copy\n",
      "  data['isModified']  = data.apply(classifiy_mods,axis=1)\n",
      "/tmp/ipykernel_3338008/3528274130.py:10: SettingWithCopyWarning: \n",
      "A value is trying to be set on a copy of a slice from a DataFrame.\n",
      "Try using .loc[row_indexer,col_indexer] = value instead\n",
      "\n",
      "See the caveats in the documentation: https://pandas.pydata.org/pandas-docs/stable/user_guide/indexing.html#returning-a-view-versus-a-copy\n",
      "  data['protein_classes'] = data.proteins.apply(lambda x: np.unique([classify_leadprot(_) for _ in x.split(\"||\")]))\n",
      "/tmp/ipykernel_3338008/3528274130.py:12: SettingWithCopyWarning: \n",
      "A value is trying to be set on a copy of a slice from a DataFrame.\n",
      "Try using .loc[row_indexer,col_indexer] = value instead\n",
      "\n",
      "See the caveats in the documentation: https://pandas.pydata.org/pandas-docs/stable/user_guide/indexing.html#returning-a-view-versus-a-copy\n",
      "  data['isCanonical'] = data.protein_classes.apply(is_peptide_canonical)\n",
      "/tmp/ipykernel_3338008/3528274130.py:13: SettingWithCopyWarning: \n",
      "A value is trying to be set on a copy of a slice from a DataFrame.\n",
      "Try using .loc[row_indexer,col_indexer] = value instead\n",
      "\n",
      "See the caveats in the documentation: https://pandas.pydata.org/pandas-docs/stable/user_guide/indexing.html#returning-a-view-versus-a-copy\n",
      "  data['isModified']  = data.apply(classifiy_mods,axis=1)\n",
      "/tmp/ipykernel_3338008/3528274130.py:10: SettingWithCopyWarning: \n",
      "A value is trying to be set on a copy of a slice from a DataFrame.\n",
      "Try using .loc[row_indexer,col_indexer] = value instead\n",
      "\n",
      "See the caveats in the documentation: https://pandas.pydata.org/pandas-docs/stable/user_guide/indexing.html#returning-a-view-versus-a-copy\n",
      "  data['protein_classes'] = data.proteins.apply(lambda x: np.unique([classify_leadprot(_) for _ in x.split(\"||\")]))\n",
      "/tmp/ipykernel_3338008/3528274130.py:12: SettingWithCopyWarning: \n",
      "A value is trying to be set on a copy of a slice from a DataFrame.\n",
      "Try using .loc[row_indexer,col_indexer] = value instead\n",
      "\n",
      "See the caveats in the documentation: https://pandas.pydata.org/pandas-docs/stable/user_guide/indexing.html#returning-a-view-versus-a-copy\n",
      "  data['isCanonical'] = data.protein_classes.apply(is_peptide_canonical)\n",
      "/tmp/ipykernel_3338008/3528274130.py:13: SettingWithCopyWarning: \n",
      "A value is trying to be set on a copy of a slice from a DataFrame.\n",
      "Try using .loc[row_indexer,col_indexer] = value instead\n",
      "\n",
      "See the caveats in the documentation: https://pandas.pydata.org/pandas-docs/stable/user_guide/indexing.html#returning-a-view-versus-a-copy\n",
      "  data['isModified']  = data.apply(classifiy_mods,axis=1)\n"
     ]
    },
    {
     "name": "stdout",
     "output_type": "stream",
     "text": [
      "PXD002057 trembl 130327_o2_02_hu_P1_2hr\n",
      "PXD002057 trembl 130327_o2_04_hu_P2_2hr\n"
     ]
    },
    {
     "name": "stderr",
     "output_type": "stream",
     "text": [
      "/tmp/ipykernel_3338008/3528274130.py:10: SettingWithCopyWarning: \n",
      "A value is trying to be set on a copy of a slice from a DataFrame.\n",
      "Try using .loc[row_indexer,col_indexer] = value instead\n",
      "\n",
      "See the caveats in the documentation: https://pandas.pydata.org/pandas-docs/stable/user_guide/indexing.html#returning-a-view-versus-a-copy\n",
      "  data['protein_classes'] = data.proteins.apply(lambda x: np.unique([classify_leadprot(_) for _ in x.split(\"||\")]))\n",
      "/tmp/ipykernel_3338008/3528274130.py:12: SettingWithCopyWarning: \n",
      "A value is trying to be set on a copy of a slice from a DataFrame.\n",
      "Try using .loc[row_indexer,col_indexer] = value instead\n",
      "\n",
      "See the caveats in the documentation: https://pandas.pydata.org/pandas-docs/stable/user_guide/indexing.html#returning-a-view-versus-a-copy\n",
      "  data['isCanonical'] = data.protein_classes.apply(is_peptide_canonical)\n",
      "/tmp/ipykernel_3338008/3528274130.py:13: SettingWithCopyWarning: \n",
      "A value is trying to be set on a copy of a slice from a DataFrame.\n",
      "Try using .loc[row_indexer,col_indexer] = value instead\n",
      "\n",
      "See the caveats in the documentation: https://pandas.pydata.org/pandas-docs/stable/user_guide/indexing.html#returning-a-view-versus-a-copy\n",
      "  data['isModified']  = data.apply(classifiy_mods,axis=1)\n"
     ]
    },
    {
     "name": "stdout",
     "output_type": "stream",
     "text": [
      "PXD002057 openprot 130327_o2_03_hu_C2_2hr\n",
      "PXD002057 openprot 130327_o2_05_hu_C3_2hr\n"
     ]
    },
    {
     "name": "stderr",
     "output_type": "stream",
     "text": [
      "/tmp/ipykernel_3338008/3528274130.py:10: SettingWithCopyWarning: \n",
      "A value is trying to be set on a copy of a slice from a DataFrame.\n",
      "Try using .loc[row_indexer,col_indexer] = value instead\n",
      "\n",
      "See the caveats in the documentation: https://pandas.pydata.org/pandas-docs/stable/user_guide/indexing.html#returning-a-view-versus-a-copy\n",
      "  data['protein_classes'] = data.proteins.apply(lambda x: np.unique([classify_leadprot(_) for _ in x.split(\"||\")]))\n",
      "/tmp/ipykernel_3338008/3528274130.py:12: SettingWithCopyWarning: \n",
      "A value is trying to be set on a copy of a slice from a DataFrame.\n",
      "Try using .loc[row_indexer,col_indexer] = value instead\n",
      "\n",
      "See the caveats in the documentation: https://pandas.pydata.org/pandas-docs/stable/user_guide/indexing.html#returning-a-view-versus-a-copy\n",
      "  data['isCanonical'] = data.protein_classes.apply(is_peptide_canonical)\n",
      "/tmp/ipykernel_3338008/3528274130.py:13: SettingWithCopyWarning: \n",
      "A value is trying to be set on a copy of a slice from a DataFrame.\n",
      "Try using .loc[row_indexer,col_indexer] = value instead\n",
      "\n",
      "See the caveats in the documentation: https://pandas.pydata.org/pandas-docs/stable/user_guide/indexing.html#returning-a-view-versus-a-copy\n",
      "  data['isModified']  = data.apply(classifiy_mods,axis=1)\n",
      "/tmp/ipykernel_3338008/3528274130.py:10: SettingWithCopyWarning: \n",
      "A value is trying to be set on a copy of a slice from a DataFrame.\n",
      "Try using .loc[row_indexer,col_indexer] = value instead\n",
      "\n",
      "See the caveats in the documentation: https://pandas.pydata.org/pandas-docs/stable/user_guide/indexing.html#returning-a-view-versus-a-copy\n",
      "  data['protein_classes'] = data.proteins.apply(lambda x: np.unique([classify_leadprot(_) for _ in x.split(\"||\")]))\n",
      "/tmp/ipykernel_3338008/3528274130.py:12: SettingWithCopyWarning: \n",
      "A value is trying to be set on a copy of a slice from a DataFrame.\n",
      "Try using .loc[row_indexer,col_indexer] = value instead\n",
      "\n",
      "See the caveats in the documentation: https://pandas.pydata.org/pandas-docs/stable/user_guide/indexing.html#returning-a-view-versus-a-copy\n",
      "  data['isCanonical'] = data.protein_classes.apply(is_peptide_canonical)\n",
      "/tmp/ipykernel_3338008/3528274130.py:13: SettingWithCopyWarning: \n",
      "A value is trying to be set on a copy of a slice from a DataFrame.\n",
      "Try using .loc[row_indexer,col_indexer] = value instead\n",
      "\n",
      "See the caveats in the documentation: https://pandas.pydata.org/pandas-docs/stable/user_guide/indexing.html#returning-a-view-versus-a-copy\n",
      "  data['isModified']  = data.apply(classifiy_mods,axis=1)\n"
     ]
    },
    {
     "name": "stdout",
     "output_type": "stream",
     "text": [
      "PXD002057 openprot 130327_o2_06_hu_P3_2hr\n",
      "PXD002057 openprot 130327_o2_01_hu_C1_2hr\n"
     ]
    },
    {
     "name": "stderr",
     "output_type": "stream",
     "text": [
      "/tmp/ipykernel_3338008/3528274130.py:10: SettingWithCopyWarning: \n",
      "A value is trying to be set on a copy of a slice from a DataFrame.\n",
      "Try using .loc[row_indexer,col_indexer] = value instead\n",
      "\n",
      "See the caveats in the documentation: https://pandas.pydata.org/pandas-docs/stable/user_guide/indexing.html#returning-a-view-versus-a-copy\n",
      "  data['protein_classes'] = data.proteins.apply(lambda x: np.unique([classify_leadprot(_) for _ in x.split(\"||\")]))\n",
      "/tmp/ipykernel_3338008/3528274130.py:12: SettingWithCopyWarning: \n",
      "A value is trying to be set on a copy of a slice from a DataFrame.\n",
      "Try using .loc[row_indexer,col_indexer] = value instead\n",
      "\n",
      "See the caveats in the documentation: https://pandas.pydata.org/pandas-docs/stable/user_guide/indexing.html#returning-a-view-versus-a-copy\n",
      "  data['isCanonical'] = data.protein_classes.apply(is_peptide_canonical)\n",
      "/tmp/ipykernel_3338008/3528274130.py:13: SettingWithCopyWarning: \n",
      "A value is trying to be set on a copy of a slice from a DataFrame.\n",
      "Try using .loc[row_indexer,col_indexer] = value instead\n",
      "\n",
      "See the caveats in the documentation: https://pandas.pydata.org/pandas-docs/stable/user_guide/indexing.html#returning-a-view-versus-a-copy\n",
      "  data['isModified']  = data.apply(classifiy_mods,axis=1)\n",
      "/tmp/ipykernel_3338008/3528274130.py:10: SettingWithCopyWarning: \n",
      "A value is trying to be set on a copy of a slice from a DataFrame.\n",
      "Try using .loc[row_indexer,col_indexer] = value instead\n",
      "\n",
      "See the caveats in the documentation: https://pandas.pydata.org/pandas-docs/stable/user_guide/indexing.html#returning-a-view-versus-a-copy\n",
      "  data['protein_classes'] = data.proteins.apply(lambda x: np.unique([classify_leadprot(_) for _ in x.split(\"||\")]))\n",
      "/tmp/ipykernel_3338008/3528274130.py:12: SettingWithCopyWarning: \n",
      "A value is trying to be set on a copy of a slice from a DataFrame.\n",
      "Try using .loc[row_indexer,col_indexer] = value instead\n",
      "\n",
      "See the caveats in the documentation: https://pandas.pydata.org/pandas-docs/stable/user_guide/indexing.html#returning-a-view-versus-a-copy\n",
      "  data['isCanonical'] = data.protein_classes.apply(is_peptide_canonical)\n",
      "/tmp/ipykernel_3338008/3528274130.py:13: SettingWithCopyWarning: \n",
      "A value is trying to be set on a copy of a slice from a DataFrame.\n",
      "Try using .loc[row_indexer,col_indexer] = value instead\n",
      "\n",
      "See the caveats in the documentation: https://pandas.pydata.org/pandas-docs/stable/user_guide/indexing.html#returning-a-view-versus-a-copy\n",
      "  data['isModified']  = data.apply(classifiy_mods,axis=1)\n",
      "/tmp/ipykernel_3338008/3528274130.py:10: SettingWithCopyWarning: \n",
      "A value is trying to be set on a copy of a slice from a DataFrame.\n",
      "Try using .loc[row_indexer,col_indexer] = value instead\n",
      "\n",
      "See the caveats in the documentation: https://pandas.pydata.org/pandas-docs/stable/user_guide/indexing.html#returning-a-view-versus-a-copy\n",
      "  data['protein_classes'] = data.proteins.apply(lambda x: np.unique([classify_leadprot(_) for _ in x.split(\"||\")]))\n",
      "/tmp/ipykernel_3338008/3528274130.py:12: SettingWithCopyWarning: \n",
      "A value is trying to be set on a copy of a slice from a DataFrame.\n",
      "Try using .loc[row_indexer,col_indexer] = value instead\n",
      "\n",
      "See the caveats in the documentation: https://pandas.pydata.org/pandas-docs/stable/user_guide/indexing.html#returning-a-view-versus-a-copy\n",
      "  data['isCanonical'] = data.protein_classes.apply(is_peptide_canonical)\n"
     ]
    },
    {
     "name": "stdout",
     "output_type": "stream",
     "text": [
      "PXD002057 openprot 130327_o2_02_hu_P1_2hr\n"
     ]
    },
    {
     "name": "stderr",
     "output_type": "stream",
     "text": [
      "/tmp/ipykernel_3338008/3528274130.py:13: SettingWithCopyWarning: \n",
      "A value is trying to be set on a copy of a slice from a DataFrame.\n",
      "Try using .loc[row_indexer,col_indexer] = value instead\n",
      "\n",
      "See the caveats in the documentation: https://pandas.pydata.org/pandas-docs/stable/user_guide/indexing.html#returning-a-view-versus-a-copy\n",
      "  data['isModified']  = data.apply(classifiy_mods,axis=1)\n",
      "/tmp/ipykernel_3338008/3528274130.py:10: SettingWithCopyWarning: \n",
      "A value is trying to be set on a copy of a slice from a DataFrame.\n",
      "Try using .loc[row_indexer,col_indexer] = value instead\n",
      "\n",
      "See the caveats in the documentation: https://pandas.pydata.org/pandas-docs/stable/user_guide/indexing.html#returning-a-view-versus-a-copy\n",
      "  data['protein_classes'] = data.proteins.apply(lambda x: np.unique([classify_leadprot(_) for _ in x.split(\"||\")]))\n",
      "/tmp/ipykernel_3338008/3528274130.py:12: SettingWithCopyWarning: \n",
      "A value is trying to be set on a copy of a slice from a DataFrame.\n",
      "Try using .loc[row_indexer,col_indexer] = value instead\n",
      "\n",
      "See the caveats in the documentation: https://pandas.pydata.org/pandas-docs/stable/user_guide/indexing.html#returning-a-view-versus-a-copy\n",
      "  data['isCanonical'] = data.protein_classes.apply(is_peptide_canonical)\n"
     ]
    },
    {
     "name": "stdout",
     "output_type": "stream",
     "text": [
      "PXD002057 openprot 130327_o2_04_hu_P2_2hr\n"
     ]
    },
    {
     "name": "stderr",
     "output_type": "stream",
     "text": [
      "/tmp/ipykernel_3338008/3528274130.py:13: SettingWithCopyWarning: \n",
      "A value is trying to be set on a copy of a slice from a DataFrame.\n",
      "Try using .loc[row_indexer,col_indexer] = value instead\n",
      "\n",
      "See the caveats in the documentation: https://pandas.pydata.org/pandas-docs/stable/user_guide/indexing.html#returning-a-view-versus-a-copy\n",
      "  data['isModified']  = data.apply(classifiy_mods,axis=1)\n"
     ]
    },
    {
     "name": "stdout",
     "output_type": "stream",
     "text": [
      "PXD005833 canon AM13\n"
     ]
    },
    {
     "name": "stderr",
     "output_type": "stream",
     "text": [
      "/tmp/ipykernel_3338008/3528274130.py:10: SettingWithCopyWarning: \n",
      "A value is trying to be set on a copy of a slice from a DataFrame.\n",
      "Try using .loc[row_indexer,col_indexer] = value instead\n",
      "\n",
      "See the caveats in the documentation: https://pandas.pydata.org/pandas-docs/stable/user_guide/indexing.html#returning-a-view-versus-a-copy\n",
      "  data['protein_classes'] = data.proteins.apply(lambda x: np.unique([classify_leadprot(_) for _ in x.split(\"||\")]))\n",
      "/tmp/ipykernel_3338008/3528274130.py:12: SettingWithCopyWarning: \n",
      "A value is trying to be set on a copy of a slice from a DataFrame.\n",
      "Try using .loc[row_indexer,col_indexer] = value instead\n",
      "\n",
      "See the caveats in the documentation: https://pandas.pydata.org/pandas-docs/stable/user_guide/indexing.html#returning-a-view-versus-a-copy\n",
      "  data['isCanonical'] = data.protein_classes.apply(is_peptide_canonical)\n",
      "/tmp/ipykernel_3338008/3528274130.py:13: SettingWithCopyWarning: \n",
      "A value is trying to be set on a copy of a slice from a DataFrame.\n",
      "Try using .loc[row_indexer,col_indexer] = value instead\n",
      "\n",
      "See the caveats in the documentation: https://pandas.pydata.org/pandas-docs/stable/user_guide/indexing.html#returning-a-view-versus-a-copy\n",
      "  data['isModified']  = data.apply(classifiy_mods,axis=1)\n"
     ]
    },
    {
     "name": "stdout",
     "output_type": "stream",
     "text": [
      "PXD005833 canon AM7\n",
      "PXD005833 canon AM18\n"
     ]
    },
    {
     "name": "stderr",
     "output_type": "stream",
     "text": [
      "/tmp/ipykernel_3338008/3528274130.py:10: SettingWithCopyWarning: \n",
      "A value is trying to be set on a copy of a slice from a DataFrame.\n",
      "Try using .loc[row_indexer,col_indexer] = value instead\n",
      "\n",
      "See the caveats in the documentation: https://pandas.pydata.org/pandas-docs/stable/user_guide/indexing.html#returning-a-view-versus-a-copy\n",
      "  data['protein_classes'] = data.proteins.apply(lambda x: np.unique([classify_leadprot(_) for _ in x.split(\"||\")]))\n",
      "/tmp/ipykernel_3338008/3528274130.py:12: SettingWithCopyWarning: \n",
      "A value is trying to be set on a copy of a slice from a DataFrame.\n",
      "Try using .loc[row_indexer,col_indexer] = value instead\n",
      "\n",
      "See the caveats in the documentation: https://pandas.pydata.org/pandas-docs/stable/user_guide/indexing.html#returning-a-view-versus-a-copy\n",
      "  data['isCanonical'] = data.protein_classes.apply(is_peptide_canonical)\n",
      "/tmp/ipykernel_3338008/3528274130.py:13: SettingWithCopyWarning: \n",
      "A value is trying to be set on a copy of a slice from a DataFrame.\n",
      "Try using .loc[row_indexer,col_indexer] = value instead\n",
      "\n",
      "See the caveats in the documentation: https://pandas.pydata.org/pandas-docs/stable/user_guide/indexing.html#returning-a-view-versus-a-copy\n",
      "  data['isModified']  = data.apply(classifiy_mods,axis=1)\n",
      "/tmp/ipykernel_3338008/3528274130.py:10: SettingWithCopyWarning: \n",
      "A value is trying to be set on a copy of a slice from a DataFrame.\n",
      "Try using .loc[row_indexer,col_indexer] = value instead\n",
      "\n",
      "See the caveats in the documentation: https://pandas.pydata.org/pandas-docs/stable/user_guide/indexing.html#returning-a-view-versus-a-copy\n",
      "  data['protein_classes'] = data.proteins.apply(lambda x: np.unique([classify_leadprot(_) for _ in x.split(\"||\")]))\n",
      "/tmp/ipykernel_3338008/3528274130.py:12: SettingWithCopyWarning: \n",
      "A value is trying to be set on a copy of a slice from a DataFrame.\n",
      "Try using .loc[row_indexer,col_indexer] = value instead\n",
      "\n",
      "See the caveats in the documentation: https://pandas.pydata.org/pandas-docs/stable/user_guide/indexing.html#returning-a-view-versus-a-copy\n",
      "  data['isCanonical'] = data.protein_classes.apply(is_peptide_canonical)\n",
      "/tmp/ipykernel_3338008/3528274130.py:13: SettingWithCopyWarning: \n",
      "A value is trying to be set on a copy of a slice from a DataFrame.\n",
      "Try using .loc[row_indexer,col_indexer] = value instead\n",
      "\n",
      "See the caveats in the documentation: https://pandas.pydata.org/pandas-docs/stable/user_guide/indexing.html#returning-a-view-versus-a-copy\n",
      "  data['isModified']  = data.apply(classifiy_mods,axis=1)\n",
      "/tmp/ipykernel_3338008/3528274130.py:10: SettingWithCopyWarning: \n",
      "A value is trying to be set on a copy of a slice from a DataFrame.\n",
      "Try using .loc[row_indexer,col_indexer] = value instead\n",
      "\n",
      "See the caveats in the documentation: https://pandas.pydata.org/pandas-docs/stable/user_guide/indexing.html#returning-a-view-versus-a-copy\n",
      "  data['protein_classes'] = data.proteins.apply(lambda x: np.unique([classify_leadprot(_) for _ in x.split(\"||\")]))\n"
     ]
    },
    {
     "name": "stdout",
     "output_type": "stream",
     "text": [
      "PXD005833 canon AM20\n",
      "PXD005833 canon AM12\n"
     ]
    },
    {
     "name": "stderr",
     "output_type": "stream",
     "text": [
      "/tmp/ipykernel_3338008/3528274130.py:12: SettingWithCopyWarning: \n",
      "A value is trying to be set on a copy of a slice from a DataFrame.\n",
      "Try using .loc[row_indexer,col_indexer] = value instead\n",
      "\n",
      "See the caveats in the documentation: https://pandas.pydata.org/pandas-docs/stable/user_guide/indexing.html#returning-a-view-versus-a-copy\n",
      "  data['isCanonical'] = data.protein_classes.apply(is_peptide_canonical)\n",
      "/tmp/ipykernel_3338008/3528274130.py:13: SettingWithCopyWarning: \n",
      "A value is trying to be set on a copy of a slice from a DataFrame.\n",
      "Try using .loc[row_indexer,col_indexer] = value instead\n",
      "\n",
      "See the caveats in the documentation: https://pandas.pydata.org/pandas-docs/stable/user_guide/indexing.html#returning-a-view-versus-a-copy\n",
      "  data['isModified']  = data.apply(classifiy_mods,axis=1)\n",
      "/tmp/ipykernel_3338008/3528274130.py:10: SettingWithCopyWarning: \n",
      "A value is trying to be set on a copy of a slice from a DataFrame.\n",
      "Try using .loc[row_indexer,col_indexer] = value instead\n",
      "\n",
      "See the caveats in the documentation: https://pandas.pydata.org/pandas-docs/stable/user_guide/indexing.html#returning-a-view-versus-a-copy\n",
      "  data['protein_classes'] = data.proteins.apply(lambda x: np.unique([classify_leadprot(_) for _ in x.split(\"||\")]))\n",
      "/tmp/ipykernel_3338008/3528274130.py:12: SettingWithCopyWarning: \n",
      "A value is trying to be set on a copy of a slice from a DataFrame.\n",
      "Try using .loc[row_indexer,col_indexer] = value instead\n",
      "\n",
      "See the caveats in the documentation: https://pandas.pydata.org/pandas-docs/stable/user_guide/indexing.html#returning-a-view-versus-a-copy\n",
      "  data['isCanonical'] = data.protein_classes.apply(is_peptide_canonical)\n",
      "/tmp/ipykernel_3338008/3528274130.py:13: SettingWithCopyWarning: \n",
      "A value is trying to be set on a copy of a slice from a DataFrame.\n",
      "Try using .loc[row_indexer,col_indexer] = value instead\n",
      "\n",
      "See the caveats in the documentation: https://pandas.pydata.org/pandas-docs/stable/user_guide/indexing.html#returning-a-view-versus-a-copy\n",
      "  data['isModified']  = data.apply(classifiy_mods,axis=1)\n",
      "/tmp/ipykernel_3338008/3528274130.py:10: SettingWithCopyWarning: \n",
      "A value is trying to be set on a copy of a slice from a DataFrame.\n",
      "Try using .loc[row_indexer,col_indexer] = value instead\n",
      "\n",
      "See the caveats in the documentation: https://pandas.pydata.org/pandas-docs/stable/user_guide/indexing.html#returning-a-view-versus-a-copy\n",
      "  data['protein_classes'] = data.proteins.apply(lambda x: np.unique([classify_leadprot(_) for _ in x.split(\"||\")]))\n"
     ]
    },
    {
     "name": "stdout",
     "output_type": "stream",
     "text": [
      "PXD005833 canon AM14\n"
     ]
    },
    {
     "name": "stderr",
     "output_type": "stream",
     "text": [
      "/tmp/ipykernel_3338008/3528274130.py:12: SettingWithCopyWarning: \n",
      "A value is trying to be set on a copy of a slice from a DataFrame.\n",
      "Try using .loc[row_indexer,col_indexer] = value instead\n",
      "\n",
      "See the caveats in the documentation: https://pandas.pydata.org/pandas-docs/stable/user_guide/indexing.html#returning-a-view-versus-a-copy\n",
      "  data['isCanonical'] = data.protein_classes.apply(is_peptide_canonical)\n",
      "/tmp/ipykernel_3338008/3528274130.py:13: SettingWithCopyWarning: \n",
      "A value is trying to be set on a copy of a slice from a DataFrame.\n",
      "Try using .loc[row_indexer,col_indexer] = value instead\n",
      "\n",
      "See the caveats in the documentation: https://pandas.pydata.org/pandas-docs/stable/user_guide/indexing.html#returning-a-view-versus-a-copy\n",
      "  data['isModified']  = data.apply(classifiy_mods,axis=1)\n",
      "/tmp/ipykernel_3338008/3528274130.py:10: SettingWithCopyWarning: \n",
      "A value is trying to be set on a copy of a slice from a DataFrame.\n",
      "Try using .loc[row_indexer,col_indexer] = value instead\n",
      "\n",
      "See the caveats in the documentation: https://pandas.pydata.org/pandas-docs/stable/user_guide/indexing.html#returning-a-view-versus-a-copy\n",
      "  data['protein_classes'] = data.proteins.apply(lambda x: np.unique([classify_leadprot(_) for _ in x.split(\"||\")]))\n"
     ]
    },
    {
     "name": "stdout",
     "output_type": "stream",
     "text": [
      "PXD005833 canon AM16\n"
     ]
    },
    {
     "name": "stderr",
     "output_type": "stream",
     "text": [
      "/tmp/ipykernel_3338008/3528274130.py:12: SettingWithCopyWarning: \n",
      "A value is trying to be set on a copy of a slice from a DataFrame.\n",
      "Try using .loc[row_indexer,col_indexer] = value instead\n",
      "\n",
      "See the caveats in the documentation: https://pandas.pydata.org/pandas-docs/stable/user_guide/indexing.html#returning-a-view-versus-a-copy\n",
      "  data['isCanonical'] = data.protein_classes.apply(is_peptide_canonical)\n",
      "/tmp/ipykernel_3338008/3528274130.py:13: SettingWithCopyWarning: \n",
      "A value is trying to be set on a copy of a slice from a DataFrame.\n",
      "Try using .loc[row_indexer,col_indexer] = value instead\n",
      "\n",
      "See the caveats in the documentation: https://pandas.pydata.org/pandas-docs/stable/user_guide/indexing.html#returning-a-view-versus-a-copy\n",
      "  data['isModified']  = data.apply(classifiy_mods,axis=1)\n"
     ]
    },
    {
     "name": "stdout",
     "output_type": "stream",
     "text": [
      "PXD005833 canon AM9\n"
     ]
    },
    {
     "name": "stderr",
     "output_type": "stream",
     "text": [
      "/tmp/ipykernel_3338008/3528274130.py:10: SettingWithCopyWarning: \n",
      "A value is trying to be set on a copy of a slice from a DataFrame.\n",
      "Try using .loc[row_indexer,col_indexer] = value instead\n",
      "\n",
      "See the caveats in the documentation: https://pandas.pydata.org/pandas-docs/stable/user_guide/indexing.html#returning-a-view-versus-a-copy\n",
      "  data['protein_classes'] = data.proteins.apply(lambda x: np.unique([classify_leadprot(_) for _ in x.split(\"||\")]))\n",
      "/tmp/ipykernel_3338008/3528274130.py:12: SettingWithCopyWarning: \n",
      "A value is trying to be set on a copy of a slice from a DataFrame.\n",
      "Try using .loc[row_indexer,col_indexer] = value instead\n",
      "\n",
      "See the caveats in the documentation: https://pandas.pydata.org/pandas-docs/stable/user_guide/indexing.html#returning-a-view-versus-a-copy\n",
      "  data['isCanonical'] = data.protein_classes.apply(is_peptide_canonical)\n",
      "/tmp/ipykernel_3338008/3528274130.py:13: SettingWithCopyWarning: \n",
      "A value is trying to be set on a copy of a slice from a DataFrame.\n",
      "Try using .loc[row_indexer,col_indexer] = value instead\n",
      "\n",
      "See the caveats in the documentation: https://pandas.pydata.org/pandas-docs/stable/user_guide/indexing.html#returning-a-view-versus-a-copy\n",
      "  data['isModified']  = data.apply(classifiy_mods,axis=1)\n"
     ]
    },
    {
     "name": "stdout",
     "output_type": "stream",
     "text": [
      "PXD005833 canon AM15\n"
     ]
    },
    {
     "name": "stderr",
     "output_type": "stream",
     "text": [
      "/tmp/ipykernel_3338008/3528274130.py:10: SettingWithCopyWarning: \n",
      "A value is trying to be set on a copy of a slice from a DataFrame.\n",
      "Try using .loc[row_indexer,col_indexer] = value instead\n",
      "\n",
      "See the caveats in the documentation: https://pandas.pydata.org/pandas-docs/stable/user_guide/indexing.html#returning-a-view-versus-a-copy\n",
      "  data['protein_classes'] = data.proteins.apply(lambda x: np.unique([classify_leadprot(_) for _ in x.split(\"||\")]))\n",
      "/tmp/ipykernel_3338008/3528274130.py:12: SettingWithCopyWarning: \n",
      "A value is trying to be set on a copy of a slice from a DataFrame.\n",
      "Try using .loc[row_indexer,col_indexer] = value instead\n",
      "\n",
      "See the caveats in the documentation: https://pandas.pydata.org/pandas-docs/stable/user_guide/indexing.html#returning-a-view-versus-a-copy\n",
      "  data['isCanonical'] = data.protein_classes.apply(is_peptide_canonical)\n",
      "/tmp/ipykernel_3338008/3528274130.py:13: SettingWithCopyWarning: \n",
      "A value is trying to be set on a copy of a slice from a DataFrame.\n",
      "Try using .loc[row_indexer,col_indexer] = value instead\n",
      "\n",
      "See the caveats in the documentation: https://pandas.pydata.org/pandas-docs/stable/user_guide/indexing.html#returning-a-view-versus-a-copy\n",
      "  data['isModified']  = data.apply(classifiy_mods,axis=1)\n"
     ]
    },
    {
     "name": "stdout",
     "output_type": "stream",
     "text": [
      "PXD005833 canon AM11\n"
     ]
    },
    {
     "name": "stderr",
     "output_type": "stream",
     "text": [
      "/tmp/ipykernel_3338008/3528274130.py:10: SettingWithCopyWarning: \n",
      "A value is trying to be set on a copy of a slice from a DataFrame.\n",
      "Try using .loc[row_indexer,col_indexer] = value instead\n",
      "\n",
      "See the caveats in the documentation: https://pandas.pydata.org/pandas-docs/stable/user_guide/indexing.html#returning-a-view-versus-a-copy\n",
      "  data['protein_classes'] = data.proteins.apply(lambda x: np.unique([classify_leadprot(_) for _ in x.split(\"||\")]))\n",
      "/tmp/ipykernel_3338008/3528274130.py:12: SettingWithCopyWarning: \n",
      "A value is trying to be set on a copy of a slice from a DataFrame.\n",
      "Try using .loc[row_indexer,col_indexer] = value instead\n",
      "\n",
      "See the caveats in the documentation: https://pandas.pydata.org/pandas-docs/stable/user_guide/indexing.html#returning-a-view-versus-a-copy\n",
      "  data['isCanonical'] = data.protein_classes.apply(is_peptide_canonical)\n",
      "/tmp/ipykernel_3338008/3528274130.py:13: SettingWithCopyWarning: \n",
      "A value is trying to be set on a copy of a slice from a DataFrame.\n",
      "Try using .loc[row_indexer,col_indexer] = value instead\n",
      "\n",
      "See the caveats in the documentation: https://pandas.pydata.org/pandas-docs/stable/user_guide/indexing.html#returning-a-view-versus-a-copy\n",
      "  data['isModified']  = data.apply(classifiy_mods,axis=1)\n"
     ]
    },
    {
     "name": "stdout",
     "output_type": "stream",
     "text": [
      "PXD005833 canon AM19\n"
     ]
    },
    {
     "name": "stderr",
     "output_type": "stream",
     "text": [
      "/tmp/ipykernel_3338008/3528274130.py:10: SettingWithCopyWarning: \n",
      "A value is trying to be set on a copy of a slice from a DataFrame.\n",
      "Try using .loc[row_indexer,col_indexer] = value instead\n",
      "\n",
      "See the caveats in the documentation: https://pandas.pydata.org/pandas-docs/stable/user_guide/indexing.html#returning-a-view-versus-a-copy\n",
      "  data['protein_classes'] = data.proteins.apply(lambda x: np.unique([classify_leadprot(_) for _ in x.split(\"||\")]))\n",
      "/tmp/ipykernel_3338008/3528274130.py:12: SettingWithCopyWarning: \n",
      "A value is trying to be set on a copy of a slice from a DataFrame.\n",
      "Try using .loc[row_indexer,col_indexer] = value instead\n",
      "\n",
      "See the caveats in the documentation: https://pandas.pydata.org/pandas-docs/stable/user_guide/indexing.html#returning-a-view-versus-a-copy\n",
      "  data['isCanonical'] = data.protein_classes.apply(is_peptide_canonical)\n",
      "/tmp/ipykernel_3338008/3528274130.py:13: SettingWithCopyWarning: \n",
      "A value is trying to be set on a copy of a slice from a DataFrame.\n",
      "Try using .loc[row_indexer,col_indexer] = value instead\n",
      "\n",
      "See the caveats in the documentation: https://pandas.pydata.org/pandas-docs/stable/user_guide/indexing.html#returning-a-view-versus-a-copy\n",
      "  data['isModified']  = data.apply(classifiy_mods,axis=1)\n"
     ]
    },
    {
     "name": "stdout",
     "output_type": "stream",
     "text": [
      "PXD005833 canon AM21\n",
      "PXD005833 canon AM10\n"
     ]
    },
    {
     "name": "stderr",
     "output_type": "stream",
     "text": [
      "/tmp/ipykernel_3338008/3528274130.py:10: SettingWithCopyWarning: \n",
      "A value is trying to be set on a copy of a slice from a DataFrame.\n",
      "Try using .loc[row_indexer,col_indexer] = value instead\n",
      "\n",
      "See the caveats in the documentation: https://pandas.pydata.org/pandas-docs/stable/user_guide/indexing.html#returning-a-view-versus-a-copy\n",
      "  data['protein_classes'] = data.proteins.apply(lambda x: np.unique([classify_leadprot(_) for _ in x.split(\"||\")]))\n",
      "/tmp/ipykernel_3338008/3528274130.py:12: SettingWithCopyWarning: \n",
      "A value is trying to be set on a copy of a slice from a DataFrame.\n",
      "Try using .loc[row_indexer,col_indexer] = value instead\n",
      "\n",
      "See the caveats in the documentation: https://pandas.pydata.org/pandas-docs/stable/user_guide/indexing.html#returning-a-view-versus-a-copy\n",
      "  data['isCanonical'] = data.protein_classes.apply(is_peptide_canonical)\n",
      "/tmp/ipykernel_3338008/3528274130.py:13: SettingWithCopyWarning: \n",
      "A value is trying to be set on a copy of a slice from a DataFrame.\n",
      "Try using .loc[row_indexer,col_indexer] = value instead\n",
      "\n",
      "See the caveats in the documentation: https://pandas.pydata.org/pandas-docs/stable/user_guide/indexing.html#returning-a-view-versus-a-copy\n",
      "  data['isModified']  = data.apply(classifiy_mods,axis=1)\n",
      "/tmp/ipykernel_3338008/3528274130.py:10: SettingWithCopyWarning: \n",
      "A value is trying to be set on a copy of a slice from a DataFrame.\n",
      "Try using .loc[row_indexer,col_indexer] = value instead\n",
      "\n",
      "See the caveats in the documentation: https://pandas.pydata.org/pandas-docs/stable/user_guide/indexing.html#returning-a-view-versus-a-copy\n",
      "  data['protein_classes'] = data.proteins.apply(lambda x: np.unique([classify_leadprot(_) for _ in x.split(\"||\")]))\n",
      "/tmp/ipykernel_3338008/3528274130.py:12: SettingWithCopyWarning: \n",
      "A value is trying to be set on a copy of a slice from a DataFrame.\n",
      "Try using .loc[row_indexer,col_indexer] = value instead\n",
      "\n",
      "See the caveats in the documentation: https://pandas.pydata.org/pandas-docs/stable/user_guide/indexing.html#returning-a-view-versus-a-copy\n",
      "  data['isCanonical'] = data.protein_classes.apply(is_peptide_canonical)\n",
      "/tmp/ipykernel_3338008/3528274130.py:13: SettingWithCopyWarning: \n",
      "A value is trying to be set on a copy of a slice from a DataFrame.\n",
      "Try using .loc[row_indexer,col_indexer] = value instead\n",
      "\n",
      "See the caveats in the documentation: https://pandas.pydata.org/pandas-docs/stable/user_guide/indexing.html#returning-a-view-versus-a-copy\n",
      "  data['isModified']  = data.apply(classifiy_mods,axis=1)\n",
      "/tmp/ipykernel_3338008/3528274130.py:10: SettingWithCopyWarning: \n",
      "A value is trying to be set on a copy of a slice from a DataFrame.\n",
      "Try using .loc[row_indexer,col_indexer] = value instead\n",
      "\n",
      "See the caveats in the documentation: https://pandas.pydata.org/pandas-docs/stable/user_guide/indexing.html#returning-a-view-versus-a-copy\n",
      "  data['protein_classes'] = data.proteins.apply(lambda x: np.unique([classify_leadprot(_) for _ in x.split(\"||\")]))\n"
     ]
    },
    {
     "name": "stdout",
     "output_type": "stream",
     "text": [
      "PXD005833 canon AM17\n",
      "PXD005833 canon AM8\n"
     ]
    },
    {
     "name": "stderr",
     "output_type": "stream",
     "text": [
      "/tmp/ipykernel_3338008/3528274130.py:12: SettingWithCopyWarning: \n",
      "A value is trying to be set on a copy of a slice from a DataFrame.\n",
      "Try using .loc[row_indexer,col_indexer] = value instead\n",
      "\n",
      "See the caveats in the documentation: https://pandas.pydata.org/pandas-docs/stable/user_guide/indexing.html#returning-a-view-versus-a-copy\n",
      "  data['isCanonical'] = data.protein_classes.apply(is_peptide_canonical)\n",
      "/tmp/ipykernel_3338008/3528274130.py:13: SettingWithCopyWarning: \n",
      "A value is trying to be set on a copy of a slice from a DataFrame.\n",
      "Try using .loc[row_indexer,col_indexer] = value instead\n",
      "\n",
      "See the caveats in the documentation: https://pandas.pydata.org/pandas-docs/stable/user_guide/indexing.html#returning-a-view-versus-a-copy\n",
      "  data['isModified']  = data.apply(classifiy_mods,axis=1)\n",
      "/tmp/ipykernel_3338008/3528274130.py:10: SettingWithCopyWarning: \n",
      "A value is trying to be set on a copy of a slice from a DataFrame.\n",
      "Try using .loc[row_indexer,col_indexer] = value instead\n",
      "\n",
      "See the caveats in the documentation: https://pandas.pydata.org/pandas-docs/stable/user_guide/indexing.html#returning-a-view-versus-a-copy\n",
      "  data['protein_classes'] = data.proteins.apply(lambda x: np.unique([classify_leadprot(_) for _ in x.split(\"||\")]))\n",
      "/tmp/ipykernel_3338008/3528274130.py:12: SettingWithCopyWarning: \n",
      "A value is trying to be set on a copy of a slice from a DataFrame.\n",
      "Try using .loc[row_indexer,col_indexer] = value instead\n",
      "\n",
      "See the caveats in the documentation: https://pandas.pydata.org/pandas-docs/stable/user_guide/indexing.html#returning-a-view-versus-a-copy\n",
      "  data['isCanonical'] = data.protein_classes.apply(is_peptide_canonical)\n",
      "/tmp/ipykernel_3338008/3528274130.py:13: SettingWithCopyWarning: \n",
      "A value is trying to be set on a copy of a slice from a DataFrame.\n",
      "Try using .loc[row_indexer,col_indexer] = value instead\n",
      "\n",
      "See the caveats in the documentation: https://pandas.pydata.org/pandas-docs/stable/user_guide/indexing.html#returning-a-view-versus-a-copy\n",
      "  data['isModified']  = data.apply(classifiy_mods,axis=1)\n"
     ]
    },
    {
     "name": "stdout",
     "output_type": "stream",
     "text": [
      "PXD005833 trembl AM13\n"
     ]
    },
    {
     "name": "stderr",
     "output_type": "stream",
     "text": [
      "/tmp/ipykernel_3338008/3528274130.py:10: SettingWithCopyWarning: \n",
      "A value is trying to be set on a copy of a slice from a DataFrame.\n",
      "Try using .loc[row_indexer,col_indexer] = value instead\n",
      "\n",
      "See the caveats in the documentation: https://pandas.pydata.org/pandas-docs/stable/user_guide/indexing.html#returning-a-view-versus-a-copy\n",
      "  data['protein_classes'] = data.proteins.apply(lambda x: np.unique([classify_leadprot(_) for _ in x.split(\"||\")]))\n",
      "/tmp/ipykernel_3338008/3528274130.py:12: SettingWithCopyWarning: \n",
      "A value is trying to be set on a copy of a slice from a DataFrame.\n",
      "Try using .loc[row_indexer,col_indexer] = value instead\n",
      "\n",
      "See the caveats in the documentation: https://pandas.pydata.org/pandas-docs/stable/user_guide/indexing.html#returning-a-view-versus-a-copy\n",
      "  data['isCanonical'] = data.protein_classes.apply(is_peptide_canonical)\n",
      "/tmp/ipykernel_3338008/3528274130.py:13: SettingWithCopyWarning: \n",
      "A value is trying to be set on a copy of a slice from a DataFrame.\n",
      "Try using .loc[row_indexer,col_indexer] = value instead\n",
      "\n",
      "See the caveats in the documentation: https://pandas.pydata.org/pandas-docs/stable/user_guide/indexing.html#returning-a-view-versus-a-copy\n",
      "  data['isModified']  = data.apply(classifiy_mods,axis=1)\n"
     ]
    },
    {
     "name": "stdout",
     "output_type": "stream",
     "text": [
      "PXD005833 trembl AM7\n",
      "PXD005833 trembl AM18\n"
     ]
    },
    {
     "name": "stderr",
     "output_type": "stream",
     "text": [
      "/tmp/ipykernel_3338008/3528274130.py:10: SettingWithCopyWarning: \n",
      "A value is trying to be set on a copy of a slice from a DataFrame.\n",
      "Try using .loc[row_indexer,col_indexer] = value instead\n",
      "\n",
      "See the caveats in the documentation: https://pandas.pydata.org/pandas-docs/stable/user_guide/indexing.html#returning-a-view-versus-a-copy\n",
      "  data['protein_classes'] = data.proteins.apply(lambda x: np.unique([classify_leadprot(_) for _ in x.split(\"||\")]))\n",
      "/tmp/ipykernel_3338008/3528274130.py:12: SettingWithCopyWarning: \n",
      "A value is trying to be set on a copy of a slice from a DataFrame.\n",
      "Try using .loc[row_indexer,col_indexer] = value instead\n",
      "\n",
      "See the caveats in the documentation: https://pandas.pydata.org/pandas-docs/stable/user_guide/indexing.html#returning-a-view-versus-a-copy\n",
      "  data['isCanonical'] = data.protein_classes.apply(is_peptide_canonical)\n",
      "/tmp/ipykernel_3338008/3528274130.py:13: SettingWithCopyWarning: \n",
      "A value is trying to be set on a copy of a slice from a DataFrame.\n",
      "Try using .loc[row_indexer,col_indexer] = value instead\n",
      "\n",
      "See the caveats in the documentation: https://pandas.pydata.org/pandas-docs/stable/user_guide/indexing.html#returning-a-view-versus-a-copy\n",
      "  data['isModified']  = data.apply(classifiy_mods,axis=1)\n",
      "/tmp/ipykernel_3338008/3528274130.py:10: SettingWithCopyWarning: \n",
      "A value is trying to be set on a copy of a slice from a DataFrame.\n",
      "Try using .loc[row_indexer,col_indexer] = value instead\n",
      "\n",
      "See the caveats in the documentation: https://pandas.pydata.org/pandas-docs/stable/user_guide/indexing.html#returning-a-view-versus-a-copy\n",
      "  data['protein_classes'] = data.proteins.apply(lambda x: np.unique([classify_leadprot(_) for _ in x.split(\"||\")]))\n",
      "/tmp/ipykernel_3338008/3528274130.py:12: SettingWithCopyWarning: \n",
      "A value is trying to be set on a copy of a slice from a DataFrame.\n",
      "Try using .loc[row_indexer,col_indexer] = value instead\n",
      "\n",
      "See the caveats in the documentation: https://pandas.pydata.org/pandas-docs/stable/user_guide/indexing.html#returning-a-view-versus-a-copy\n",
      "  data['isCanonical'] = data.protein_classes.apply(is_peptide_canonical)\n",
      "/tmp/ipykernel_3338008/3528274130.py:13: SettingWithCopyWarning: \n",
      "A value is trying to be set on a copy of a slice from a DataFrame.\n",
      "Try using .loc[row_indexer,col_indexer] = value instead\n",
      "\n",
      "See the caveats in the documentation: https://pandas.pydata.org/pandas-docs/stable/user_guide/indexing.html#returning-a-view-versus-a-copy\n",
      "  data['isModified']  = data.apply(classifiy_mods,axis=1)\n",
      "/tmp/ipykernel_3338008/3528274130.py:10: SettingWithCopyWarning: \n",
      "A value is trying to be set on a copy of a slice from a DataFrame.\n",
      "Try using .loc[row_indexer,col_indexer] = value instead\n",
      "\n",
      "See the caveats in the documentation: https://pandas.pydata.org/pandas-docs/stable/user_guide/indexing.html#returning-a-view-versus-a-copy\n",
      "  data['protein_classes'] = data.proteins.apply(lambda x: np.unique([classify_leadprot(_) for _ in x.split(\"||\")]))\n"
     ]
    },
    {
     "name": "stdout",
     "output_type": "stream",
     "text": [
      "PXD005833 trembl AM20\n"
     ]
    },
    {
     "name": "stderr",
     "output_type": "stream",
     "text": [
      "/tmp/ipykernel_3338008/3528274130.py:12: SettingWithCopyWarning: \n",
      "A value is trying to be set on a copy of a slice from a DataFrame.\n",
      "Try using .loc[row_indexer,col_indexer] = value instead\n",
      "\n",
      "See the caveats in the documentation: https://pandas.pydata.org/pandas-docs/stable/user_guide/indexing.html#returning-a-view-versus-a-copy\n",
      "  data['isCanonical'] = data.protein_classes.apply(is_peptide_canonical)\n",
      "/tmp/ipykernel_3338008/3528274130.py:13: SettingWithCopyWarning: \n",
      "A value is trying to be set on a copy of a slice from a DataFrame.\n",
      "Try using .loc[row_indexer,col_indexer] = value instead\n",
      "\n",
      "See the caveats in the documentation: https://pandas.pydata.org/pandas-docs/stable/user_guide/indexing.html#returning-a-view-versus-a-copy\n",
      "  data['isModified']  = data.apply(classifiy_mods,axis=1)\n",
      "/tmp/ipykernel_3338008/3528274130.py:10: SettingWithCopyWarning: \n",
      "A value is trying to be set on a copy of a slice from a DataFrame.\n",
      "Try using .loc[row_indexer,col_indexer] = value instead\n",
      "\n",
      "See the caveats in the documentation: https://pandas.pydata.org/pandas-docs/stable/user_guide/indexing.html#returning-a-view-versus-a-copy\n",
      "  data['protein_classes'] = data.proteins.apply(lambda x: np.unique([classify_leadprot(_) for _ in x.split(\"||\")]))\n"
     ]
    },
    {
     "name": "stdout",
     "output_type": "stream",
     "text": [
      "PXD005833 trembl AM12\n"
     ]
    },
    {
     "name": "stderr",
     "output_type": "stream",
     "text": [
      "/tmp/ipykernel_3338008/3528274130.py:12: SettingWithCopyWarning: \n",
      "A value is trying to be set on a copy of a slice from a DataFrame.\n",
      "Try using .loc[row_indexer,col_indexer] = value instead\n",
      "\n",
      "See the caveats in the documentation: https://pandas.pydata.org/pandas-docs/stable/user_guide/indexing.html#returning-a-view-versus-a-copy\n",
      "  data['isCanonical'] = data.protein_classes.apply(is_peptide_canonical)\n",
      "/tmp/ipykernel_3338008/3528274130.py:13: SettingWithCopyWarning: \n",
      "A value is trying to be set on a copy of a slice from a DataFrame.\n",
      "Try using .loc[row_indexer,col_indexer] = value instead\n",
      "\n",
      "See the caveats in the documentation: https://pandas.pydata.org/pandas-docs/stable/user_guide/indexing.html#returning-a-view-versus-a-copy\n",
      "  data['isModified']  = data.apply(classifiy_mods,axis=1)\n",
      "/tmp/ipykernel_3338008/3528274130.py:10: SettingWithCopyWarning: \n",
      "A value is trying to be set on a copy of a slice from a DataFrame.\n",
      "Try using .loc[row_indexer,col_indexer] = value instead\n",
      "\n",
      "See the caveats in the documentation: https://pandas.pydata.org/pandas-docs/stable/user_guide/indexing.html#returning-a-view-versus-a-copy\n",
      "  data['protein_classes'] = data.proteins.apply(lambda x: np.unique([classify_leadprot(_) for _ in x.split(\"||\")]))\n"
     ]
    },
    {
     "name": "stdout",
     "output_type": "stream",
     "text": [
      "PXD005833 trembl AM14\n"
     ]
    },
    {
     "name": "stderr",
     "output_type": "stream",
     "text": [
      "/tmp/ipykernel_3338008/3528274130.py:12: SettingWithCopyWarning: \n",
      "A value is trying to be set on a copy of a slice from a DataFrame.\n",
      "Try using .loc[row_indexer,col_indexer] = value instead\n",
      "\n",
      "See the caveats in the documentation: https://pandas.pydata.org/pandas-docs/stable/user_guide/indexing.html#returning-a-view-versus-a-copy\n",
      "  data['isCanonical'] = data.protein_classes.apply(is_peptide_canonical)\n",
      "/tmp/ipykernel_3338008/3528274130.py:13: SettingWithCopyWarning: \n",
      "A value is trying to be set on a copy of a slice from a DataFrame.\n",
      "Try using .loc[row_indexer,col_indexer] = value instead\n",
      "\n",
      "See the caveats in the documentation: https://pandas.pydata.org/pandas-docs/stable/user_guide/indexing.html#returning-a-view-versus-a-copy\n",
      "  data['isModified']  = data.apply(classifiy_mods,axis=1)\n"
     ]
    },
    {
     "name": "stdout",
     "output_type": "stream",
     "text": [
      "PXD005833 trembl AM16\n"
     ]
    },
    {
     "name": "stderr",
     "output_type": "stream",
     "text": [
      "/tmp/ipykernel_3338008/3528274130.py:10: SettingWithCopyWarning: \n",
      "A value is trying to be set on a copy of a slice from a DataFrame.\n",
      "Try using .loc[row_indexer,col_indexer] = value instead\n",
      "\n",
      "See the caveats in the documentation: https://pandas.pydata.org/pandas-docs/stable/user_guide/indexing.html#returning-a-view-versus-a-copy\n",
      "  data['protein_classes'] = data.proteins.apply(lambda x: np.unique([classify_leadprot(_) for _ in x.split(\"||\")]))\n",
      "/tmp/ipykernel_3338008/3528274130.py:12: SettingWithCopyWarning: \n",
      "A value is trying to be set on a copy of a slice from a DataFrame.\n",
      "Try using .loc[row_indexer,col_indexer] = value instead\n",
      "\n",
      "See the caveats in the documentation: https://pandas.pydata.org/pandas-docs/stable/user_guide/indexing.html#returning-a-view-versus-a-copy\n",
      "  data['isCanonical'] = data.protein_classes.apply(is_peptide_canonical)\n",
      "/tmp/ipykernel_3338008/3528274130.py:13: SettingWithCopyWarning: \n",
      "A value is trying to be set on a copy of a slice from a DataFrame.\n",
      "Try using .loc[row_indexer,col_indexer] = value instead\n",
      "\n",
      "See the caveats in the documentation: https://pandas.pydata.org/pandas-docs/stable/user_guide/indexing.html#returning-a-view-versus-a-copy\n",
      "  data['isModified']  = data.apply(classifiy_mods,axis=1)\n"
     ]
    },
    {
     "name": "stdout",
     "output_type": "stream",
     "text": [
      "PXD005833 trembl AM9\n"
     ]
    },
    {
     "name": "stderr",
     "output_type": "stream",
     "text": [
      "/tmp/ipykernel_3338008/3528274130.py:10: SettingWithCopyWarning: \n",
      "A value is trying to be set on a copy of a slice from a DataFrame.\n",
      "Try using .loc[row_indexer,col_indexer] = value instead\n",
      "\n",
      "See the caveats in the documentation: https://pandas.pydata.org/pandas-docs/stable/user_guide/indexing.html#returning-a-view-versus-a-copy\n",
      "  data['protein_classes'] = data.proteins.apply(lambda x: np.unique([classify_leadprot(_) for _ in x.split(\"||\")]))\n",
      "/tmp/ipykernel_3338008/3528274130.py:12: SettingWithCopyWarning: \n",
      "A value is trying to be set on a copy of a slice from a DataFrame.\n",
      "Try using .loc[row_indexer,col_indexer] = value instead\n",
      "\n",
      "See the caveats in the documentation: https://pandas.pydata.org/pandas-docs/stable/user_guide/indexing.html#returning-a-view-versus-a-copy\n",
      "  data['isCanonical'] = data.protein_classes.apply(is_peptide_canonical)\n",
      "/tmp/ipykernel_3338008/3528274130.py:13: SettingWithCopyWarning: \n",
      "A value is trying to be set on a copy of a slice from a DataFrame.\n",
      "Try using .loc[row_indexer,col_indexer] = value instead\n",
      "\n",
      "See the caveats in the documentation: https://pandas.pydata.org/pandas-docs/stable/user_guide/indexing.html#returning-a-view-versus-a-copy\n",
      "  data['isModified']  = data.apply(classifiy_mods,axis=1)\n"
     ]
    },
    {
     "name": "stdout",
     "output_type": "stream",
     "text": [
      "PXD005833 trembl AM15\n"
     ]
    },
    {
     "name": "stderr",
     "output_type": "stream",
     "text": [
      "/tmp/ipykernel_3338008/3528274130.py:10: SettingWithCopyWarning: \n",
      "A value is trying to be set on a copy of a slice from a DataFrame.\n",
      "Try using .loc[row_indexer,col_indexer] = value instead\n",
      "\n",
      "See the caveats in the documentation: https://pandas.pydata.org/pandas-docs/stable/user_guide/indexing.html#returning-a-view-versus-a-copy\n",
      "  data['protein_classes'] = data.proteins.apply(lambda x: np.unique([classify_leadprot(_) for _ in x.split(\"||\")]))\n",
      "/tmp/ipykernel_3338008/3528274130.py:12: SettingWithCopyWarning: \n",
      "A value is trying to be set on a copy of a slice from a DataFrame.\n",
      "Try using .loc[row_indexer,col_indexer] = value instead\n",
      "\n",
      "See the caveats in the documentation: https://pandas.pydata.org/pandas-docs/stable/user_guide/indexing.html#returning-a-view-versus-a-copy\n",
      "  data['isCanonical'] = data.protein_classes.apply(is_peptide_canonical)\n",
      "/tmp/ipykernel_3338008/3528274130.py:13: SettingWithCopyWarning: \n",
      "A value is trying to be set on a copy of a slice from a DataFrame.\n",
      "Try using .loc[row_indexer,col_indexer] = value instead\n",
      "\n",
      "See the caveats in the documentation: https://pandas.pydata.org/pandas-docs/stable/user_guide/indexing.html#returning-a-view-versus-a-copy\n",
      "  data['isModified']  = data.apply(classifiy_mods,axis=1)\n"
     ]
    },
    {
     "name": "stdout",
     "output_type": "stream",
     "text": [
      "PXD005833 trembl AM11\n"
     ]
    },
    {
     "name": "stderr",
     "output_type": "stream",
     "text": [
      "/tmp/ipykernel_3338008/3528274130.py:10: SettingWithCopyWarning: \n",
      "A value is trying to be set on a copy of a slice from a DataFrame.\n",
      "Try using .loc[row_indexer,col_indexer] = value instead\n",
      "\n",
      "See the caveats in the documentation: https://pandas.pydata.org/pandas-docs/stable/user_guide/indexing.html#returning-a-view-versus-a-copy\n",
      "  data['protein_classes'] = data.proteins.apply(lambda x: np.unique([classify_leadprot(_) for _ in x.split(\"||\")]))\n",
      "/tmp/ipykernel_3338008/3528274130.py:12: SettingWithCopyWarning: \n",
      "A value is trying to be set on a copy of a slice from a DataFrame.\n",
      "Try using .loc[row_indexer,col_indexer] = value instead\n",
      "\n",
      "See the caveats in the documentation: https://pandas.pydata.org/pandas-docs/stable/user_guide/indexing.html#returning-a-view-versus-a-copy\n",
      "  data['isCanonical'] = data.protein_classes.apply(is_peptide_canonical)\n",
      "/tmp/ipykernel_3338008/3528274130.py:13: SettingWithCopyWarning: \n",
      "A value is trying to be set on a copy of a slice from a DataFrame.\n",
      "Try using .loc[row_indexer,col_indexer] = value instead\n",
      "\n",
      "See the caveats in the documentation: https://pandas.pydata.org/pandas-docs/stable/user_guide/indexing.html#returning-a-view-versus-a-copy\n",
      "  data['isModified']  = data.apply(classifiy_mods,axis=1)\n"
     ]
    },
    {
     "name": "stdout",
     "output_type": "stream",
     "text": [
      "PXD005833 trembl AM19\n"
     ]
    },
    {
     "name": "stderr",
     "output_type": "stream",
     "text": [
      "/tmp/ipykernel_3338008/3528274130.py:10: SettingWithCopyWarning: \n",
      "A value is trying to be set on a copy of a slice from a DataFrame.\n",
      "Try using .loc[row_indexer,col_indexer] = value instead\n",
      "\n",
      "See the caveats in the documentation: https://pandas.pydata.org/pandas-docs/stable/user_guide/indexing.html#returning-a-view-versus-a-copy\n",
      "  data['protein_classes'] = data.proteins.apply(lambda x: np.unique([classify_leadprot(_) for _ in x.split(\"||\")]))\n",
      "/tmp/ipykernel_3338008/3528274130.py:12: SettingWithCopyWarning: \n",
      "A value is trying to be set on a copy of a slice from a DataFrame.\n",
      "Try using .loc[row_indexer,col_indexer] = value instead\n",
      "\n",
      "See the caveats in the documentation: https://pandas.pydata.org/pandas-docs/stable/user_guide/indexing.html#returning-a-view-versus-a-copy\n",
      "  data['isCanonical'] = data.protein_classes.apply(is_peptide_canonical)\n",
      "/tmp/ipykernel_3338008/3528274130.py:13: SettingWithCopyWarning: \n",
      "A value is trying to be set on a copy of a slice from a DataFrame.\n",
      "Try using .loc[row_indexer,col_indexer] = value instead\n",
      "\n",
      "See the caveats in the documentation: https://pandas.pydata.org/pandas-docs/stable/user_guide/indexing.html#returning-a-view-versus-a-copy\n",
      "  data['isModified']  = data.apply(classifiy_mods,axis=1)\n"
     ]
    },
    {
     "name": "stdout",
     "output_type": "stream",
     "text": [
      "PXD005833 trembl AM21\n",
      "PXD005833 trembl AM10\n"
     ]
    },
    {
     "name": "stderr",
     "output_type": "stream",
     "text": [
      "/tmp/ipykernel_3338008/3528274130.py:10: SettingWithCopyWarning: \n",
      "A value is trying to be set on a copy of a slice from a DataFrame.\n",
      "Try using .loc[row_indexer,col_indexer] = value instead\n",
      "\n",
      "See the caveats in the documentation: https://pandas.pydata.org/pandas-docs/stable/user_guide/indexing.html#returning-a-view-versus-a-copy\n",
      "  data['protein_classes'] = data.proteins.apply(lambda x: np.unique([classify_leadprot(_) for _ in x.split(\"||\")]))\n",
      "/tmp/ipykernel_3338008/3528274130.py:12: SettingWithCopyWarning: \n",
      "A value is trying to be set on a copy of a slice from a DataFrame.\n",
      "Try using .loc[row_indexer,col_indexer] = value instead\n",
      "\n",
      "See the caveats in the documentation: https://pandas.pydata.org/pandas-docs/stable/user_guide/indexing.html#returning-a-view-versus-a-copy\n",
      "  data['isCanonical'] = data.protein_classes.apply(is_peptide_canonical)\n",
      "/tmp/ipykernel_3338008/3528274130.py:13: SettingWithCopyWarning: \n",
      "A value is trying to be set on a copy of a slice from a DataFrame.\n",
      "Try using .loc[row_indexer,col_indexer] = value instead\n",
      "\n",
      "See the caveats in the documentation: https://pandas.pydata.org/pandas-docs/stable/user_guide/indexing.html#returning-a-view-versus-a-copy\n",
      "  data['isModified']  = data.apply(classifiy_mods,axis=1)\n",
      "/tmp/ipykernel_3338008/3528274130.py:10: SettingWithCopyWarning: \n",
      "A value is trying to be set on a copy of a slice from a DataFrame.\n",
      "Try using .loc[row_indexer,col_indexer] = value instead\n",
      "\n",
      "See the caveats in the documentation: https://pandas.pydata.org/pandas-docs/stable/user_guide/indexing.html#returning-a-view-versus-a-copy\n",
      "  data['protein_classes'] = data.proteins.apply(lambda x: np.unique([classify_leadprot(_) for _ in x.split(\"||\")]))\n",
      "/tmp/ipykernel_3338008/3528274130.py:12: SettingWithCopyWarning: \n",
      "A value is trying to be set on a copy of a slice from a DataFrame.\n",
      "Try using .loc[row_indexer,col_indexer] = value instead\n",
      "\n",
      "See the caveats in the documentation: https://pandas.pydata.org/pandas-docs/stable/user_guide/indexing.html#returning-a-view-versus-a-copy\n",
      "  data['isCanonical'] = data.protein_classes.apply(is_peptide_canonical)\n",
      "/tmp/ipykernel_3338008/3528274130.py:13: SettingWithCopyWarning: \n",
      "A value is trying to be set on a copy of a slice from a DataFrame.\n",
      "Try using .loc[row_indexer,col_indexer] = value instead\n",
      "\n",
      "See the caveats in the documentation: https://pandas.pydata.org/pandas-docs/stable/user_guide/indexing.html#returning-a-view-versus-a-copy\n",
      "  data['isModified']  = data.apply(classifiy_mods,axis=1)\n"
     ]
    },
    {
     "name": "stdout",
     "output_type": "stream",
     "text": [
      "PXD005833 trembl AM17\n"
     ]
    },
    {
     "name": "stderr",
     "output_type": "stream",
     "text": [
      "/tmp/ipykernel_3338008/3528274130.py:10: SettingWithCopyWarning: \n",
      "A value is trying to be set on a copy of a slice from a DataFrame.\n",
      "Try using .loc[row_indexer,col_indexer] = value instead\n",
      "\n",
      "See the caveats in the documentation: https://pandas.pydata.org/pandas-docs/stable/user_guide/indexing.html#returning-a-view-versus-a-copy\n",
      "  data['protein_classes'] = data.proteins.apply(lambda x: np.unique([classify_leadprot(_) for _ in x.split(\"||\")]))\n",
      "/tmp/ipykernel_3338008/3528274130.py:12: SettingWithCopyWarning: \n",
      "A value is trying to be set on a copy of a slice from a DataFrame.\n",
      "Try using .loc[row_indexer,col_indexer] = value instead\n",
      "\n",
      "See the caveats in the documentation: https://pandas.pydata.org/pandas-docs/stable/user_guide/indexing.html#returning-a-view-versus-a-copy\n",
      "  data['isCanonical'] = data.protein_classes.apply(is_peptide_canonical)\n",
      "/tmp/ipykernel_3338008/3528274130.py:13: SettingWithCopyWarning: \n",
      "A value is trying to be set on a copy of a slice from a DataFrame.\n",
      "Try using .loc[row_indexer,col_indexer] = value instead\n",
      "\n",
      "See the caveats in the documentation: https://pandas.pydata.org/pandas-docs/stable/user_guide/indexing.html#returning-a-view-versus-a-copy\n",
      "  data['isModified']  = data.apply(classifiy_mods,axis=1)\n"
     ]
    },
    {
     "name": "stdout",
     "output_type": "stream",
     "text": [
      "PXD005833 trembl AM8\n"
     ]
    },
    {
     "name": "stderr",
     "output_type": "stream",
     "text": [
      "/tmp/ipykernel_3338008/3528274130.py:10: SettingWithCopyWarning: \n",
      "A value is trying to be set on a copy of a slice from a DataFrame.\n",
      "Try using .loc[row_indexer,col_indexer] = value instead\n",
      "\n",
      "See the caveats in the documentation: https://pandas.pydata.org/pandas-docs/stable/user_guide/indexing.html#returning-a-view-versus-a-copy\n",
      "  data['protein_classes'] = data.proteins.apply(lambda x: np.unique([classify_leadprot(_) for _ in x.split(\"||\")]))\n",
      "/tmp/ipykernel_3338008/3528274130.py:12: SettingWithCopyWarning: \n",
      "A value is trying to be set on a copy of a slice from a DataFrame.\n",
      "Try using .loc[row_indexer,col_indexer] = value instead\n",
      "\n",
      "See the caveats in the documentation: https://pandas.pydata.org/pandas-docs/stable/user_guide/indexing.html#returning-a-view-versus-a-copy\n",
      "  data['isCanonical'] = data.protein_classes.apply(is_peptide_canonical)\n",
      "/tmp/ipykernel_3338008/3528274130.py:13: SettingWithCopyWarning: \n",
      "A value is trying to be set on a copy of a slice from a DataFrame.\n",
      "Try using .loc[row_indexer,col_indexer] = value instead\n",
      "\n",
      "See the caveats in the documentation: https://pandas.pydata.org/pandas-docs/stable/user_guide/indexing.html#returning-a-view-versus-a-copy\n",
      "  data['isModified']  = data.apply(classifiy_mods,axis=1)\n"
     ]
    },
    {
     "name": "stdout",
     "output_type": "stream",
     "text": [
      "PXD005833 openprot AM13\n"
     ]
    },
    {
     "name": "stderr",
     "output_type": "stream",
     "text": [
      "/tmp/ipykernel_3338008/3528274130.py:10: SettingWithCopyWarning: \n",
      "A value is trying to be set on a copy of a slice from a DataFrame.\n",
      "Try using .loc[row_indexer,col_indexer] = value instead\n",
      "\n",
      "See the caveats in the documentation: https://pandas.pydata.org/pandas-docs/stable/user_guide/indexing.html#returning-a-view-versus-a-copy\n",
      "  data['protein_classes'] = data.proteins.apply(lambda x: np.unique([classify_leadprot(_) for _ in x.split(\"||\")]))\n",
      "/tmp/ipykernel_3338008/3528274130.py:12: SettingWithCopyWarning: \n",
      "A value is trying to be set on a copy of a slice from a DataFrame.\n",
      "Try using .loc[row_indexer,col_indexer] = value instead\n",
      "\n",
      "See the caveats in the documentation: https://pandas.pydata.org/pandas-docs/stable/user_guide/indexing.html#returning-a-view-versus-a-copy\n",
      "  data['isCanonical'] = data.protein_classes.apply(is_peptide_canonical)\n",
      "/tmp/ipykernel_3338008/3528274130.py:13: SettingWithCopyWarning: \n",
      "A value is trying to be set on a copy of a slice from a DataFrame.\n",
      "Try using .loc[row_indexer,col_indexer] = value instead\n",
      "\n",
      "See the caveats in the documentation: https://pandas.pydata.org/pandas-docs/stable/user_guide/indexing.html#returning-a-view-versus-a-copy\n",
      "  data['isModified']  = data.apply(classifiy_mods,axis=1)\n"
     ]
    },
    {
     "name": "stdout",
     "output_type": "stream",
     "text": [
      "PXD005833 openprot AM7\n",
      "PXD005833 openprot AM18\n"
     ]
    },
    {
     "name": "stderr",
     "output_type": "stream",
     "text": [
      "/tmp/ipykernel_3338008/3528274130.py:10: SettingWithCopyWarning: \n",
      "A value is trying to be set on a copy of a slice from a DataFrame.\n",
      "Try using .loc[row_indexer,col_indexer] = value instead\n",
      "\n",
      "See the caveats in the documentation: https://pandas.pydata.org/pandas-docs/stable/user_guide/indexing.html#returning-a-view-versus-a-copy\n",
      "  data['protein_classes'] = data.proteins.apply(lambda x: np.unique([classify_leadprot(_) for _ in x.split(\"||\")]))\n",
      "/tmp/ipykernel_3338008/3528274130.py:12: SettingWithCopyWarning: \n",
      "A value is trying to be set on a copy of a slice from a DataFrame.\n",
      "Try using .loc[row_indexer,col_indexer] = value instead\n",
      "\n",
      "See the caveats in the documentation: https://pandas.pydata.org/pandas-docs/stable/user_guide/indexing.html#returning-a-view-versus-a-copy\n",
      "  data['isCanonical'] = data.protein_classes.apply(is_peptide_canonical)\n",
      "/tmp/ipykernel_3338008/3528274130.py:13: SettingWithCopyWarning: \n",
      "A value is trying to be set on a copy of a slice from a DataFrame.\n",
      "Try using .loc[row_indexer,col_indexer] = value instead\n",
      "\n",
      "See the caveats in the documentation: https://pandas.pydata.org/pandas-docs/stable/user_guide/indexing.html#returning-a-view-versus-a-copy\n",
      "  data['isModified']  = data.apply(classifiy_mods,axis=1)\n",
      "/tmp/ipykernel_3338008/3528274130.py:10: SettingWithCopyWarning: \n",
      "A value is trying to be set on a copy of a slice from a DataFrame.\n",
      "Try using .loc[row_indexer,col_indexer] = value instead\n",
      "\n",
      "See the caveats in the documentation: https://pandas.pydata.org/pandas-docs/stable/user_guide/indexing.html#returning-a-view-versus-a-copy\n",
      "  data['protein_classes'] = data.proteins.apply(lambda x: np.unique([classify_leadprot(_) for _ in x.split(\"||\")]))\n",
      "/tmp/ipykernel_3338008/3528274130.py:12: SettingWithCopyWarning: \n",
      "A value is trying to be set on a copy of a slice from a DataFrame.\n",
      "Try using .loc[row_indexer,col_indexer] = value instead\n",
      "\n",
      "See the caveats in the documentation: https://pandas.pydata.org/pandas-docs/stable/user_guide/indexing.html#returning-a-view-versus-a-copy\n",
      "  data['isCanonical'] = data.protein_classes.apply(is_peptide_canonical)\n",
      "/tmp/ipykernel_3338008/3528274130.py:13: SettingWithCopyWarning: \n",
      "A value is trying to be set on a copy of a slice from a DataFrame.\n",
      "Try using .loc[row_indexer,col_indexer] = value instead\n",
      "\n",
      "See the caveats in the documentation: https://pandas.pydata.org/pandas-docs/stable/user_guide/indexing.html#returning-a-view-versus-a-copy\n",
      "  data['isModified']  = data.apply(classifiy_mods,axis=1)\n"
     ]
    },
    {
     "name": "stdout",
     "output_type": "stream",
     "text": [
      "PXD005833 openprot AM20\n"
     ]
    },
    {
     "name": "stderr",
     "output_type": "stream",
     "text": [
      "/tmp/ipykernel_3338008/3528274130.py:10: SettingWithCopyWarning: \n",
      "A value is trying to be set on a copy of a slice from a DataFrame.\n",
      "Try using .loc[row_indexer,col_indexer] = value instead\n",
      "\n",
      "See the caveats in the documentation: https://pandas.pydata.org/pandas-docs/stable/user_guide/indexing.html#returning-a-view-versus-a-copy\n",
      "  data['protein_classes'] = data.proteins.apply(lambda x: np.unique([classify_leadprot(_) for _ in x.split(\"||\")]))\n",
      "/tmp/ipykernel_3338008/3528274130.py:12: SettingWithCopyWarning: \n",
      "A value is trying to be set on a copy of a slice from a DataFrame.\n",
      "Try using .loc[row_indexer,col_indexer] = value instead\n",
      "\n",
      "See the caveats in the documentation: https://pandas.pydata.org/pandas-docs/stable/user_guide/indexing.html#returning-a-view-versus-a-copy\n",
      "  data['isCanonical'] = data.protein_classes.apply(is_peptide_canonical)\n",
      "/tmp/ipykernel_3338008/3528274130.py:13: SettingWithCopyWarning: \n",
      "A value is trying to be set on a copy of a slice from a DataFrame.\n",
      "Try using .loc[row_indexer,col_indexer] = value instead\n",
      "\n",
      "See the caveats in the documentation: https://pandas.pydata.org/pandas-docs/stable/user_guide/indexing.html#returning-a-view-versus-a-copy\n",
      "  data['isModified']  = data.apply(classifiy_mods,axis=1)\n"
     ]
    },
    {
     "name": "stdout",
     "output_type": "stream",
     "text": [
      "PXD005833 openprot AM12\n"
     ]
    },
    {
     "name": "stderr",
     "output_type": "stream",
     "text": [
      "/tmp/ipykernel_3338008/3528274130.py:10: SettingWithCopyWarning: \n",
      "A value is trying to be set on a copy of a slice from a DataFrame.\n",
      "Try using .loc[row_indexer,col_indexer] = value instead\n",
      "\n",
      "See the caveats in the documentation: https://pandas.pydata.org/pandas-docs/stable/user_guide/indexing.html#returning-a-view-versus-a-copy\n",
      "  data['protein_classes'] = data.proteins.apply(lambda x: np.unique([classify_leadprot(_) for _ in x.split(\"||\")]))\n",
      "/tmp/ipykernel_3338008/3528274130.py:12: SettingWithCopyWarning: \n",
      "A value is trying to be set on a copy of a slice from a DataFrame.\n",
      "Try using .loc[row_indexer,col_indexer] = value instead\n",
      "\n",
      "See the caveats in the documentation: https://pandas.pydata.org/pandas-docs/stable/user_guide/indexing.html#returning-a-view-versus-a-copy\n",
      "  data['isCanonical'] = data.protein_classes.apply(is_peptide_canonical)\n",
      "/tmp/ipykernel_3338008/3528274130.py:13: SettingWithCopyWarning: \n",
      "A value is trying to be set on a copy of a slice from a DataFrame.\n",
      "Try using .loc[row_indexer,col_indexer] = value instead\n",
      "\n",
      "See the caveats in the documentation: https://pandas.pydata.org/pandas-docs/stable/user_guide/indexing.html#returning-a-view-versus-a-copy\n",
      "  data['isModified']  = data.apply(classifiy_mods,axis=1)\n"
     ]
    },
    {
     "name": "stdout",
     "output_type": "stream",
     "text": [
      "PXD005833 openprot AM14\n"
     ]
    },
    {
     "name": "stderr",
     "output_type": "stream",
     "text": [
      "/tmp/ipykernel_3338008/3528274130.py:10: SettingWithCopyWarning: \n",
      "A value is trying to be set on a copy of a slice from a DataFrame.\n",
      "Try using .loc[row_indexer,col_indexer] = value instead\n",
      "\n",
      "See the caveats in the documentation: https://pandas.pydata.org/pandas-docs/stable/user_guide/indexing.html#returning-a-view-versus-a-copy\n",
      "  data['protein_classes'] = data.proteins.apply(lambda x: np.unique([classify_leadprot(_) for _ in x.split(\"||\")]))\n",
      "/tmp/ipykernel_3338008/3528274130.py:12: SettingWithCopyWarning: \n",
      "A value is trying to be set on a copy of a slice from a DataFrame.\n",
      "Try using .loc[row_indexer,col_indexer] = value instead\n",
      "\n",
      "See the caveats in the documentation: https://pandas.pydata.org/pandas-docs/stable/user_guide/indexing.html#returning-a-view-versus-a-copy\n",
      "  data['isCanonical'] = data.protein_classes.apply(is_peptide_canonical)\n",
      "/tmp/ipykernel_3338008/3528274130.py:13: SettingWithCopyWarning: \n",
      "A value is trying to be set on a copy of a slice from a DataFrame.\n",
      "Try using .loc[row_indexer,col_indexer] = value instead\n",
      "\n",
      "See the caveats in the documentation: https://pandas.pydata.org/pandas-docs/stable/user_guide/indexing.html#returning-a-view-versus-a-copy\n",
      "  data['isModified']  = data.apply(classifiy_mods,axis=1)\n"
     ]
    },
    {
     "name": "stdout",
     "output_type": "stream",
     "text": [
      "PXD005833 openprot AM16\n"
     ]
    },
    {
     "name": "stderr",
     "output_type": "stream",
     "text": [
      "/tmp/ipykernel_3338008/3528274130.py:10: SettingWithCopyWarning: \n",
      "A value is trying to be set on a copy of a slice from a DataFrame.\n",
      "Try using .loc[row_indexer,col_indexer] = value instead\n",
      "\n",
      "See the caveats in the documentation: https://pandas.pydata.org/pandas-docs/stable/user_guide/indexing.html#returning-a-view-versus-a-copy\n",
      "  data['protein_classes'] = data.proteins.apply(lambda x: np.unique([classify_leadprot(_) for _ in x.split(\"||\")]))\n",
      "/tmp/ipykernel_3338008/3528274130.py:12: SettingWithCopyWarning: \n",
      "A value is trying to be set on a copy of a slice from a DataFrame.\n",
      "Try using .loc[row_indexer,col_indexer] = value instead\n",
      "\n",
      "See the caveats in the documentation: https://pandas.pydata.org/pandas-docs/stable/user_guide/indexing.html#returning-a-view-versus-a-copy\n",
      "  data['isCanonical'] = data.protein_classes.apply(is_peptide_canonical)\n",
      "/tmp/ipykernel_3338008/3528274130.py:13: SettingWithCopyWarning: \n",
      "A value is trying to be set on a copy of a slice from a DataFrame.\n",
      "Try using .loc[row_indexer,col_indexer] = value instead\n",
      "\n",
      "See the caveats in the documentation: https://pandas.pydata.org/pandas-docs/stable/user_guide/indexing.html#returning-a-view-versus-a-copy\n",
      "  data['isModified']  = data.apply(classifiy_mods,axis=1)\n"
     ]
    },
    {
     "name": "stdout",
     "output_type": "stream",
     "text": [
      "PXD005833 openprot AM9\n"
     ]
    },
    {
     "name": "stderr",
     "output_type": "stream",
     "text": [
      "/tmp/ipykernel_3338008/3528274130.py:10: SettingWithCopyWarning: \n",
      "A value is trying to be set on a copy of a slice from a DataFrame.\n",
      "Try using .loc[row_indexer,col_indexer] = value instead\n",
      "\n",
      "See the caveats in the documentation: https://pandas.pydata.org/pandas-docs/stable/user_guide/indexing.html#returning-a-view-versus-a-copy\n",
      "  data['protein_classes'] = data.proteins.apply(lambda x: np.unique([classify_leadprot(_) for _ in x.split(\"||\")]))\n",
      "/tmp/ipykernel_3338008/3528274130.py:12: SettingWithCopyWarning: \n",
      "A value is trying to be set on a copy of a slice from a DataFrame.\n",
      "Try using .loc[row_indexer,col_indexer] = value instead\n",
      "\n",
      "See the caveats in the documentation: https://pandas.pydata.org/pandas-docs/stable/user_guide/indexing.html#returning-a-view-versus-a-copy\n",
      "  data['isCanonical'] = data.protein_classes.apply(is_peptide_canonical)\n",
      "/tmp/ipykernel_3338008/3528274130.py:13: SettingWithCopyWarning: \n",
      "A value is trying to be set on a copy of a slice from a DataFrame.\n",
      "Try using .loc[row_indexer,col_indexer] = value instead\n",
      "\n",
      "See the caveats in the documentation: https://pandas.pydata.org/pandas-docs/stable/user_guide/indexing.html#returning-a-view-versus-a-copy\n",
      "  data['isModified']  = data.apply(classifiy_mods,axis=1)\n"
     ]
    },
    {
     "name": "stdout",
     "output_type": "stream",
     "text": [
      "PXD005833 openprot AM15\n"
     ]
    },
    {
     "name": "stderr",
     "output_type": "stream",
     "text": [
      "/tmp/ipykernel_3338008/3528274130.py:10: SettingWithCopyWarning: \n",
      "A value is trying to be set on a copy of a slice from a DataFrame.\n",
      "Try using .loc[row_indexer,col_indexer] = value instead\n",
      "\n",
      "See the caveats in the documentation: https://pandas.pydata.org/pandas-docs/stable/user_guide/indexing.html#returning-a-view-versus-a-copy\n",
      "  data['protein_classes'] = data.proteins.apply(lambda x: np.unique([classify_leadprot(_) for _ in x.split(\"||\")]))\n",
      "/tmp/ipykernel_3338008/3528274130.py:12: SettingWithCopyWarning: \n",
      "A value is trying to be set on a copy of a slice from a DataFrame.\n",
      "Try using .loc[row_indexer,col_indexer] = value instead\n",
      "\n",
      "See the caveats in the documentation: https://pandas.pydata.org/pandas-docs/stable/user_guide/indexing.html#returning-a-view-versus-a-copy\n",
      "  data['isCanonical'] = data.protein_classes.apply(is_peptide_canonical)\n",
      "/tmp/ipykernel_3338008/3528274130.py:13: SettingWithCopyWarning: \n",
      "A value is trying to be set on a copy of a slice from a DataFrame.\n",
      "Try using .loc[row_indexer,col_indexer] = value instead\n",
      "\n",
      "See the caveats in the documentation: https://pandas.pydata.org/pandas-docs/stable/user_guide/indexing.html#returning-a-view-versus-a-copy\n",
      "  data['isModified']  = data.apply(classifiy_mods,axis=1)\n"
     ]
    },
    {
     "name": "stdout",
     "output_type": "stream",
     "text": [
      "PXD005833 openprot AM11\n"
     ]
    },
    {
     "name": "stderr",
     "output_type": "stream",
     "text": [
      "/tmp/ipykernel_3338008/3528274130.py:10: SettingWithCopyWarning: \n",
      "A value is trying to be set on a copy of a slice from a DataFrame.\n",
      "Try using .loc[row_indexer,col_indexer] = value instead\n",
      "\n",
      "See the caveats in the documentation: https://pandas.pydata.org/pandas-docs/stable/user_guide/indexing.html#returning-a-view-versus-a-copy\n",
      "  data['protein_classes'] = data.proteins.apply(lambda x: np.unique([classify_leadprot(_) for _ in x.split(\"||\")]))\n",
      "/tmp/ipykernel_3338008/3528274130.py:12: SettingWithCopyWarning: \n",
      "A value is trying to be set on a copy of a slice from a DataFrame.\n",
      "Try using .loc[row_indexer,col_indexer] = value instead\n",
      "\n",
      "See the caveats in the documentation: https://pandas.pydata.org/pandas-docs/stable/user_guide/indexing.html#returning-a-view-versus-a-copy\n",
      "  data['isCanonical'] = data.protein_classes.apply(is_peptide_canonical)\n",
      "/tmp/ipykernel_3338008/3528274130.py:13: SettingWithCopyWarning: \n",
      "A value is trying to be set on a copy of a slice from a DataFrame.\n",
      "Try using .loc[row_indexer,col_indexer] = value instead\n",
      "\n",
      "See the caveats in the documentation: https://pandas.pydata.org/pandas-docs/stable/user_guide/indexing.html#returning-a-view-versus-a-copy\n",
      "  data['isModified']  = data.apply(classifiy_mods,axis=1)\n"
     ]
    },
    {
     "name": "stdout",
     "output_type": "stream",
     "text": [
      "PXD005833 openprot AM19\n"
     ]
    },
    {
     "name": "stderr",
     "output_type": "stream",
     "text": [
      "/tmp/ipykernel_3338008/3528274130.py:10: SettingWithCopyWarning: \n",
      "A value is trying to be set on a copy of a slice from a DataFrame.\n",
      "Try using .loc[row_indexer,col_indexer] = value instead\n",
      "\n",
      "See the caveats in the documentation: https://pandas.pydata.org/pandas-docs/stable/user_guide/indexing.html#returning-a-view-versus-a-copy\n",
      "  data['protein_classes'] = data.proteins.apply(lambda x: np.unique([classify_leadprot(_) for _ in x.split(\"||\")]))\n",
      "/tmp/ipykernel_3338008/3528274130.py:12: SettingWithCopyWarning: \n",
      "A value is trying to be set on a copy of a slice from a DataFrame.\n",
      "Try using .loc[row_indexer,col_indexer] = value instead\n",
      "\n",
      "See the caveats in the documentation: https://pandas.pydata.org/pandas-docs/stable/user_guide/indexing.html#returning-a-view-versus-a-copy\n",
      "  data['isCanonical'] = data.protein_classes.apply(is_peptide_canonical)\n",
      "/tmp/ipykernel_3338008/3528274130.py:13: SettingWithCopyWarning: \n",
      "A value is trying to be set on a copy of a slice from a DataFrame.\n",
      "Try using .loc[row_indexer,col_indexer] = value instead\n",
      "\n",
      "See the caveats in the documentation: https://pandas.pydata.org/pandas-docs/stable/user_guide/indexing.html#returning-a-view-versus-a-copy\n",
      "  data['isModified']  = data.apply(classifiy_mods,axis=1)\n"
     ]
    },
    {
     "name": "stdout",
     "output_type": "stream",
     "text": [
      "PXD005833 openprot AM21\n"
     ]
    },
    {
     "name": "stderr",
     "output_type": "stream",
     "text": [
      "/tmp/ipykernel_3338008/3528274130.py:10: SettingWithCopyWarning: \n",
      "A value is trying to be set on a copy of a slice from a DataFrame.\n",
      "Try using .loc[row_indexer,col_indexer] = value instead\n",
      "\n",
      "See the caveats in the documentation: https://pandas.pydata.org/pandas-docs/stable/user_guide/indexing.html#returning-a-view-versus-a-copy\n",
      "  data['protein_classes'] = data.proteins.apply(lambda x: np.unique([classify_leadprot(_) for _ in x.split(\"||\")]))\n",
      "/tmp/ipykernel_3338008/3528274130.py:12: SettingWithCopyWarning: \n",
      "A value is trying to be set on a copy of a slice from a DataFrame.\n",
      "Try using .loc[row_indexer,col_indexer] = value instead\n",
      "\n",
      "See the caveats in the documentation: https://pandas.pydata.org/pandas-docs/stable/user_guide/indexing.html#returning-a-view-versus-a-copy\n",
      "  data['isCanonical'] = data.protein_classes.apply(is_peptide_canonical)\n",
      "/tmp/ipykernel_3338008/3528274130.py:13: SettingWithCopyWarning: \n",
      "A value is trying to be set on a copy of a slice from a DataFrame.\n",
      "Try using .loc[row_indexer,col_indexer] = value instead\n",
      "\n",
      "See the caveats in the documentation: https://pandas.pydata.org/pandas-docs/stable/user_guide/indexing.html#returning-a-view-versus-a-copy\n",
      "  data['isModified']  = data.apply(classifiy_mods,axis=1)\n"
     ]
    },
    {
     "name": "stdout",
     "output_type": "stream",
     "text": [
      "PXD005833 openprot AM10\n"
     ]
    },
    {
     "name": "stderr",
     "output_type": "stream",
     "text": [
      "/tmp/ipykernel_3338008/3528274130.py:10: SettingWithCopyWarning: \n",
      "A value is trying to be set on a copy of a slice from a DataFrame.\n",
      "Try using .loc[row_indexer,col_indexer] = value instead\n",
      "\n",
      "See the caveats in the documentation: https://pandas.pydata.org/pandas-docs/stable/user_guide/indexing.html#returning-a-view-versus-a-copy\n",
      "  data['protein_classes'] = data.proteins.apply(lambda x: np.unique([classify_leadprot(_) for _ in x.split(\"||\")]))\n",
      "/tmp/ipykernel_3338008/3528274130.py:12: SettingWithCopyWarning: \n",
      "A value is trying to be set on a copy of a slice from a DataFrame.\n",
      "Try using .loc[row_indexer,col_indexer] = value instead\n",
      "\n",
      "See the caveats in the documentation: https://pandas.pydata.org/pandas-docs/stable/user_guide/indexing.html#returning-a-view-versus-a-copy\n",
      "  data['isCanonical'] = data.protein_classes.apply(is_peptide_canonical)\n",
      "/tmp/ipykernel_3338008/3528274130.py:13: SettingWithCopyWarning: \n",
      "A value is trying to be set on a copy of a slice from a DataFrame.\n",
      "Try using .loc[row_indexer,col_indexer] = value instead\n",
      "\n",
      "See the caveats in the documentation: https://pandas.pydata.org/pandas-docs/stable/user_guide/indexing.html#returning-a-view-versus-a-copy\n",
      "  data['isModified']  = data.apply(classifiy_mods,axis=1)\n"
     ]
    },
    {
     "name": "stdout",
     "output_type": "stream",
     "text": [
      "PXD005833 openprot AM17\n"
     ]
    },
    {
     "name": "stderr",
     "output_type": "stream",
     "text": [
      "/tmp/ipykernel_3338008/3528274130.py:10: SettingWithCopyWarning: \n",
      "A value is trying to be set on a copy of a slice from a DataFrame.\n",
      "Try using .loc[row_indexer,col_indexer] = value instead\n",
      "\n",
      "See the caveats in the documentation: https://pandas.pydata.org/pandas-docs/stable/user_guide/indexing.html#returning-a-view-versus-a-copy\n",
      "  data['protein_classes'] = data.proteins.apply(lambda x: np.unique([classify_leadprot(_) for _ in x.split(\"||\")]))\n",
      "/tmp/ipykernel_3338008/3528274130.py:12: SettingWithCopyWarning: \n",
      "A value is trying to be set on a copy of a slice from a DataFrame.\n",
      "Try using .loc[row_indexer,col_indexer] = value instead\n",
      "\n",
      "See the caveats in the documentation: https://pandas.pydata.org/pandas-docs/stable/user_guide/indexing.html#returning-a-view-versus-a-copy\n",
      "  data['isCanonical'] = data.protein_classes.apply(is_peptide_canonical)\n",
      "/tmp/ipykernel_3338008/3528274130.py:13: SettingWithCopyWarning: \n",
      "A value is trying to be set on a copy of a slice from a DataFrame.\n",
      "Try using .loc[row_indexer,col_indexer] = value instead\n",
      "\n",
      "See the caveats in the documentation: https://pandas.pydata.org/pandas-docs/stable/user_guide/indexing.html#returning-a-view-versus-a-copy\n",
      "  data['isModified']  = data.apply(classifiy_mods,axis=1)\n"
     ]
    },
    {
     "name": "stdout",
     "output_type": "stream",
     "text": [
      "PXD005833 openprot AM8\n"
     ]
    },
    {
     "name": "stderr",
     "output_type": "stream",
     "text": [
      "/tmp/ipykernel_3338008/3528274130.py:10: SettingWithCopyWarning: \n",
      "A value is trying to be set on a copy of a slice from a DataFrame.\n",
      "Try using .loc[row_indexer,col_indexer] = value instead\n",
      "\n",
      "See the caveats in the documentation: https://pandas.pydata.org/pandas-docs/stable/user_guide/indexing.html#returning-a-view-versus-a-copy\n",
      "  data['protein_classes'] = data.proteins.apply(lambda x: np.unique([classify_leadprot(_) for _ in x.split(\"||\")]))\n",
      "/tmp/ipykernel_3338008/3528274130.py:12: SettingWithCopyWarning: \n",
      "A value is trying to be set on a copy of a slice from a DataFrame.\n",
      "Try using .loc[row_indexer,col_indexer] = value instead\n",
      "\n",
      "See the caveats in the documentation: https://pandas.pydata.org/pandas-docs/stable/user_guide/indexing.html#returning-a-view-versus-a-copy\n",
      "  data['isCanonical'] = data.protein_classes.apply(is_peptide_canonical)\n",
      "/tmp/ipykernel_3338008/3528274130.py:13: SettingWithCopyWarning: \n",
      "A value is trying to be set on a copy of a slice from a DataFrame.\n",
      "Try using .loc[row_indexer,col_indexer] = value instead\n",
      "\n",
      "See the caveats in the documentation: https://pandas.pydata.org/pandas-docs/stable/user_guide/indexing.html#returning-a-view-versus-a-copy\n",
      "  data['isModified']  = data.apply(classifiy_mods,axis=1)\n"
     ]
    },
    {
     "name": "stdout",
     "output_type": "stream",
     "text": [
      "PXD014258 canon ESC_HF_Sample_BT474\n"
     ]
    },
    {
     "name": "stderr",
     "output_type": "stream",
     "text": [
      "/tmp/ipykernel_3338008/3528274130.py:10: SettingWithCopyWarning: \n",
      "A value is trying to be set on a copy of a slice from a DataFrame.\n",
      "Try using .loc[row_indexer,col_indexer] = value instead\n",
      "\n",
      "See the caveats in the documentation: https://pandas.pydata.org/pandas-docs/stable/user_guide/indexing.html#returning-a-view-versus-a-copy\n",
      "  data['protein_classes'] = data.proteins.apply(lambda x: np.unique([classify_leadprot(_) for _ in x.split(\"||\")]))\n",
      "/tmp/ipykernel_3338008/3528274130.py:12: SettingWithCopyWarning: \n",
      "A value is trying to be set on a copy of a slice from a DataFrame.\n",
      "Try using .loc[row_indexer,col_indexer] = value instead\n",
      "\n",
      "See the caveats in the documentation: https://pandas.pydata.org/pandas-docs/stable/user_guide/indexing.html#returning-a-view-versus-a-copy\n",
      "  data['isCanonical'] = data.protein_classes.apply(is_peptide_canonical)\n",
      "/tmp/ipykernel_3338008/3528274130.py:13: SettingWithCopyWarning: \n",
      "A value is trying to be set on a copy of a slice from a DataFrame.\n",
      "Try using .loc[row_indexer,col_indexer] = value instead\n",
      "\n",
      "See the caveats in the documentation: https://pandas.pydata.org/pandas-docs/stable/user_guide/indexing.html#returning-a-view-versus-a-copy\n",
      "  data['isModified']  = data.apply(classifiy_mods,axis=1)\n"
     ]
    },
    {
     "name": "stdout",
     "output_type": "stream",
     "text": [
      "PXD014258 canon ESC_HF_SampleHela\n"
     ]
    },
    {
     "name": "stderr",
     "output_type": "stream",
     "text": [
      "/tmp/ipykernel_3338008/3528274130.py:10: SettingWithCopyWarning: \n",
      "A value is trying to be set on a copy of a slice from a DataFrame.\n",
      "Try using .loc[row_indexer,col_indexer] = value instead\n",
      "\n",
      "See the caveats in the documentation: https://pandas.pydata.org/pandas-docs/stable/user_guide/indexing.html#returning-a-view-versus-a-copy\n",
      "  data['protein_classes'] = data.proteins.apply(lambda x: np.unique([classify_leadprot(_) for _ in x.split(\"||\")]))\n",
      "/tmp/ipykernel_3338008/3528274130.py:12: SettingWithCopyWarning: \n",
      "A value is trying to be set on a copy of a slice from a DataFrame.\n",
      "Try using .loc[row_indexer,col_indexer] = value instead\n",
      "\n",
      "See the caveats in the documentation: https://pandas.pydata.org/pandas-docs/stable/user_guide/indexing.html#returning-a-view-versus-a-copy\n",
      "  data['isCanonical'] = data.protein_classes.apply(is_peptide_canonical)\n",
      "/tmp/ipykernel_3338008/3528274130.py:13: SettingWithCopyWarning: \n",
      "A value is trying to be set on a copy of a slice from a DataFrame.\n",
      "Try using .loc[row_indexer,col_indexer] = value instead\n",
      "\n",
      "See the caveats in the documentation: https://pandas.pydata.org/pandas-docs/stable/user_guide/indexing.html#returning-a-view-versus-a-copy\n",
      "  data['isModified']  = data.apply(classifiy_mods,axis=1)\n"
     ]
    },
    {
     "name": "stdout",
     "output_type": "stream",
     "text": [
      "PXD014258 canon ESC_HF_Sample_MCF\n"
     ]
    },
    {
     "name": "stderr",
     "output_type": "stream",
     "text": [
      "/tmp/ipykernel_3338008/3528274130.py:10: SettingWithCopyWarning: \n",
      "A value is trying to be set on a copy of a slice from a DataFrame.\n",
      "Try using .loc[row_indexer,col_indexer] = value instead\n",
      "\n",
      "See the caveats in the documentation: https://pandas.pydata.org/pandas-docs/stable/user_guide/indexing.html#returning-a-view-versus-a-copy\n",
      "  data['protein_classes'] = data.proteins.apply(lambda x: np.unique([classify_leadprot(_) for _ in x.split(\"||\")]))\n",
      "/tmp/ipykernel_3338008/3528274130.py:12: SettingWithCopyWarning: \n",
      "A value is trying to be set on a copy of a slice from a DataFrame.\n",
      "Try using .loc[row_indexer,col_indexer] = value instead\n",
      "\n",
      "See the caveats in the documentation: https://pandas.pydata.org/pandas-docs/stable/user_guide/indexing.html#returning-a-view-versus-a-copy\n",
      "  data['isCanonical'] = data.protein_classes.apply(is_peptide_canonical)\n",
      "/tmp/ipykernel_3338008/3528274130.py:13: SettingWithCopyWarning: \n",
      "A value is trying to be set on a copy of a slice from a DataFrame.\n",
      "Try using .loc[row_indexer,col_indexer] = value instead\n",
      "\n",
      "See the caveats in the documentation: https://pandas.pydata.org/pandas-docs/stable/user_guide/indexing.html#returning-a-view-versus-a-copy\n",
      "  data['isModified']  = data.apply(classifiy_mods,axis=1)\n"
     ]
    },
    {
     "name": "stdout",
     "output_type": "stream",
     "text": [
      "PXD014258 trembl ESC_HF_Sample_BT474\n"
     ]
    },
    {
     "name": "stderr",
     "output_type": "stream",
     "text": [
      "/tmp/ipykernel_3338008/3528274130.py:10: SettingWithCopyWarning: \n",
      "A value is trying to be set on a copy of a slice from a DataFrame.\n",
      "Try using .loc[row_indexer,col_indexer] = value instead\n",
      "\n",
      "See the caveats in the documentation: https://pandas.pydata.org/pandas-docs/stable/user_guide/indexing.html#returning-a-view-versus-a-copy\n",
      "  data['protein_classes'] = data.proteins.apply(lambda x: np.unique([classify_leadprot(_) for _ in x.split(\"||\")]))\n",
      "/tmp/ipykernel_3338008/3528274130.py:12: SettingWithCopyWarning: \n",
      "A value is trying to be set on a copy of a slice from a DataFrame.\n",
      "Try using .loc[row_indexer,col_indexer] = value instead\n",
      "\n",
      "See the caveats in the documentation: https://pandas.pydata.org/pandas-docs/stable/user_guide/indexing.html#returning-a-view-versus-a-copy\n",
      "  data['isCanonical'] = data.protein_classes.apply(is_peptide_canonical)\n",
      "/tmp/ipykernel_3338008/3528274130.py:13: SettingWithCopyWarning: \n",
      "A value is trying to be set on a copy of a slice from a DataFrame.\n",
      "Try using .loc[row_indexer,col_indexer] = value instead\n",
      "\n",
      "See the caveats in the documentation: https://pandas.pydata.org/pandas-docs/stable/user_guide/indexing.html#returning-a-view-versus-a-copy\n",
      "  data['isModified']  = data.apply(classifiy_mods,axis=1)\n"
     ]
    },
    {
     "name": "stdout",
     "output_type": "stream",
     "text": [
      "PXD014258 trembl ESC_HF_SampleHela\n"
     ]
    },
    {
     "name": "stderr",
     "output_type": "stream",
     "text": [
      "/tmp/ipykernel_3338008/3528274130.py:10: SettingWithCopyWarning: \n",
      "A value is trying to be set on a copy of a slice from a DataFrame.\n",
      "Try using .loc[row_indexer,col_indexer] = value instead\n",
      "\n",
      "See the caveats in the documentation: https://pandas.pydata.org/pandas-docs/stable/user_guide/indexing.html#returning-a-view-versus-a-copy\n",
      "  data['protein_classes'] = data.proteins.apply(lambda x: np.unique([classify_leadprot(_) for _ in x.split(\"||\")]))\n",
      "/tmp/ipykernel_3338008/3528274130.py:12: SettingWithCopyWarning: \n",
      "A value is trying to be set on a copy of a slice from a DataFrame.\n",
      "Try using .loc[row_indexer,col_indexer] = value instead\n",
      "\n",
      "See the caveats in the documentation: https://pandas.pydata.org/pandas-docs/stable/user_guide/indexing.html#returning-a-view-versus-a-copy\n",
      "  data['isCanonical'] = data.protein_classes.apply(is_peptide_canonical)\n",
      "/tmp/ipykernel_3338008/3528274130.py:13: SettingWithCopyWarning: \n",
      "A value is trying to be set on a copy of a slice from a DataFrame.\n",
      "Try using .loc[row_indexer,col_indexer] = value instead\n",
      "\n",
      "See the caveats in the documentation: https://pandas.pydata.org/pandas-docs/stable/user_guide/indexing.html#returning-a-view-versus-a-copy\n",
      "  data['isModified']  = data.apply(classifiy_mods,axis=1)\n"
     ]
    },
    {
     "name": "stdout",
     "output_type": "stream",
     "text": [
      "PXD014258 trembl ESC_HF_Sample_MCF\n"
     ]
    },
    {
     "name": "stderr",
     "output_type": "stream",
     "text": [
      "/tmp/ipykernel_3338008/3528274130.py:10: SettingWithCopyWarning: \n",
      "A value is trying to be set on a copy of a slice from a DataFrame.\n",
      "Try using .loc[row_indexer,col_indexer] = value instead\n",
      "\n",
      "See the caveats in the documentation: https://pandas.pydata.org/pandas-docs/stable/user_guide/indexing.html#returning-a-view-versus-a-copy\n",
      "  data['protein_classes'] = data.proteins.apply(lambda x: np.unique([classify_leadprot(_) for _ in x.split(\"||\")]))\n",
      "/tmp/ipykernel_3338008/3528274130.py:12: SettingWithCopyWarning: \n",
      "A value is trying to be set on a copy of a slice from a DataFrame.\n",
      "Try using .loc[row_indexer,col_indexer] = value instead\n",
      "\n",
      "See the caveats in the documentation: https://pandas.pydata.org/pandas-docs/stable/user_guide/indexing.html#returning-a-view-versus-a-copy\n",
      "  data['isCanonical'] = data.protein_classes.apply(is_peptide_canonical)\n",
      "/tmp/ipykernel_3338008/3528274130.py:13: SettingWithCopyWarning: \n",
      "A value is trying to be set on a copy of a slice from a DataFrame.\n",
      "Try using .loc[row_indexer,col_indexer] = value instead\n",
      "\n",
      "See the caveats in the documentation: https://pandas.pydata.org/pandas-docs/stable/user_guide/indexing.html#returning-a-view-versus-a-copy\n",
      "  data['isModified']  = data.apply(classifiy_mods,axis=1)\n"
     ]
    },
    {
     "name": "stdout",
     "output_type": "stream",
     "text": [
      "PXD014258 openprot ESC_HF_Sample_BT474\n"
     ]
    },
    {
     "name": "stderr",
     "output_type": "stream",
     "text": [
      "/tmp/ipykernel_3338008/3528274130.py:10: SettingWithCopyWarning: \n",
      "A value is trying to be set on a copy of a slice from a DataFrame.\n",
      "Try using .loc[row_indexer,col_indexer] = value instead\n",
      "\n",
      "See the caveats in the documentation: https://pandas.pydata.org/pandas-docs/stable/user_guide/indexing.html#returning-a-view-versus-a-copy\n",
      "  data['protein_classes'] = data.proteins.apply(lambda x: np.unique([classify_leadprot(_) for _ in x.split(\"||\")]))\n",
      "/tmp/ipykernel_3338008/3528274130.py:12: SettingWithCopyWarning: \n",
      "A value is trying to be set on a copy of a slice from a DataFrame.\n",
      "Try using .loc[row_indexer,col_indexer] = value instead\n",
      "\n",
      "See the caveats in the documentation: https://pandas.pydata.org/pandas-docs/stable/user_guide/indexing.html#returning-a-view-versus-a-copy\n",
      "  data['isCanonical'] = data.protein_classes.apply(is_peptide_canonical)\n",
      "/tmp/ipykernel_3338008/3528274130.py:13: SettingWithCopyWarning: \n",
      "A value is trying to be set on a copy of a slice from a DataFrame.\n",
      "Try using .loc[row_indexer,col_indexer] = value instead\n",
      "\n",
      "See the caveats in the documentation: https://pandas.pydata.org/pandas-docs/stable/user_guide/indexing.html#returning-a-view-versus-a-copy\n",
      "  data['isModified']  = data.apply(classifiy_mods,axis=1)\n"
     ]
    },
    {
     "name": "stdout",
     "output_type": "stream",
     "text": [
      "PXD014258 openprot ESC_HF_SampleHela\n"
     ]
    },
    {
     "name": "stderr",
     "output_type": "stream",
     "text": [
      "/tmp/ipykernel_3338008/3528274130.py:10: SettingWithCopyWarning: \n",
      "A value is trying to be set on a copy of a slice from a DataFrame.\n",
      "Try using .loc[row_indexer,col_indexer] = value instead\n",
      "\n",
      "See the caveats in the documentation: https://pandas.pydata.org/pandas-docs/stable/user_guide/indexing.html#returning-a-view-versus-a-copy\n",
      "  data['protein_classes'] = data.proteins.apply(lambda x: np.unique([classify_leadprot(_) for _ in x.split(\"||\")]))\n",
      "/tmp/ipykernel_3338008/3528274130.py:12: SettingWithCopyWarning: \n",
      "A value is trying to be set on a copy of a slice from a DataFrame.\n",
      "Try using .loc[row_indexer,col_indexer] = value instead\n",
      "\n",
      "See the caveats in the documentation: https://pandas.pydata.org/pandas-docs/stable/user_guide/indexing.html#returning-a-view-versus-a-copy\n",
      "  data['isCanonical'] = data.protein_classes.apply(is_peptide_canonical)\n",
      "/tmp/ipykernel_3338008/3528274130.py:13: SettingWithCopyWarning: \n",
      "A value is trying to be set on a copy of a slice from a DataFrame.\n",
      "Try using .loc[row_indexer,col_indexer] = value instead\n",
      "\n",
      "See the caveats in the documentation: https://pandas.pydata.org/pandas-docs/stable/user_guide/indexing.html#returning-a-view-versus-a-copy\n",
      "  data['isModified']  = data.apply(classifiy_mods,axis=1)\n"
     ]
    },
    {
     "name": "stdout",
     "output_type": "stream",
     "text": [
      "PXD014258 openprot ESC_HF_Sample_MCF\n"
     ]
    },
    {
     "name": "stderr",
     "output_type": "stream",
     "text": [
      "/tmp/ipykernel_3338008/3528274130.py:10: SettingWithCopyWarning: \n",
      "A value is trying to be set on a copy of a slice from a DataFrame.\n",
      "Try using .loc[row_indexer,col_indexer] = value instead\n",
      "\n",
      "See the caveats in the documentation: https://pandas.pydata.org/pandas-docs/stable/user_guide/indexing.html#returning-a-view-versus-a-copy\n",
      "  data['protein_classes'] = data.proteins.apply(lambda x: np.unique([classify_leadprot(_) for _ in x.split(\"||\")]))\n",
      "/tmp/ipykernel_3338008/3528274130.py:12: SettingWithCopyWarning: \n",
      "A value is trying to be set on a copy of a slice from a DataFrame.\n",
      "Try using .loc[row_indexer,col_indexer] = value instead\n",
      "\n",
      "See the caveats in the documentation: https://pandas.pydata.org/pandas-docs/stable/user_guide/indexing.html#returning-a-view-versus-a-copy\n",
      "  data['isCanonical'] = data.protein_classes.apply(is_peptide_canonical)\n",
      "/tmp/ipykernel_3338008/3528274130.py:13: SettingWithCopyWarning: \n",
      "A value is trying to be set on a copy of a slice from a DataFrame.\n",
      "Try using .loc[row_indexer,col_indexer] = value instead\n",
      "\n",
      "See the caveats in the documentation: https://pandas.pydata.org/pandas-docs/stable/user_guide/indexing.html#returning-a-view-versus-a-copy\n",
      "  data['isModified']  = data.apply(classifiy_mods,axis=1)\n"
     ]
    }
   ],
   "source": [
    "for dataset, subdict in prophet_combined_datasets.items():\n",
    "    for database,df_ds in subdict.items():\n",
    "        #extract features\n",
    "        df_ds=init_file(df_ds)\n",
    "        df_ds_new=[]\n",
    "        for spectrum_file in set(df_ds.spectrum_file):\n",
    "            print(dataset,database,spectrum_file)\n",
    "            data=df_ds.loc[df_ds.spectrum_file==spectrum_file]\n",
    "\n",
    "            data['protein_classes'] = data.proteins.apply(lambda x: np.unique([classify_leadprot(_) for _ in x.split(\"||\")]))\n",
    "            \n",
    "            data['isCanonical'] = data.protein_classes.apply(is_peptide_canonical)\n",
    "            data['isModified']  = data.apply(classifiy_mods,axis=1)\n",
    "        \n",
    "            # Adds a columns telling you if a PSM passes the custom filters or not (custom_filter_pass)\n",
    "            data2 = custom_subgroup_filter(data)\n",
    "            del data\n",
    "        \n",
    "            # prepare for Group-walk\n",
    "            data2['isTarget'] = data2.database.apply(lambda x: int(x=='T'))\n",
    "            data2['FDRGroup'] = data2.isCanonical + '_' + data2.isModified\n",
    "            #hybrid\n",
    "            data2[\"glob_cust_hybrid\"]=data2.apply(lambda x: x.custom_q if x.isCanonical==\"NonCanonical\" else x.global_q, axis=1)\n",
    "            \n",
    "            df_ds_new.append(data2)\n",
    "        prophet_combined_datasets[dataset][database]=pd.concat(df_ds_new)"
   ]
  },
  {
   "cell_type": "code",
   "execution_count": 34,
   "id": "ac707a3d-feef-4dea-a3ad-3a57dc246a8b",
   "metadata": {},
   "outputs": [],
   "source": [
    "pickle.dump(prophet_combined_datasets,open(\"prophet_combined_datasets.pkl\",\"wb\"))"
   ]
  },
  {
   "cell_type": "code",
   "execution_count": null,
   "id": "f3571c28-fea7-4296-b364-035456af1010",
   "metadata": {},
   "outputs": [],
   "source": [
    "prophet_combined_datasets=pickle.load(open(\"prophet_combined_datasets.pkl\",\"rb\"))"
   ]
  },
  {
   "cell_type": "markdown",
   "id": "959db0d3-0970-4fe1-9f6d-f1e9464f4c47",
   "metadata": {},
   "source": [
    "#### Save into table to do protein inference with ionbot pipeline"
   ]
  },
  {
   "cell_type": "code",
   "execution_count": 28,
   "id": "42faffd4-575a-43c2-940c-947e93683270",
   "metadata": {},
   "outputs": [],
   "source": [
    "#comb_peproph=pd.DataFrame()\n",
    "#for dataset, subdict in prophet_combined_datasets.items():\n",
    "#    for database,data in subdict.items():\n",
    "#        data[\"searchDB\"]=database\n",
    "#        comb_peproph=pd.concat([comb_peproph,data])\n",
    "#comb_peproph.to_csv(\"./group-wise-tpp-fragpipe-psm/fragpipe_peptideprophet_custom_unfilt.csv\",index=False)"
   ]
  },
  {
   "cell_type": "code",
   "execution_count": 32,
   "id": "3500704f-89bd-4811-a8b1-2332881c28c9",
   "metadata": {},
   "outputs": [],
   "source": [
    "#hybrid - bad: x.custom_q if x.isCanonical==\"NonCanonical\" else x.global_q\n",
    "#comb_peproph[\"glob_cust_hybrid\"]=comb_peproph.apply(lambda x: x[\"q-value\"] if x.isCanonical else x[\"custom_q\"], axis=1)\n",
    "#comb_peproph.to_csv(\"./group-wise-tpp-fragpipe-psm/fragpipe_peptideprophet_custom_unfilt.csv\",index=False)"
   ]
  },
  {
   "cell_type": "code",
   "execution_count": 35,
   "id": "dee93f0e-1e44-4061-97c4-9ab35cf41fa2",
   "metadata": {},
   "outputs": [],
   "source": [
    "#del comb_peproph"
   ]
  },
  {
   "cell_type": "markdown",
   "id": "b48eb60d-786c-427d-a268-fe2efc92d06b",
   "metadata": {},
   "source": [
    "### Filter by hybrid q-value, decoy and contaminants"
   ]
  },
  {
   "cell_type": "code",
   "execution_count": 36,
   "id": "683a7dc3-f46a-4eec-b2c3-8fdd683f4bce",
   "metadata": {},
   "outputs": [],
   "source": [
    "prophet_filt_combined_datasets={\"PXD002057\":{},\"PXD005833\":{},\"PXD014258\":{}}\n",
    "for dataset_name in prophet_combined_datasets:\n",
    "    for database in prophet_combined_datasets[dataset_name]:\n",
    "        df=prophet_combined_datasets[dataset_name][database]\n",
    "        prophet_filt_combined_datasets[dataset_name][database]=df.loc[(df['glob_cust_hybrid']<0.01)&(df.isCanonical!=\"Contam\")&(df[\"hit_class\"]!=\"D\"),:]"
   ]
  },
  {
   "cell_type": "code",
   "execution_count": 37,
   "id": "9f7b97f7-5549-4c78-8cfb-7f8e7fe0642b",
   "metadata": {},
   "outputs": [],
   "source": [
    "pickle.dump(prophet_filt_combined_datasets,open(\"msfr_prophet_filt_combined_datasets.pkl\",\"wb\"))"
   ]
  },
  {
   "cell_type": "markdown",
   "id": "ff945d38-54e3-48e6-b80c-aea73f19d052",
   "metadata": {},
   "source": [
    "### Identification rate by search"
   ]
  },
  {
   "cell_type": "code",
   "execution_count": 38,
   "id": "ae98bd3e-dd1a-4c62-86b2-b577f90d5942",
   "metadata": {},
   "outputs": [],
   "source": [
    "#as tpp does not record spectra file (but merged, input), then add up corresponding merged files n of spectra\n",
    "\n",
    "#PXD014258\n",
    "mgfspectraN_datasets['PXD014258.v0.11.4']={f\"{i}.mgf\":np.sum([mgfspectraN_datasets['PXD014258.v0.11.4'][f\"{i}{j}.RAW.mgf\"] for j in range(1,6)]) \n",
    "     if \"BT474\" not in i \n",
    "    else np.sum([mgfspectraN_datasets['PXD014258.v0.11.4'][f\"{i}_{j}.RAW.mgf\"] for j in range(1,6)])\n",
    "     for i in [\"ESC-HF-Sample-BT474\",\"ESC-HF-SampleHela\",\"ESC-HF-Sample-MCF\"]\n",
    "}"
   ]
  },
  {
   "cell_type": "code",
   "execution_count": 39,
   "id": "e70917e8-aba5-4b99-bf98-0eb9e2215b08",
   "metadata": {},
   "outputs": [],
   "source": [
    "del mgfspectraN_datasets['PXD003594.v0.11.4']"
   ]
  },
  {
   "cell_type": "code",
   "execution_count": 40,
   "id": "97f46802-507e-41e8-a6f3-81926100d4f8",
   "metadata": {},
   "outputs": [],
   "source": [
    "#ID rate on target, filtered\n",
    "\n",
    "prophet_idrate_datasets={\"PXD002057\":0,\"PXD005833\":0,\"PXD014258\":0}\n",
    "for dataset_name in prophet_filt_combined_datasets:\n",
    "    idrate_med={\"canon\":[],\"trembl\":[],\"openprot\":[]}\n",
    "    key=[ds for ds in mgfspectraN_datasets if dataset_name in ds][0]\n",
    "    mgfspectraN=mgfspectraN_datasets[key]\n",
    "    for database in idrate_med:\n",
    "        df=prophet_filt_combined_datasets[dataset_name][database]\n",
    "        ##dff=df[df[\"hit_class\"]!=\"D\"]\n",
    "        for spectrum_file, group in df.groupby(\"spectrum_file\"):\n",
    "            if dataset_name==\"PXD014258\": spectrum_file=spectrum_file.replace(\"_\",\"-\")\n",
    "            nspec=mgfspectraN[spectrum_file+\".mgf\"]\n",
    "            idrate=(len(group)/nspec)\n",
    "            idrate_med[database].append(idrate)\n",
    "    prophet_idrate_datasets[dataset_name]=idrate_med"
   ]
  },
  {
   "cell_type": "code",
   "execution_count": 41,
   "id": "40a561c8-5c2c-411e-8f83-c5fbe740ef6c",
   "metadata": {},
   "outputs": [],
   "source": [
    "prophet_idrate_datasets_df=pd.DataFrame(columns=[\"pipeline\",\"sample\",\"database\",\"value\"])\n",
    "for dataset in prophet_idrate_datasets:\n",
    "    for database in prophet_idrate_datasets[dataset]:\n",
    "        for i,val in enumerate(prophet_idrate_datasets[dataset][database]):\n",
    "            prophet_idrate_datasets_df.loc[len(prophet_idrate_datasets_df)]=[\"FragPipe\",f\"{dataset}_{i}\",database,val]\n",
    "prophet_idrate_datasets_df.to_pickle(\"msfr_idrate_datasets_df.pkl\")"
   ]
  },
  {
   "cell_type": "markdown",
   "id": "1e761bfe-c22a-454f-9009-4267ecd56b0b",
   "metadata": {},
   "source": [
    "### Searches overlap"
   ]
  },
  {
   "cell_type": "code",
   "execution_count": 44,
   "id": "aeb0678a-106f-4a80-b1e0-7cfa14ae51b6",
   "metadata": {},
   "outputs": [
    {
     "data": {
      "image/png": "[encoded data removed]",
      "text/plain": [
       "<Figure size 1600x800 with 3 Axes>"
      ]
     },
     "metadata": {},
     "output_type": "display_data"
    }
   ],
   "source": [
    "fig, axes = plt.subplots(1, 3, sharey=True,sharex=True, figsize=(16,8))\n",
    "fig.suptitle('Overlap of identified spectra between searches, FDR 1%',size=20, y=0.9);\n",
    "for i, dataset_name in enumerate(prophet_filt_combined_datasets):\n",
    "    dfs=list(prophet_filt_combined_datasets[dataset_name].values())\n",
    "    databases=list(prophet_filt_combined_datasets[dataset_name].keys())\n",
    "    venn3([set(dfs[0].spectrum),set(dfs[1].spectrum),set(dfs[2].spectrum)], ax=axes[i],\n",
    "      set_labels=[databases[0],databases[1],databases[2]], set_colors=(project_palette[databases[0]],project_palette[databases[1]],project_palette[databases[2]]))\n",
    "    axes[i].set_title(f\"{dataset_name}\")\n",
    "p=[]\n",
    "for l,c in project_palette.items():\n",
    "    p.append(mpatches.Patch(color=c, label=l,alpha=0.3))  \n",
    "fig.legend(handles=p, title=\"search database\",loc='upper right',bbox_to_anchor=(1, 0.5));"
   ]
  },
  {
   "cell_type": "code",
   "execution_count": 45,
   "id": "4ee7e97e-aa6c-43d0-a65a-f5ccbf36df29",
   "metadata": {},
   "outputs": [
    {
     "data": {
      "image/png": "[encoded data removed]",
      "text/plain": [
       "<Figure size 1600x800 with 3 Axes>"
      ]
     },
     "metadata": {},
     "output_type": "display_data"
    }
   ],
   "source": [
    "fig, axes = plt.subplots(1, 3, sharey=True,sharex=True, figsize=(16,8))\n",
    "fig.suptitle('Overlap of identified peptides between searches, FDR 1%',size=20, y=0.9);\n",
    "for i, dataset_name in enumerate(prophet_filt_combined_datasets):\n",
    "    dfs=list(prophet_filt_combined_datasets[dataset_name].values())\n",
    "    databases=list(prophet_filt_combined_datasets[dataset_name].keys())\n",
    "    venn3([set(dfs[0].peptide),set(dfs[1].peptide),set(dfs[2].peptide)], ax=axes[i],\n",
    "      set_labels=[databases[0],databases[1],databases[2]], set_colors=(project_palette[databases[0]],project_palette[databases[1]],project_palette[databases[2]]))\n",
    "    axes[i].set_title(f\"{dataset_name}\")\n",
    "p=[]\n",
    "for l,c in project_palette.items():\n",
    "    p.append(mpatches.Patch(color=c, label=l,alpha=0.3))  \n",
    "fig.legend(handles=p, title=\"search database\",loc='upper right',bbox_to_anchor=(1, 0.5));"
   ]
  },
  {
   "cell_type": "markdown",
   "id": "53f53a75-ddef-4d56-9a02-dff6e5cd4601",
   "metadata": {},
   "source": [
    "### Peptide & protein class"
   ]
  },
  {
   "cell_type": "code",
   "execution_count": 46,
   "id": "d66403e6-efe0-4fc5-8a4b-b89b1b2b1cac",
   "metadata": {},
   "outputs": [],
   "source": [
    "#peptides shared vs proteotypic \n",
    "\n",
    "pepsharedproteotyp_df=pd.DataFrame(columns=[\"pipeline\",\"database\",\"peptide_class\",\"value\"])\n",
    "for database in [\"canon\",\"trembl\",\"openprot\"]:    \n",
    "    df=pd.concat([prophet_filt_combined_datasets[dataset_name][database] for dataset_name in prophet_filt_combined_datasets])\n",
    "    ##df=df[(df[\"hit_class\"]!=\"D\")]\n",
    "    counts=Counter(df.drop_duplicates([\"peptide\"]).peptide_class)\n",
    "    pepsharedproteotyp_df.loc[len(pepsharedproteotyp_df)]=[\"FragPipe\",database,\"shared\",np.sum([val for key,val in counts.items() if \"shared\" in key])]\n",
    "    pepsharedproteotyp_df.loc[len(pepsharedproteotyp_df)]=[\"FragPipe\",database,\"proteotypic\",np.sum([val for key,val in counts.items() if \"unique\" in key])]\n",
    "pepsharedproteotyp_df.to_pickle(\"msfr_peptype_df.pkl\")"
   ]
  },
  {
   "cell_type": "markdown",
   "id": "0aaca5c4-cb1d-463f-a98d-eee51146cbbf",
   "metadata": {},
   "source": [
    "### Identification rate by peptide class"
   ]
  },
  {
   "cell_type": "code",
   "execution_count": 48,
   "id": "34ec7d30-2f7e-487f-80a5-4ea432a44373",
   "metadata": {
    "scrolled": true
   },
   "outputs": [
    {
     "name": "stdout",
     "output_type": "stream",
     "text": [
      "unique_to_Noncanon 130327_o2_01_hu_C1_2hr\n",
      "unique_to_Noncanon 130327_o2_02_hu_P1_2hr\n",
      "unique_to_Noncanon 130327_o2_03_hu_C2_2hr\n",
      "unique_to_Noncanon 130327_o2_04_hu_P2_2hr\n",
      "unique_to_Noncanon 130327_o2_05_hu_C3_2hr\n",
      "unique_to_Noncanon 130327_o2_06_hu_P3_2hr\n",
      "shared_in_Noncanon 130327_o2_01_hu_C1_2hr\n",
      "shared_in_Noncanon 130327_o2_02_hu_P1_2hr\n",
      "shared_in_Noncanon 130327_o2_03_hu_C2_2hr\n",
      "shared_in_Noncanon 130327_o2_04_hu_P2_2hr\n",
      "shared_in_Noncanon 130327_o2_05_hu_C3_2hr\n",
      "shared_in_Noncanon 130327_o2_06_hu_P3_2hr\n",
      "unique_to_Canon 130327_o2_01_hu_C1_2hr\n",
      "unique_to_Canon 130327_o2_02_hu_P1_2hr\n",
      "unique_to_Canon 130327_o2_03_hu_C2_2hr\n",
      "unique_to_Canon 130327_o2_04_hu_P2_2hr\n",
      "unique_to_Canon 130327_o2_05_hu_C3_2hr\n",
      "unique_to_Canon 130327_o2_06_hu_P3_2hr\n",
      "shared_in_Canon 130327_o2_01_hu_C1_2hr\n",
      "shared_in_Canon 130327_o2_02_hu_P1_2hr\n",
      "shared_in_Canon 130327_o2_03_hu_C2_2hr\n",
      "shared_in_Canon 130327_o2_04_hu_P2_2hr\n",
      "shared_in_Canon 130327_o2_05_hu_C3_2hr\n",
      "shared_in_Canon 130327_o2_06_hu_P3_2hr\n",
      "shared_btw_can_noncan 130327_o2_01_hu_C1_2hr\n",
      "shared_btw_can_noncan 130327_o2_02_hu_P1_2hr\n",
      "shared_btw_can_noncan 130327_o2_03_hu_C2_2hr\n",
      "shared_btw_can_noncan 130327_o2_04_hu_P2_2hr\n",
      "shared_btw_can_noncan 130327_o2_05_hu_C3_2hr\n",
      "shared_btw_can_noncan 130327_o2_06_hu_P3_2hr\n",
      "unique_to_Noncanon AM10\n",
      "unique_to_Noncanon AM11\n",
      "unique_to_Noncanon AM12\n",
      "unique_to_Noncanon AM13\n",
      "unique_to_Noncanon AM14\n",
      "unique_to_Noncanon AM15\n",
      "unique_to_Noncanon AM16\n",
      "unique_to_Noncanon AM17\n",
      "unique_to_Noncanon AM18\n",
      "unique_to_Noncanon AM19\n",
      "unique_to_Noncanon AM20\n",
      "unique_to_Noncanon AM21\n",
      "unique_to_Noncanon AM7\n",
      "unique_to_Noncanon AM8\n",
      "unique_to_Noncanon AM9\n",
      "shared_in_Noncanon AM10\n",
      "shared_in_Noncanon AM11\n",
      "shared_in_Noncanon AM12\n",
      "shared_in_Noncanon AM13\n",
      "shared_in_Noncanon AM14\n",
      "shared_in_Noncanon AM15\n",
      "shared_in_Noncanon AM16\n",
      "shared_in_Noncanon AM17\n",
      "shared_in_Noncanon AM18\n",
      "shared_in_Noncanon AM19\n",
      "shared_in_Noncanon AM20\n",
      "shared_in_Noncanon AM21\n",
      "shared_in_Noncanon AM7\n",
      "shared_in_Noncanon AM8\n",
      "shared_in_Noncanon AM9\n",
      "unique_to_Canon AM10\n",
      "unique_to_Canon AM11\n",
      "unique_to_Canon AM12\n",
      "unique_to_Canon AM13\n",
      "unique_to_Canon AM14\n",
      "unique_to_Canon AM15\n",
      "unique_to_Canon AM16\n",
      "unique_to_Canon AM17\n",
      "unique_to_Canon AM18\n",
      "unique_to_Canon AM19\n",
      "unique_to_Canon AM20\n",
      "unique_to_Canon AM21\n",
      "unique_to_Canon AM7\n",
      "unique_to_Canon AM8\n",
      "unique_to_Canon AM9\n",
      "shared_in_Canon AM10\n",
      "shared_in_Canon AM11\n",
      "shared_in_Canon AM12\n",
      "shared_in_Canon AM13\n",
      "shared_in_Canon AM14\n",
      "shared_in_Canon AM15\n",
      "shared_in_Canon AM16\n",
      "shared_in_Canon AM17\n",
      "shared_in_Canon AM18\n",
      "shared_in_Canon AM19\n",
      "shared_in_Canon AM20\n",
      "shared_in_Canon AM21\n",
      "shared_in_Canon AM7\n",
      "shared_in_Canon AM8\n",
      "shared_in_Canon AM9\n",
      "shared_btw_can_noncan AM10\n",
      "shared_btw_can_noncan AM11\n",
      "shared_btw_can_noncan AM12\n",
      "shared_btw_can_noncan AM13\n",
      "shared_btw_can_noncan AM14\n",
      "shared_btw_can_noncan AM15\n",
      "shared_btw_can_noncan AM16\n",
      "shared_btw_can_noncan AM17\n",
      "shared_btw_can_noncan AM18\n",
      "shared_btw_can_noncan AM19\n",
      "shared_btw_can_noncan AM20\n",
      "shared_btw_can_noncan AM21\n",
      "shared_btw_can_noncan AM7\n",
      "shared_btw_can_noncan AM8\n",
      "shared_btw_can_noncan AM9\n",
      "unique_to_Noncanon ESC_HF_SampleHela\n",
      "unique_to_Noncanon ESC_HF_Sample_BT474\n",
      "unique_to_Noncanon ESC_HF_Sample_MCF\n",
      "shared_in_Noncanon ESC_HF_SampleHela\n",
      "shared_in_Noncanon ESC_HF_Sample_BT474\n",
      "shared_in_Noncanon ESC_HF_Sample_MCF\n",
      "unique_to_Canon ESC_HF_SampleHela\n",
      "unique_to_Canon ESC_HF_Sample_BT474\n",
      "unique_to_Canon ESC_HF_Sample_MCF\n",
      "shared_in_Canon ESC_HF_SampleHela\n",
      "shared_in_Canon ESC_HF_Sample_BT474\n",
      "shared_in_Canon ESC_HF_Sample_MCF\n",
      "shared_btw_can_noncan ESC_HF_SampleHela\n",
      "shared_btw_can_noncan ESC_HF_Sample_BT474\n",
      "shared_btw_can_noncan ESC_HF_Sample_MCF\n"
     ]
    }
   ],
   "source": [
    "prophet_PEPCL_idrate_datasets_df=pd.DataFrame(columns=[\"pipeline\",\"dataset\",\"peptide_class\",\"value\"])\n",
    "pepcl_order=[\"unique_to_Noncanon\",'shared_in_Noncanon',\"unique_to_Canon\",'shared_in_Canon','shared_btw_can_noncan']\n",
    "datasets_index=[f\"{dataset_name.replace(\".v0.11.4\",\"\")}_{i}\" for dataset_name,vals in mgfspectraN_datasets.items() for i in range(len(vals))]\n",
    "prophet_PEPCL_idrate_datasets_df[\"pipeline\"]=[\"FragPipe\"]*len(pepcl_order)*len(datasets_index)\n",
    "prophet_PEPCL_idrate_datasets_df[\"dataset\"]=datasets_index*len(pepcl_order)\n",
    "prophet_PEPCL_idrate_datasets_df[\"peptide_class\"]=sorted(pepcl_order*len(datasets_index))\n",
    "\n",
    "for dataset_name in prophet_filt_combined_datasets:\n",
    "    key=[ds for ds in mgfspectraN_datasets if dataset_name in ds][0]\n",
    "    mgfspectraN=mgfspectraN_datasets[key]\n",
    "    database=\"openprot\"\n",
    "    df=prophet_filt_combined_datasets[dataset_name][database]\n",
    "    ##df=df[df[\"hit_class\"]!=\"D\"]\n",
    "    for peptide_class in pepcl_order:   \n",
    "        dff=df[df.peptide_class==peptide_class]\n",
    "        values=[]\n",
    "        for spectrum_file, _ in df.groupby(\"spectrum_file\"): #to avoid sp files with no pep cl\n",
    "            group=dff[dff.spectrum_file==spectrum_file]\n",
    "            print(peptide_class,spectrum_file)\n",
    "            if len(group)==0: \n",
    "                values.append(0)\n",
    "                continue\n",
    "            if dataset_name==\"PXD014258\": spectrum_file=spectrum_file.replace(\"_\",\"-\")\n",
    "            nspec=mgfspectraN[spectrum_file+\".mgf\"]\n",
    "            idrate=(len(group)/nspec)\n",
    "            values.append(idrate)\n",
    "        prophet_PEPCL_idrate_datasets_df.loc[(prophet_PEPCL_idrate_datasets_df.dataset.str.contains(dataset_name.replace(\".v0.11.4\",\"\")))&\n",
    "            (prophet_PEPCL_idrate_datasets_df.peptide_class==peptide_class),\"value\"]=values\n",
    "prophet_PEPCL_idrate_datasets_df.to_pickle(\"msfr_PEPCL_idrate_datasets_df.pkl\")"
   ]
  },
  {
   "cell_type": "markdown",
   "id": "c5c13c33-ed6f-4298-ae88-5aae1fa7d534",
   "metadata": {},
   "source": [
    "### Peptides' reproducability"
   ]
  },
  {
   "cell_type": "code",
   "execution_count": 50,
   "id": "7f9da994-282b-4b29-a8c8-ba147b3ed40b",
   "metadata": {},
   "outputs": [],
   "source": [
    "#across all samples\n",
    "\n",
    "peptides_across_samples_df=pd.DataFrame(columns=[\"pipeline\",\"peptide\",\"class\",\"value\"])\n",
    "for peptide_class in [\"unique_to_Noncanon\",'shared_in_Noncanon',\"unique_to_Canon\",'shared_in_Canon','shared_btw_can_noncan']:#(\"Canon_unique\", \"NonCanon_unique\", \"Shared\"):\n",
    "    peptides_across_samples_l=[]\n",
    "    for dataset_name in prophet_filt_combined_datasets:\n",
    "        df=prophet_filt_combined_datasets[dataset_name][\"openprot\"]\n",
    "        df=df[(df[\"peptide_class\"]==peptide_class)]#(df[\"hit_class\"]!=\"D\")&\n",
    "        peptides_across_samples_l=peptides_across_samples_l+list(df.drop_duplicates([\"peptide\",\"spectrum_file\"]).peptide)\n",
    "    \n",
    "    peptides_across_samples_d=Counter(peptides_across_samples_l)\n",
    "    peptides_across_samples=np.array(list(peptides_across_samples_d.values()))/23 #number of samples\n",
    "    keys=list(peptides_across_samples_d.keys())\n",
    "    for i,row in enumerate(peptides_across_samples):\n",
    "        peptides_across_samples_df.loc[len(peptides_across_samples_df)]=[\"FragPipe\",keys[i],peptide_class,row]\n",
    "peptides_across_samples_df.to_pickle(\"msfr_peptides_across_samples_df.pkl\")"
   ]
  },
  {
   "cell_type": "code",
   "execution_count": 51,
   "id": "9151ecd9-9c04-4ff1-a1fd-94070a4b6452",
   "metadata": {},
   "outputs": [],
   "source": [
    "#across samples of same PXD\n",
    "\n",
    "peptides_across_samples_PXD_df=pd.DataFrame(columns=[\"pipeline\",\"peptide\",\"class\",\"value\"])\n",
    "for peptide_class in [\"unique_to_Noncanon\",'shared_in_Noncanon',\"unique_to_Canon\",'shared_in_Canon','shared_btw_can_noncan']:#(\"Canon_unique\", \"NonCanon_unique\", \"Shared\"):\n",
    "    #peptides_across_samples_l=[]\n",
    "    for dataset_name in prophet_filt_combined_datasets:\n",
    "        key=[ds for ds in mgfspectraN_datasets if dataset_name in ds][0]\n",
    "        mgfspectraN=mgfspectraN_datasets[key]\n",
    "        df=prophet_filt_combined_datasets[dataset_name][\"openprot\"]\n",
    "        df=df[(df[\"peptide_class\"]==peptide_class)] #(df[\"hit_class\"]!=\"D\")&\n",
    "        peptides_across_samples_l=list(df.drop_duplicates([\"peptide\",\"spectrum_file\"]).peptide)\n",
    "    \n",
    "        peptides_across_samples_d=Counter(peptides_across_samples_l)\n",
    "        peptides_across_samples=np.array(list(peptides_across_samples_d.values()))/len(mgfspectraN) #number of samples\n",
    "        keys=list(peptides_across_samples_d.keys())\n",
    "        for i,row in enumerate(peptides_across_samples):\n",
    "            peptides_across_samples_PXD_df.loc[len(peptides_across_samples_PXD_df)]=[\"FragPipe\",keys[i],peptide_class,row]\n",
    "peptides_across_samples_PXD_df.to_pickle(\"msfr_peptides_across_samples_PXD_df.pkl\")"
   ]
  },
  {
   "cell_type": "code",
   "execution_count": 52,
   "id": "b824c464-94cc-4b5e-94bf-3242391b52e0",
   "metadata": {},
   "outputs": [],
   "source": [
    "#count by PXD\n",
    "\n",
    "peptides_across_samples_PEP_df=pd.DataFrame(columns=[\"pipeline\",\"PXD\",\"peptide_class\",\"value\",\"count\"])\n",
    "for dataset_name in prophet_filt_combined_datasets:\n",
    "    for peptide_class in [\"unique_to_Noncanon\",'shared_in_Noncanon',\"unique_to_Canon\",'shared_in_Canon','shared_btw_can_noncan']:#(\"Canon_unique\", \"NonCanon_unique\", \"Shared\"):\n",
    "        df=prophet_filt_combined_datasets[dataset_name][\"openprot\"]\n",
    "        df=df[(df[\"peptide_class\"]==peptide_class)] #(df[\"hit_class\"]!=\"D\")&\n",
    "        peptides_across_samples_l=list(df.peptide.unique())\n",
    "        tmp=pd.DataFrame(index=peptides_across_samples_l,columns=df.spectrum_file.unique())\n",
    "        for spectrum_file in tmp.columns:\n",
    "            tmp[spectrum_file]=[pep in df[df.spectrum_file==spectrum_file].peptide.unique() for pep in tmp.index]\n",
    "        tmp[\"count\"]=tmp.apply(lambda x: Counter(x)[True] ,axis=1)\n",
    "        peptides_across_samples_PEP_df.loc[len(peptides_across_samples_PEP_df)]=[\"FragPipe\",dataset_name,peptide_class,1,len(tmp[tmp[\"count\"]==1])]\n",
    "        peptides_across_samples_PEP_df.loc[len(peptides_across_samples_PEP_df)]=[\"FragPipe\",dataset_name,peptide_class,2,len(tmp[tmp[\"count\"]==2])]\n",
    "        peptides_across_samples_PEP_df.loc[len(peptides_across_samples_PEP_df)]=[\"FragPipe\",dataset_name,peptide_class,3,len(tmp[tmp[\"count\"]==3])]\n",
    "        peptides_across_samples_PEP_df.loc[len(peptides_across_samples_PEP_df)]=[\"FragPipe\",dataset_name,peptide_class,4,len(tmp[tmp[\"count\"]>3])]"
   ]
  },
  {
   "cell_type": "code",
   "execution_count": 53,
   "id": "779bf4fa-1500-4e53-a00f-e57aca1c5107",
   "metadata": {},
   "outputs": [],
   "source": [
    "#add all\n",
    "\n",
    "for peptide_class in [\"unique_to_Noncanon\",'shared_in_Noncanon',\"unique_to_Canon\",'shared_in_Canon','shared_btw_can_noncan']:\n",
    "    df=pd.concat([prophet_filt_combined_datasets[dataset_name][\"openprot\"] for dataset_name in prophet_filt_combined_datasets])\n",
    "    df=df[(df[\"peptide_class\"]==peptide_class)]#(df[\"hit_class\"]!=\"D\")&\n",
    "    peptides_across_samples_l=list(df.peptide.unique())\n",
    "    tmp=pd.DataFrame(index=peptides_across_samples_l,columns=df.spectrum_file.unique())\n",
    "    for spectrum_file in tmp.columns:\n",
    "        tmp[spectrum_file]=[pep in df[df.spectrum_file==spectrum_file].peptide.unique() for pep in tmp.index]\n",
    "    tmp[\"count\"]=tmp.apply(lambda x: Counter(x)[True] ,axis=1)\n",
    "    peptides_across_samples_PEP_df.loc[len(peptides_across_samples_PEP_df)]=[\"FragPipe\",\"all\",peptide_class,1,len(tmp[tmp[\"count\"]==1])]\n",
    "    peptides_across_samples_PEP_df.loc[len(peptides_across_samples_PEP_df)]=[\"FragPipe\",\"all\",peptide_class,2,len(tmp[tmp[\"count\"]==2])]\n",
    "    peptides_across_samples_PEP_df.loc[len(peptides_across_samples_PEP_df)]=[\"FragPipe\",\"all\",peptide_class,3,len(tmp[tmp[\"count\"]==3])]\n",
    "    peptides_across_samples_PEP_df.loc[len(peptides_across_samples_PEP_df)]=[\"FragPipe\",\"all\",peptide_class,4,len(tmp[tmp[\"count\"]>3])]"
   ]
  },
  {
   "cell_type": "code",
   "execution_count": 54,
   "id": "93bbe937-1fe6-4ffc-8f91-10eec6bc65f0",
   "metadata": {},
   "outputs": [],
   "source": [
    "peptides_across_samples_PEP_df.to_pickle(\"msfr_peptides_across_samples_PEP_df.pkl\")"
   ]
  },
  {
   "cell_type": "markdown",
   "id": "71f97637-1cac-428f-b14e-1264795a1550",
   "metadata": {},
   "source": [
    "### Number of PSMs per peptide class"
   ]
  },
  {
   "cell_type": "code",
   "execution_count": 55,
   "id": "07e4e9fc-87ca-46a2-b9f4-d32d38ae6e94",
   "metadata": {},
   "outputs": [],
   "source": [
    "pepcl_psm_frq={\"peptide\":[],\"peptide_class\":[],\"psm_num\":[]}\n",
    "for peptide_class in [\"unique_to_Noncanon\",'shared_in_Noncanon',\"unique_to_Canon\",'shared_in_Canon','shared_btw_can_noncan']:\n",
    "    peps_dst=[]\n",
    "    for dataset_name in prophet_filt_combined_datasets:\n",
    "        df=prophet_filt_combined_datasets[dataset_name][\"openprot\"]\n",
    "        df=df[(df[\"peptide_class\"]==peptide_class)] #(df[\"hit_class\"]!=\"D\")&\n",
    "        peps_dst=peps_dst+list(df.peptide)\n",
    "    psm_dfs=pd.concat([subdict[\"openprot\"] for dataset,subdict in prophet_filt_combined_datasets.items()])\n",
    "    peps_count=Counter(psm_dfs[psm_dfs.peptide.isin(peps_dst)].peptide)\n",
    "    peps_count_v=list(list(peps_count.values()))\n",
    "    pepcl_psm_frq[\"peptide\"]=pepcl_psm_frq[\"peptide\"]+list(list(peps_count.keys()))\n",
    "    pepcl_psm_frq[\"peptide_class\"]=pepcl_psm_frq[\"peptide_class\"]+[peptide_class]*len(peps_count_v)\n",
    "    pepcl_psm_frq[\"psm_num\"]=pepcl_psm_frq[\"psm_num\"]+[p for p in peps_count_v]\n",
    "pepcl_psm_frq=pd.DataFrame(pepcl_psm_frq)"
   ]
  },
  {
   "cell_type": "code",
   "execution_count": 56,
   "id": "7bc72b05-523f-4423-828d-06784916410f",
   "metadata": {},
   "outputs": [],
   "source": [
    "pepcl_psm_frq[\"pipeline\"]=\"FragPipe\"\n",
    "pepcl_psm_frq[\"bin\"]=np.nan\n",
    "for bin,group in enumerate([[1],[2],list(range(3,5+1)),list(range(5,10+1)),list(range(10,15+1)),list(range(15,1000))]):\n",
    "    pepcl_psm_frq.loc[pepcl_psm_frq.psm_num.isin(group),\"bin\"]=bin\n",
    "pepcl_psm_frq.to_pickle(\"msfr_pepcl_psm_frq.pkl\")"
   ]
  },
  {
   "cell_type": "markdown",
   "id": "8903b0e4-454f-4642-8ec3-2502ff1df929",
   "metadata": {},
   "source": [
    "### Proteins"
   ]
  },
  {
   "cell_type": "code",
   "execution_count": null,
   "id": "b5a2aceb-134e-4abf-9022-1dfe53c6f4cb",
   "metadata": {},
   "outputs": [],
   "source": []
  },
  {
   "cell_type": "markdown",
   "id": "2d487df3-a852-48be-8781-d101134fdef5",
   "metadata": {},
   "source": [
    "### Number of peptides & PSMs per protein per protein class"
   ]
  },
  {
   "cell_type": "code",
   "execution_count": null,
   "id": "80cbd7db-6d9a-4aba-b7f2-6e82dbe159e3",
   "metadata": {},
   "outputs": [],
   "source": []
  },
  {
   "cell_type": "markdown",
   "id": "16796031-c3e9-4967-a236-4eca59fc2d29",
   "metadata": {},
   "source": [
    "### Proteotypic peptides coverage"
   ]
  },
  {
   "cell_type": "code",
   "execution_count": null,
   "id": "49ea40d8-c01f-49bf-9ddb-82404688bb23",
   "metadata": {},
   "outputs": [],
   "source": []
  },
  {
   "cell_type": "markdown",
   "id": "4488ece8-202c-4277-9c51-d4cda8cffdb4",
   "metadata": {},
   "source": [
    "### Proteins reproducability"
   ]
  },
  {
   "cell_type": "code",
   "execution_count": null,
   "id": "23ac73a7-dd0e-4c5a-b34a-d887f7f3eee6",
   "metadata": {},
   "outputs": [],
   "source": []
  },
  {
   "cell_type": "markdown",
   "id": "f33fb7ed-feba-41a6-92af-ba5497fd9af1",
   "metadata": {},
   "source": [
    "### Number of proteins per protein class"
   ]
  },
  {
   "cell_type": "code",
   "execution_count": null,
   "id": "4b1feb80-a1d0-43ce-9e54-145449ef2629",
   "metadata": {},
   "outputs": [],
   "source": []
  }
 ],
 "metadata": {
  "kernelspec": {
   "display_name": "Python 3 (ipykernel)",
   "language": "python",
   "name": "python3"
  },
  "language_info": {
   "codemirror_mode": {
    "name": "ipython",
    "version": 3
   },
   "file_extension": ".py",
   "mimetype": "text/x-python",
   "name": "python",
   "nbconvert_exporter": "python",
   "pygments_lexer": "ipython3",
   "version": "3.13.2"
  }
 },
 "nbformat": 4,
 "nbformat_minor": 5
}

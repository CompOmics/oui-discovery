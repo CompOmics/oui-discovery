{
 "cells": [
  {
   "cell_type": "code",
   "execution_count": 4,
   "id": "44d7706c-245c-4f99-a1e2-ca6a0b399dc8",
   "metadata": {},
   "outputs": [],
   "source": [
    "import  pyteomics\n",
    "from pyteomics import pepxml, auxiliary, protxml\n",
    "import pickle\n",
    "import pandas as pd\n",
    "import os\n",
    "from copy import deepcopy\n",
    "import numpy as np\n",
    "import matplotlib.pyplot as plt\n",
    "from collections import Counter\n",
    "from matplotlib_venn import venn3\n",
    "import re\n",
    "from explore_import import *"
   ]
  },
  {
   "cell_type": "code",
   "execution_count": null,
   "id": "93b0c7fc-f54b-44fb-a901-cae3f8f0c363",
   "metadata": {},
   "outputs": [],
   "source": [
    "#database"
   ]
  },
  {
   "cell_type": "code",
   "execution_count": 10,
   "id": "b4ac0480-9f91-4100-a584-93cab070d5c4",
   "metadata": {},
   "outputs": [],
   "source": [
    "UPfasta_file='./../ionbot_openprot/Human_2023_01_canonical.fasta'\n",
    "#input_file = open(UPfasta_file)\n",
    "UPfasta = SeqIO.to_dict(SeqIO.parse(UPfasta_file, \"fasta\"))\n",
    "UPfasta={key:str(values.seq) for key,values in UPfasta.items()}"
   ]
  },
  {
   "cell_type": "code",
   "execution_count": 11,
   "id": "900b3497-ead8-4ffc-a3dd-62b0daf7e463",
   "metadata": {},
   "outputs": [],
   "source": [
    "TRfasta_file='./../ionbot_openprot/Human_2023_01_trembl.fasta'\n",
    "#input_file = open(OPfasta_file)\n",
    "TRfasta = SeqIO.to_dict(SeqIO.parse(TRfasta_file, \"fasta\"))\n",
    "TRfasta={key:str(values.seq) for key,values in TRfasta.items()}"
   ]
  },
  {
   "cell_type": "code",
   "execution_count": 12,
   "id": "eaab1962-7d2e-47f5-9534-688ad0960a10",
   "metadata": {},
   "outputs": [],
   "source": [
    "OPfasta_file='./../ionbot_openprot/openprot_2_0_0-human-ensembl106+refseq+uniprot2022_06_01.fasta'\n",
    "#input_file = open(OPfasta_file)\n",
    "OPfasta = SeqIO.to_dict(SeqIO.parse(OPfasta_file, \"fasta\"))\n",
    "OPfasta={key:str(values.seq) for key,values in OPfasta.items()}"
   ]
  },
  {
   "cell_type": "code",
   "execution_count": 15,
   "id": "8381d40f-f2a4-4ae1-9b25-f7e6766164bd",
   "metadata": {},
   "outputs": [],
   "source": [
    "up=set(UPfasta.values())\n",
    "tr=set(TRfasta.values())\n",
    "op=set(OPfasta.values())"
   ]
  },
  {
   "cell_type": "code",
   "execution_count": 18,
   "id": "d22e779c-faeb-482d-b7a2-5adb405533c1",
   "metadata": {},
   "outputs": [
    {
     "data": {
      "text/plain": [
       "83114"
      ]
     },
     "execution_count": 18,
     "metadata": {},
     "output_type": "execute_result"
    }
   ],
   "source": [
    "len(up.symmetric_difference(tr))"
   ]
  },
  {
   "cell_type": "code",
   "execution_count": 19,
   "id": "70cf89c6-4cd1-4795-83bd-88f382a650e7",
   "metadata": {},
   "outputs": [
    {
     "data": {
      "text/plain": [
       "663285"
      ]
     },
     "execution_count": 19,
     "metadata": {},
     "output_type": "execute_result"
    }
   ],
   "source": [
    "len(up.symmetric_difference(op))"
   ]
  },
  {
   "cell_type": "code",
   "execution_count": 20,
   "id": "55584fd0-bfb3-492b-afc3-d8d92f73f4d6",
   "metadata": {},
   "outputs": [
    {
     "data": {
      "text/plain": [
       "585563"
      ]
     },
     "execution_count": 20,
     "metadata": {},
     "output_type": "execute_result"
    }
   ],
   "source": [
    "len(tr.symmetric_difference(op))"
   ]
  },
  {
   "cell_type": "code",
   "execution_count": 21,
   "id": "662d563b-cf89-432c-a6ba-48982d396974",
   "metadata": {},
   "outputs": [
    {
     "data": {
      "text/plain": [
       "0"
      ]
     },
     "execution_count": 21,
     "metadata": {},
     "output_type": "execute_result"
    }
   ],
   "source": [
    "#how many entiries of swiss-prot were not in TrEMBL and OpenProt?\n",
    "len(up-tr.union(op))"
   ]
  },
  {
   "cell_type": "code",
   "execution_count": 24,
   "id": "d49cd113-5d5f-4f63-b21b-da518c427064",
   "metadata": {},
   "outputs": [
    {
     "data": {
      "text/plain": [
       "102"
      ]
     },
     "execution_count": 24,
     "metadata": {},
     "output_type": "execute_result"
    }
   ],
   "source": [
    "#how many entiries of swiss-prot were not in OpenProt?\n",
    "len(up-op)"
   ]
  },
  {
   "cell_type": "code",
   "execution_count": 29,
   "id": "3a8bb920-594b-41bb-83ab-450b7101a7e7",
   "metadata": {},
   "outputs": [
    {
     "data": {
      "text/plain": [
       "0.5016722408026756"
      ]
     },
     "execution_count": 29,
     "metadata": {},
     "output_type": "execute_result"
    }
   ],
   "source": [
    "#percent of sequences unique to swiss-Prot but not OpenProt database\n",
    "(len(up-op)/len(up))*100"
   ]
  },
  {
   "cell_type": "code",
   "execution_count": 23,
   "id": "ee82c61f-7bcc-4324-a694-ecc29760a1c2",
   "metadata": {},
   "outputs": [
    {
     "data": {
      "text/plain": [
       "2696"
      ]
     },
     "execution_count": 23,
     "metadata": {},
     "output_type": "execute_result"
    }
   ],
   "source": [
    "#how many entiries of  TrEMBL were not in swiss-prot and OpenProt?\n",
    "len(tr-up.union(op))"
   ]
  },
  {
   "cell_type": "code",
   "execution_count": 27,
   "id": "00314464-9e11-464c-a06c-b5727e88ca35",
   "metadata": {},
   "outputs": [
    {
     "data": {
      "text/plain": [
       "2.606190669528063"
      ]
     },
     "execution_count": 27,
     "metadata": {},
     "output_type": "execute_result"
    }
   ],
   "source": [
    "#percent of sequences unique to TrEMBL database\n",
    "(len(tr-up.union(op))/len(tr))*100"
   ]
  },
  {
   "cell_type": "code",
   "execution_count": 25,
   "id": "f7b8d2dc-d862-401e-96be-988ac61aeb4b",
   "metadata": {},
   "outputs": [
    {
     "data": {
      "text/plain": [
       "2798"
      ]
     },
     "execution_count": 25,
     "metadata": {},
     "output_type": "execute_result"
    }
   ],
   "source": [
    "#how many entiries of  TrEMBL were not in OpenProt?\n",
    "len(tr-op)"
   ]
  },
  {
   "cell_type": "code",
   "execution_count": 13,
   "id": "d9775857-ad3b-4e70-a2b6-022e376ecbc1",
   "metadata": {},
   "outputs": [
    {
     "data": {
      "text/plain": [
       "<matplotlib_venn._common.VennDiagram at 0x7339a227fb60>"
      ]
     },
     "execution_count": 13,
     "metadata": {},
     "output_type": "execute_result"
    },
    {
     "data": {
      "image/png": "[encoded data removed]",
      "text/plain": [
       "<Figure size 640x480 with 1 Axes>"
      ]
     },
     "metadata": {},
     "output_type": "display_data"
    }
   ],
   "source": [
    "venn3((set(UPfasta.values()),set(TRfasta.values()),set(OPfasta.values())), set_labels = ('Swiss-Prot', 'TrEMBL', 'OpenProt'))"
   ]
  },
  {
   "cell_type": "code",
   "execution_count": null,
   "id": "6bc0664d-d6ba-4151-9635-ee58264019b5",
   "metadata": {},
   "outputs": [],
   "source": []
  },
  {
   "cell_type": "code",
   "execution_count": null,
   "id": "740403d3-7cc9-42b0-833d-e7477a12a0d8",
   "metadata": {},
   "outputs": [],
   "source": []
  },
  {
   "cell_type": "code",
   "execution_count": null,
   "id": "64371022-83ba-4e0f-91f2-ce731c04837f",
   "metadata": {},
   "outputs": [],
   "source": [
    "#open"
   ]
  },
  {
   "cell_type": "code",
   "execution_count": 2,
   "id": "99434592-bb7e-4cb7-b153-339306de3247",
   "metadata": {},
   "outputs": [],
   "source": [
    "combined_first_datasets=pickle.load(open('combined_first_datasets.pickle', 'rb'))\n",
    "combined_peptides_datasets=pickle.load(open('combined_peptides_datasets.pickle', 'rb'))"
   ]
  },
  {
   "cell_type": "code",
   "execution_count": 3,
   "id": "e4830a76-bf7c-4d11-9ab4-d5c53d827b80",
   "metadata": {},
   "outputs": [],
   "source": [
    "psm_df=pd.concat([combined_first_datasets[dataset_name][\"openprot\"] for dataset_name in combined_first_datasets])\n",
    "psm_df = psm_df.explode('proteins_list').reset_index(drop=True)"
   ]
  },
  {
   "cell_type": "code",
   "execution_count": 4,
   "id": "85fde5eb-81c1-4e94-85fa-9c807b8fb02c",
   "metadata": {},
   "outputs": [],
   "source": [
    "psm_df.to_pickle(\"open_protein_expended_combined_first.pkl\")"
   ]
  },
  {
   "cell_type": "code",
   "execution_count": 5,
   "id": "905242fe-131f-462f-9db5-a962d353c07e",
   "metadata": {},
   "outputs": [],
   "source": [
    "peptide_df=pd.concat([combined_peptides_datasets[dataset_name][\"openprot\"] for dataset_name in combined_peptides_datasets])\n",
    "peptide_df = peptide_df.explode('proteins_list').reset_index(drop=True)"
   ]
  },
  {
   "cell_type": "code",
   "execution_count": 6,
   "id": "0c97a80b-0042-4b54-96ae-e848e4ce8edb",
   "metadata": {},
   "outputs": [],
   "source": [
    "peptide_df.to_pickle(\"open_protein_expended_combined_peptides.pkl\")"
   ]
  },
  {
   "cell_type": "code",
   "execution_count": 7,
   "id": "b2472dc5-0a29-4219-a684-d074794b0d54",
   "metadata": {},
   "outputs": [],
   "source": [
    "del combined_first_datasets, combined_peptides_datasets, psm_df, peptide_df"
   ]
  },
  {
   "cell_type": "code",
   "execution_count": null,
   "id": "5b8167c5-b263-4ed9-8af6-61892fda3314",
   "metadata": {},
   "outputs": [],
   "source": [
    "#closed"
   ]
  },
  {
   "cell_type": "code",
   "execution_count": 8,
   "id": "62b91a5a-ae99-47f2-ad79-940d40499050",
   "metadata": {},
   "outputs": [],
   "source": [
    "combined_first_datasets=pickle.load(open('closed_combined_first_datasets.pickle', 'rb'))\n",
    "combined_peptides_datasets=pickle.load(open('closed_combined_peptides_datasets.pickle', 'rb'))"
   ]
  },
  {
   "cell_type": "code",
   "execution_count": 9,
   "id": "a43e1c89-8b9b-4656-a8e3-750173a30276",
   "metadata": {},
   "outputs": [],
   "source": [
    "psm_df=pd.concat([combined_first_datasets[dataset_name][\"openprot\"] for dataset_name in combined_first_datasets])\n",
    "psm_df = psm_df.explode('proteins_list').reset_index(drop=True)"
   ]
  },
  {
   "cell_type": "code",
   "execution_count": 10,
   "id": "4b5847ba-821b-4c3b-b5f1-1eb87df93e49",
   "metadata": {},
   "outputs": [],
   "source": [
    "psm_df.to_pickle(\"closed_protein_expended_combined_first.pkl\")"
   ]
  },
  {
   "cell_type": "code",
   "execution_count": 11,
   "id": "d819c296-218f-4b71-ac99-539beb786458",
   "metadata": {},
   "outputs": [],
   "source": [
    "peptide_df=pd.concat([combined_peptides_datasets[dataset_name][\"openprot\"] for dataset_name in combined_peptides_datasets])\n",
    "peptide_df = peptide_df.explode('proteins_list').reset_index(drop=True)"
   ]
  },
  {
   "cell_type": "code",
   "execution_count": 12,
   "id": "5181bd6b-65e2-4647-a496-02369076b100",
   "metadata": {},
   "outputs": [],
   "source": [
    "peptide_df.to_pickle(\"closed_protein_expended_combined_peptides.pkl\")\n"
   ]
  },
  {
   "cell_type": "code",
   "execution_count": 13,
   "id": "0cf36419-4cb6-4406-9631-bc31f492b54d",
   "metadata": {},
   "outputs": [],
   "source": [
    "del combined_first_datasets, combined_peptides_datasets, psm_df, peptide_df\n"
   ]
  },
  {
   "cell_type": "code",
   "execution_count": null,
   "id": "24c98fd9-5c61-46e1-abc2-c47b3e1861d5",
   "metadata": {},
   "outputs": [],
   "source": []
  }
 ],
 "metadata": {
  "kernelspec": {
   "display_name": "Python 3 (ipykernel)",
   "language": "python",
   "name": "python3"
  },
  "language_info": {
   "codemirror_mode": {
    "name": "ipython",
    "version": 3
   },
   "file_extension": ".py",
   "mimetype": "text/x-python",
   "name": "python",
   "nbconvert_exporter": "python",
   "pygments_lexer": "ipython3",
   "version": "3.13.2"
  }
 },
 "nbformat": 4,
 "nbformat_minor": 5
}

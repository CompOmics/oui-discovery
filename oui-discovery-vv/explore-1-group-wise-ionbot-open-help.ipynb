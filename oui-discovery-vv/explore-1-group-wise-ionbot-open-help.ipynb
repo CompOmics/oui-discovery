{
 "cells": [
  {
   "cell_type": "code",
   "execution_count": 1,
   "id": "44d7706c-245c-4f99-a1e2-ca6a0b399dc8",
   "metadata": {},
   "outputs": [],
   "source": [
    "import  pyteomics\n",
    "from pyteomics import pepxml, auxiliary, protxml\n",
    "import pickle\n",
    "import pandas as pd\n",
    "import os\n",
    "from copy import deepcopy\n",
    "import numpy as np\n",
    "import matplotlib.pyplot as plt\n",
    "from collections import Counter\n",
    "from matplotlib_venn import venn3\n",
    "import re"
   ]
  },
  {
   "cell_type": "code",
   "execution_count": null,
   "id": "64371022-83ba-4e0f-91f2-ce731c04837f",
   "metadata": {},
   "outputs": [],
   "source": [
    "#open"
   ]
  },
  {
   "cell_type": "code",
   "execution_count": 6,
   "id": "99434592-bb7e-4cb7-b153-339306de3247",
   "metadata": {},
   "outputs": [],
   "source": [
    "combined_first_datasets=pickle.load(open('combined_first_datasets.pickle', 'rb'))\n",
    "combined_peptides_datasets=pickle.load(open('combined_peptides_datasets.pickle', 'rb'))"
   ]
  },
  {
   "cell_type": "code",
   "execution_count": 7,
   "id": "e4830a76-bf7c-4d11-9ab4-d5c53d827b80",
   "metadata": {},
   "outputs": [],
   "source": [
    "psm_df=pd.concat([combined_first_datasets[dataset_name][\"openprot\"] for dataset_name in combined_first_datasets])\n",
    "psm_df = psm_df.explode('proteins_list').reset_index(drop=True)"
   ]
  },
  {
   "cell_type": "code",
   "execution_count": 8,
   "id": "85fde5eb-81c1-4e94-85fa-9c807b8fb02c",
   "metadata": {},
   "outputs": [],
   "source": [
    "psm_df.to_pickle(\"open_protein_expended_combined_first.pkl\")"
   ]
  },
  {
   "cell_type": "code",
   "execution_count": 9,
   "id": "905242fe-131f-462f-9db5-a962d353c07e",
   "metadata": {},
   "outputs": [],
   "source": [
    "peptide_df=pd.concat([combined_peptides_datasets[dataset_name][\"openprot\"] for dataset_name in combined_peptides_datasets])\n",
    "peptide_df = peptide_df.explode('proteins_list').reset_index(drop=True)"
   ]
  },
  {
   "cell_type": "code",
   "execution_count": 10,
   "id": "0c97a80b-0042-4b54-96ae-e848e4ce8edb",
   "metadata": {},
   "outputs": [],
   "source": [
    "peptide_df.to_pickle(\"open_protein_expended_combined_peptides.pkl\")"
   ]
  },
  {
   "cell_type": "code",
   "execution_count": null,
   "id": "5b8167c5-b263-4ed9-8af6-61892fda3314",
   "metadata": {},
   "outputs": [],
   "source": []
  }
 ],
 "metadata": {
  "kernelspec": {
   "display_name": "Python 3 (ipykernel)",
   "language": "python",
   "name": "python3"
  },
  "language_info": {
   "codemirror_mode": {
    "name": "ipython",
    "version": 3
   },
   "file_extension": ".py",
   "mimetype": "text/x-python",
   "name": "python",
   "nbconvert_exporter": "python",
   "pygments_lexer": "ipython3",
   "version": "3.13.2"
  }
 },
 "nbformat": 4,
 "nbformat_minor": 5
}

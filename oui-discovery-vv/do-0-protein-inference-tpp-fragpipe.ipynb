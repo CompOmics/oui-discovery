{
 "cells": [
  {
   "cell_type": "code",
   "execution_count": 27,
   "id": "60699f77-5485-4557-8e4d-4bb9333d527b",
   "metadata": {},
   "outputs": [],
   "source": [
    "import pandas as pd\n",
    "import numpy as np\n",
    "import pyteomics.auxiliary as aux\n",
    "import seaborn as sns\n",
    "import matplotlib.pyplot as plt\n",
    "import os, re, subprocess\n",
    "import ast\n",
    "#from utility_functions import *"
   ]
  },
  {
   "cell_type": "code",
   "execution_count": 32,
   "id": "bb28349b-6dce-4110-a45f-6875f74eabe4",
   "metadata": {},
   "outputs": [
    {
     "data": {
      "text/plain": [
       "MultiIndex([('PXD002057',    'canon'),\n",
       "            ('PXD002057',   'trembl'),\n",
       "            ('PXD002057', 'openprot'),\n",
       "            ('PXD005833',    'canon'),\n",
       "            ('PXD005833',   'trembl'),\n",
       "            ('PXD005833', 'openprot'),\n",
       "            ('PXD014258',    'canon'),\n",
       "            ('PXD014258',   'trembl'),\n",
       "            ('PXD014258', 'openprot')],\n",
       "           )"
      ]
     },
     "execution_count": 32,
     "metadata": {},
     "output_type": "execute_result"
    }
   ],
   "source": [
    "pipeline=\"tpp\"\n",
    "psm_score=\"fval\"\n",
    "#pipeline=\"fragpipe\"\n",
    "working_folder = f\"/project/def-marie87/vvshazia/pride_reanalysis/analysis_on_groupwalk/hybrid-psm-{pipeline}/\"\n",
    "savefile_path = f'{pipeline}-identified-protein-groups-all-datasets.csv.gz'\n",
    "PXDs = [\n",
    "    'PXD002057',\n",
    "    'PXD005833',\n",
    "    'PXD014258',\n",
    "]\n",
    "\n",
    "SEARCHES = [\n",
    "    'canon',\n",
    "    'trembl',\n",
    "    'openprot',\n",
    "]\n",
    "DATASETS = pd.MultiIndex.from_product([PXDs,SEARCHES])\n",
    "DATASETS"
   ]
  },
  {
   "cell_type": "code",
   "execution_count": 33,
   "id": "c221a9be-177b-4f74-a952-2f2cef016a90",
   "metadata": {},
   "outputs": [],
   "source": [
    "def classify_leadprot(x):\n",
    "    x=x.replace(\"decoy_\",\"\")\n",
    "    if 'CONTAMINANT' in x.upper():\n",
    "        return 'Contam'\n",
    "    elif x.startswith('II_') or x.startswith('IP_'):\n",
    "        return 'NonCanon'\n",
    "        # Ensembl is canonical\n",
    "    else:\n",
    "        return 'Canon'\n",
    "\n",
    "def is_peptide_canonical(x):\n",
    "    '''x is the list of protein classes'''\n",
    "    if np.array([_=='Contam' for _ in x]).any():\n",
    "        return 'Contam'\n",
    "    if np.array([_=='Canon' for _ in x]).any():\n",
    "        return 'Canonical'\n",
    "    return 'NonCanonical'\n",
    "\n",
    "def custom_subgroup_filter(data_,key):\n",
    "    filtered_subgroups = []\n",
    "    for (c,m),df in data_.groupby(['isCanonical','isModified']).__iter__():\n",
    "        tmp = aux.target_decoy.qvalues(df, key=key, reverse=True, is_decoy=df.database=='D',\n",
    "                                      formula=1, full_output=True, q_label='groupwise_qvalue')\n",
    "        filtered_subgroups.append(tmp)\n",
    "\n",
    "    return pd.concat(filtered_subgroups, ignore_index=True)"
   ]
  },
  {
   "cell_type": "code",
   "execution_count": 44,
   "id": "45135a5f-6b30-47a4-bf81-4b19589346c1",
   "metadata": {},
   "outputs": [],
   "source": [
    "folders = {search:{dataset_name:[] for dataset_name in PXDs} for search in SEARCHES}\n",
    "for dataset_name in PXDs:\n",
    "    for search in SEARCHES:   \n",
    "        for fld in os.scandir(os.path.join(working_folder, dataset_name, f\"{dataset_name}-{search}\")):\n",
    "            if \".csv\" in fld.name and not \"_Occam\" in fld.name:\n",
    "                folders[search][dataset_name].append(fld)"
   ]
  },
  {
   "cell_type": "code",
   "execution_count": 15,
   "id": "81b454d6-6e23-4e30-af2a-66d74c20996c",
   "metadata": {},
   "outputs": [
    {
     "data": {
      "text/plain": [
       "Index(['spectrum', 'precursor_neutral_mass', 'assumed_charge',\n",
       "       'retention_time_sec', 'start_scan', 'end_scan', 'index', 'protein',\n",
       "       'protein_descr', 'peptide_next_aa', 'peptide_prev_aa', 'num_tol_term',\n",
       "       'xcorr', 'deltacn', 'spscore', 'sprank', 'expect', 'modifications',\n",
       "       'hit_rank', 'peptide', 'num_tot_proteins', 'num_matched_ions',\n",
       "       'tot_num_ions', 'num_missed_cleavages', 'calc_neutral_pep_mass',\n",
       "       'massdiff', 'num_matched_peptides', 'modified_peptide', 'fval', 'ntt',\n",
       "       'nmc', 'massd', 'peptideprophet_probability', 'peptideprophet_ntt_prob',\n",
       "       'spectrum_file', 'database', 'is decoy', 'global_q', 'xcorr_global_q',\n",
       "       'expect_global_q', 'protein_classes', 'isCanonical', 'isModified',\n",
       "       'custom_q', 'isTarget', 'FDRGroup', 'glob_cust_hybrid', 'searchDB',\n",
       "       'PXD'],\n",
       "      dtype='object')"
      ]
     },
     "execution_count": 15,
     "metadata": {},
     "output_type": "execute_result"
    }
   ],
   "source": [
    "psms.columns"
   ]
  },
  {
   "cell_type": "code",
   "execution_count": 39,
   "id": "dfc71789-3812-4a56-9305-d7ad12ce4995",
   "metadata": {},
   "outputs": [],
   "source": [
    "def get_max_psm_score(x,psms,psm_score):\n",
    "    protein_group = x.split(',')\n",
    "    tmp3 = psms[psms.protein.isin(protein_group)]\n",
    "    return np.max(tmp3[psm_score])\n",
    "\n",
    "def group_is_decoy(x):\n",
    "    protein_group = x.split(',')\n",
    "    tmp = [_.startswith('decoy') for _ in protein_group]\n",
    "    return set(tmp)\n",
    "\n",
    "def classify_protein_group(x):\n",
    "    protein_group = x.split(',')\n",
    "    tmp = [classify_leadprot(_) for _ in protein_group]\n",
    "    return is_peptide_canonical(tmp)"
   ]
  },
  {
   "cell_type": "code",
   "execution_count": 41,
   "id": "00a843bf-53cf-4aa2-a4ea-a19e50409c46",
   "metadata": {},
   "outputs": [
    {
     "data": {
      "text/plain": [
       "'/project/def-marie87/vvshazia/pride_reanalysis/analysis_on_groupwalk/hybrid-psm-tpp/PXD002057/PXD002057-canon/130327_o2_03_hu_C2_2hr-protein-inference-input.pout'"
      ]
     },
     "execution_count": 41,
     "metadata": {},
     "output_type": "execute_result"
    }
   ],
   "source": [
    "os.path.join(sample_fld.path)"
   ]
  },
  {
   "cell_type": "code",
   "execution_count": 47,
   "id": "ed5e5383-66cc-444c-a7b6-29daedff09e0",
   "metadata": {
    "scrolled": true
   },
   "outputs": [
    {
     "name": "stdout",
     "output_type": "stream",
     "text": [
      "(14/15) <DirEntry 'AM11.csv'> (10934, 49)\n",
      "Run pout2prot: True\n",
      "(15/15) <DirEntry 'AM16.csv'> (12187, 49)\n",
      "Run pout2prot: True\n",
      "(1/3) <DirEntry 'ESC-HF-Sample-BT474.csv'> (46420, 49)\n",
      "Run pout2prot: True\n",
      "(2/3) <DirEntry 'ESC-HF-Sample-MCF.csv'> (45941, 49)\n",
      "Run pout2prot: True\n",
      "(3/3) <DirEntry 'ESC-HF-SampleHela.csv'> (41709, 49)\n",
      "Run pout2prot: True\n",
      "(1/3) <DirEntry 'ESC-HF-SampleHela.csv'> (57943, 49)\n",
      "Run pout2prot: True\n",
      "(2/3) <DirEntry 'ESC-HF-Sample-MCF.csv'> (47436, 49)\n",
      "Run pout2prot: True\n",
      "(3/3) <DirEntry 'ESC-HF-Sample-BT474.csv'> (47709, 49)\n",
      "Run pout2prot: True\n",
      "(1/3) <DirEntry 'ESC-HF-SampleHela.csv'> (56726, 49)\n",
      "Run pout2prot: True\n",
      "(2/3) <DirEntry 'ESC-HF-Sample-MCF.csv'> (47563, 49)\n",
      "Run pout2prot: True\n",
      "(3/3) <DirEntry 'ESC-HF-Sample-BT474.csv'> (48292, 49)\n",
      "Run pout2prot: True\n"
     ]
    }
   ],
   "source": [
    "output_files = []\n",
    "for dataset_name in PXDs:\n",
    "    for search in SEARCHES:  \n",
    "        j = len(folders[search][dataset_name])\n",
    "        for i,sample_fld in enumerate(folders[search][dataset_name]):          \n",
    "            #did not go through for a long time: - skip it, try in terminal - di not work, have to skipp it\n",
    "            #hybrid-psm-tpp/PXD005833/PXD005833-openprot/AM18-protein-inference-input.pout\n",
    "\n",
    "            sample=sample_fld.name.replace(\".csv\",\"\")\n",
    "            sample_path=os.path.join(working_folder, dataset_name, f\"{dataset_name}-{search}\")\n",
    "            out_path=os.path.join(sample_path, f\"{sample}_protein_groups_Occam.csv\")\n",
    "            if (os.path.exists(out_path)) or (\"openprot/AM18\" in out_path): continue\n",
    "            \n",
    "            # Read and preprocess the dataset\n",
    "            psms = pd.read_csv(os.path.join(sample_fld.path))\n",
    "            print(f'({1+i}/{j})',sample_fld, psms.shape)\n",
    "            psms = pd.read_csv(os.path.join(sample_fld.path))\n",
    "            ##psms.modifications = psms.modifications.fillna('')\n",
    "            psms = psms[psms['global_q']<=.01].copy(deep=True)\n",
    "            ##psms.proteins = psms.proteins.str.split('||', regex=False)\n",
    "            ##psms.proteins = psms.proteins.apply(lambda x: [re.split(r'\\(\\(|\\)\\)', _)[3] for _ in x])\n",
    "            ##psms.proteins = psms.proteins.apply(lambda x: [re.sub(r'^sp\\|','',_) for _ in x])\n",
    "            ##psms.proteins = psms.proteins.apply(lambda x: list(set(x)))\n",
    "            # try without contaminant peptides\n",
    "            psms.protein=psms.protein.apply(lambda x: ast.literal_eval(x))\n",
    "            psms['protein_classes'] = psms.protein.apply(lambda x: np.unique([classify_leadprot(_) for _ in x]))\n",
    "            psms['isCanonical'] = psms.protein_classes.apply(is_peptide_canonical)\n",
    "            ##psms = psms.copy(deep=True)\n",
    "            ##psms.proteins = psms.apply(lambda row: row.proteins if row.database=='T' else [f'decoy_{_}' for _ in row.proteins] , axis=1)\n",
    "            # print(psms.proteins.apply(len).describe())\n",
    "\n",
    "            \n",
    "            \n",
    "            with open(os.path.join(sample_path, f\"{sample}-protein-inference-input.pout\"), 'w') as POUT:\n",
    "                for _,row in psms[(psms.isCanonical!='Contam')&(psms.protein.apply(len)<1000)].iterrows():\n",
    "                    row2 =  [str(row[\"index\"]), row.spectrum, f\"{row['global_q']:.2e}\", \n",
    "                             row.modifications, f\"{'n'}.{row.peptide}\"] #no charge info\n",
    "                    row2 += [f'>xx|{_}|placeholder' if '|' not in _ else _ for _ in row.protein]\n",
    "                    row2 =  '\\t'.join(row2) + '\\n'\n",
    "                    POUT.write(row2)\n",
    "            \n",
    "            pout_file = os.path.join(sample_path, f\"{sample}-protein-inference-input.pout\")\n",
    "            groups_file = os.path.join(sample_path, f\"{sample}-groups_Occam.tsv\")\n",
    "            subgroups_file = os.path.join(sample_path, f\"{sample}-subgroups_Occam.tsv\")\n",
    "            _ = subprocess.run(['pout2prot', '--occam', pout_file, groups_file, subgroups_file])\n",
    "            print('Run pout2prot:',_.returncode==0)  \n",
    "        \n",
    "            # Make \"summary\" table to get max psm score\n",
    "            psms = psms[['protein',psm_score]].copy(deep=True)\n",
    "            psms = psms.explode('protein')\n",
    "            psms.sort_values(psm_score, ascending=False, inplace=True)\n",
    "            psms.drop_duplicates('protein', inplace=True)\n",
    "        \n",
    "            # calculate protein groups scores\n",
    "            protein_groups = pd.read_csv(groups_file, sep='\\t', usecols=['protein accessions'])\n",
    "            protein_groups.columns = ['proteins']\n",
    "            protein_groups[psm_score] = protein_groups.proteins.apply(lambda x: get_max_psm_score(x,psms,psm_score))\n",
    "        \n",
    "            # label decoys\n",
    "            protein_groups['isDecoy_'] = protein_groups.proteins.apply(group_is_decoy)\n",
    "            protein_groups['database'] = protein_groups.isDecoy_.apply(lambda x: 'D' if list(x)[-1] else 'T')\n",
    "    \n",
    "            protein_groups = protein_groups[['proteins','database',psm_score]].copy(deep=True)\n",
    "            protein_groups['experiment'] = sample\n",
    "            protein_groups['exp_number'] =  f'{dataset_name} exp {i+1}' #'-'.join(sample_fld.name.split('-')[:-1])\n",
    "            protein_groups['PXD'] = dataset_name\n",
    "            protein_groups['searchDB'] = search\n",
    "        \n",
    "            # recalculate q-values\n",
    "            protein_groups = aux.target_decoy.qvalues(protein_groups, key=psm_score, reverse=True, \n",
    "                                                      is_decoy=protein_groups.database=='D',\n",
    "                                                      q_label='global_q', formula=1, full_output=True)\n",
    "        \n",
    "            protein_groups['isCanonical'] = protein_groups.proteins.apply(classify_protein_group)\n",
    "            protein_groups['isModified'] = 'NA'\n",
    "            protein_groups = custom_subgroup_filter(protein_groups,psm_score)\n",
    "            out_path = os.path.join(sample_path, f\"{sample}_protein_groups_Occam.csv\")\n",
    "            protein_groups.to_csv(out_path, index=False)\n",
    "            output_files.append(out_path)"
   ]
  },
  {
   "cell_type": "code",
   "execution_count": 53,
   "id": "0d13b543-e53b-4962-90b2-90631bfd922d",
   "metadata": {},
   "outputs": [],
   "source": [
    "output_files = []\n",
    "for dataset_name in PXDs:\n",
    "    for search in SEARCHES:  \n",
    "        j = len(folders[search][dataset_name])\n",
    "        for i,sample_fld in enumerate(folders[search][dataset_name]):\n",
    "            sample=sample_fld.name.replace(\".csv\",\"\")\n",
    "            sample_path=os.path.join(working_folder, dataset_name, f\"{dataset_name}-{search}\")\n",
    "            out_path=os.path.join(sample_path, f\"{sample}_protein_groups_Occam.csv\")\n",
    "            if (\"openprot/AM18\" in out_path): continue\n",
    "            output_files.append(out_path)"
   ]
  },
  {
   "cell_type": "code",
   "execution_count": 54,
   "id": "94a3f232-96fd-4670-8fb9-a8619f6473ce",
   "metadata": {},
   "outputs": [],
   "source": [
    "combo = [pd.read_csv(_) for _ in output_files]\n",
    "combo = pd.concat(combo, ignore_index=True)"
   ]
  },
  {
   "cell_type": "code",
   "execution_count": 55,
   "id": "511a77ba-37f0-4e2a-a7c2-adce0bcbaa50",
   "metadata": {},
   "outputs": [
    {
     "data": {
      "text/plain": [
       "array(['130327_o2_03_hu_C2_2hr', '130327_o2_02_hu_P1_2hr',\n",
       "       '130327_o2_05_hu_C3_2hr', '130327_o2_04_hu_P2_2hr',\n",
       "       '130327_o2_01_hu_C1_2hr', '130327_o2_06_hu_P3_2hr', 'AM13', 'AM14',\n",
       "       'AM21', 'AM20', 'AM15', 'AM12', 'AM11', 'AM16', 'AM18', 'AM8',\n",
       "       'AM9', 'AM19', 'AM17', 'AM10', 'AM7', 'ESC-HF-Sample-BT474',\n",
       "       'ESC-HF-Sample-MCF', 'ESC-HF-SampleHela'], dtype=object)"
      ]
     },
     "execution_count": 55,
     "metadata": {},
     "output_type": "execute_result"
    }
   ],
   "source": [
    "combo.experiment.unique()"
   ]
  },
  {
   "cell_type": "code",
   "execution_count": 56,
   "id": "d1729b36-d9eb-42df-a495-bbbf73d172d9",
   "metadata": {},
   "outputs": [
    {
     "name": "stdout",
     "output_type": "stream",
     "text": [
      "Without filtering:\n",
      "Targets, Decoys = [106554, 6213] FDR = 5.83%\n",
      "After filtering:\n",
      "Targets, Decoys = [91758, 884] FDR = 0.96%\n",
      "After Custom filtering:\n",
      "Targets, Decoys = [93848, 905] FDR = 0.96%\n"
     ]
    }
   ],
   "source": [
    "combo = [pd.read_csv(_) for _ in output_files]\n",
    "combo = pd.concat(combo, ignore_index=True)\n",
    "#combo.rename(columns={'q-value':'global_qvalue','custom_q':'groupwise_qvalue','group_qval':'GroupWalk_q'}, inplace=True)\n",
    "combo.to_csv(savefile_path, index=False, compression='gzip')\n",
    "\n",
    "print('Without filtering:')\n",
    "data = pd.read_csv(savefile_path)\n",
    "T, D = data.database.value_counts()\n",
    "print('Targets, Decoys =',[T,D],f\"FDR = {D/T:.2%}\")\n",
    "\n",
    "print('After filtering:')\n",
    "data_filtered = data[data.global_q<.01].copy(deep=True)\n",
    "T, D = data_filtered.database.value_counts()\n",
    "print('Targets, Decoys =',[T,D],f\"FDR = {D/T:.2%}\")\n",
    "\n",
    "print('After Custom filtering:')\n",
    "data_filtered = data[data.groupwise_qvalue<.01].copy(deep=True)\n",
    "T, D = data_filtered.database.value_counts()\n",
    "print('Targets, Decoys =',[T,D],f\"FDR = {D/T:.2%}\")"
   ]
  },
  {
   "cell_type": "code",
   "execution_count": 57,
   "id": "116dd3ae-e7c2-441a-8b06-fe58b52fa091",
   "metadata": {},
   "outputs": [
    {
     "data": {
      "text/plain": [
       "Text(0.5, 1.0, 'groupwise_qvalue filtering')"
      ]
     },
     "execution_count": 57,
     "metadata": {},
     "output_type": "execute_result"
    },
    {
     "data": {
      "image/png": "[encoded data removed]",
      "text/plain": [
       "<Figure size 1113x500 with 1 Axes>"
      ]
     },
     "metadata": {},
     "output_type": "display_data"
    }
   ],
   "source": [
    "tmp = 'groupwise_qvalue'\n",
    "combo = combo[(combo[tmp]<.01)&(combo.database=='T')&(combo.isCanonical!='Contam')]\n",
    "combo.proteins = combo.proteins.str.split(',')\n",
    "combo = combo.explode('proteins')\n",
    "combo.drop_duplicates(['proteins','experiment','searchDB'], inplace=True)\n",
    "\n",
    "sns.catplot(data=combo, kind='count', x='exp_number', hue='searchDB', aspect=2, )#palette=list(project_palette.values()))\n",
    "plt.xticks(rotation=90)\n",
    "plt.xlabel('experiment')\n",
    "plt.ylabel('# identified proteins')\n",
    "plt.title(f'{tmp} filtering')\n",
    "\n",
    "#plt.savefig(savefig_path, dpi=300, bbox_inches='tight')"
   ]
  },
  {
   "cell_type": "code",
   "execution_count": null,
   "id": "371fad28-e34d-4de0-a793-9728f72e76cf",
   "metadata": {},
   "outputs": [],
   "source": []
  }
 ],
 "metadata": {
  "kernelspec": {
   "display_name": "Python 3 (ipykernel)",
   "language": "python",
   "name": "python3"
  },
  "language_info": {
   "codemirror_mode": {
    "name": "ipython",
    "version": 3
   },
   "file_extension": ".py",
   "mimetype": "text/x-python",
   "name": "python",
   "nbconvert_exporter": "python",
   "pygments_lexer": "ipython3",
   "version": "3.13.2"
  }
 },
 "nbformat": 4,
 "nbformat_minor": 5
}

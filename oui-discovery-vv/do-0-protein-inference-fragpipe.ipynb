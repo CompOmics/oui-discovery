{
 "cells": [
  {
   "cell_type": "code",
   "execution_count": 1,
   "id": "60699f77-5485-4557-8e4d-4bb9333d527b",
   "metadata": {},
   "outputs": [],
   "source": [
    "import pandas as pd\n",
    "import numpy as np\n",
    "import pyteomics.auxiliary as aux\n",
    "import seaborn as sns\n",
    "import matplotlib.pyplot as plt\n",
    "import os, re, subprocess\n",
    "import ast\n",
    "#from utility_functions import *"
   ]
  },
  {
   "cell_type": "code",
   "execution_count": 2,
   "id": "bb28349b-6dce-4110-a45f-6875f74eabe4",
   "metadata": {},
   "outputs": [
    {
     "data": {
      "text/plain": [
       "MultiIndex([('PXD002057',    'canon'),\n",
       "            ('PXD002057',   'trembl'),\n",
       "            ('PXD002057', 'openprot'),\n",
       "            ('PXD005833',    'canon'),\n",
       "            ('PXD005833',   'trembl'),\n",
       "            ('PXD005833', 'openprot'),\n",
       "            ('PXD014258',    'canon'),\n",
       "            ('PXD014258',   'trembl'),\n",
       "            ('PXD014258', 'openprot')],\n",
       "           )"
      ]
     },
     "execution_count": 2,
     "metadata": {},
     "output_type": "execute_result"
    }
   ],
   "source": [
    "pipeline=\"fragpipe\"\n",
    "psm_score=\"analysis_result:peptideprophet_result:parameter:fval\"\n",
    "working_folder = f\"/project/def-marie87/vvshazia/pride_reanalysis/analysis_on_groupwalk/hybrid-psm-{pipeline}/\"\n",
    "savefile_path = f'{pipeline}-identified-protein-groups-all-datasets.csv.gz'\n",
    "PXDs = [\n",
    "    'PXD002057',\n",
    "    'PXD005833',\n",
    "    'PXD014258',\n",
    "]\n",
    "\n",
    "SEARCHES = [\n",
    "    'canon',\n",
    "    'trembl',\n",
    "    'openprot',\n",
    "]\n",
    "DATASETS = pd.MultiIndex.from_product([PXDs,SEARCHES])\n",
    "DATASETS"
   ]
  },
  {
   "cell_type": "code",
   "execution_count": 3,
   "id": "c221a9be-177b-4f74-a952-2f2cef016a90",
   "metadata": {},
   "outputs": [],
   "source": [
    "def classify_leadprot(x):\n",
    "    x=x.replace(\"decoy_\",\"\")\n",
    "    if 'CONTAMINANT' in x.upper():\n",
    "        return 'Contam'\n",
    "    elif x.startswith('II_') or x.startswith('IP_'):\n",
    "        return 'NonCanon'\n",
    "        # Ensembl is canonical\n",
    "    else:\n",
    "        return 'Canon'\n",
    "\n",
    "def is_peptide_canonical(x):\n",
    "    '''x is the list of protein classes'''\n",
    "    if np.array([_=='Contam' for _ in x]).any():\n",
    "        return 'Contam'\n",
    "    if np.array([_=='Canon' for _ in x]).any():\n",
    "        return 'Canonical'\n",
    "    return 'NonCanonical'\n",
    "\n",
    "def custom_subgroup_filter(data_,key):\n",
    "    filtered_subgroups = []\n",
    "    for (c,m),df in data_.groupby(['isCanonical','isModified']).__iter__():\n",
    "        tmp = aux.target_decoy.qvalues(df, key=key, reverse=True, is_decoy=df.database=='D',\n",
    "                                      formula=1, full_output=True, q_label='groupwise_qvalue')\n",
    "        filtered_subgroups.append(tmp)\n",
    "\n",
    "    return pd.concat(filtered_subgroups, ignore_index=True)"
   ]
  },
  {
   "cell_type": "code",
   "execution_count": 4,
   "id": "45135a5f-6b30-47a4-bf81-4b19589346c1",
   "metadata": {},
   "outputs": [],
   "source": [
    "folders = {search:{dataset_name:[] for dataset_name in PXDs} for search in SEARCHES}\n",
    "for dataset_name in PXDs:\n",
    "    for search in SEARCHES:   \n",
    "        for fld in os.scandir(os.path.join(working_folder, dataset_name, f\"{dataset_name}-{search}\")):\n",
    "            if \".csv\" in fld.name and not \"_Occam\" in fld.name:\n",
    "                folders[search][dataset_name].append(fld)"
   ]
  },
  {
   "cell_type": "code",
   "execution_count": 14,
   "id": "dfc71789-3812-4a56-9305-d7ad12ce4995",
   "metadata": {},
   "outputs": [],
   "source": [
    "def get_max_psm_score(x,psms,psm_score):\n",
    "    protein_group = x.split(',')\n",
    "    tmp3 = psms[psms.proteins.isin(protein_group)]\n",
    "    return np.max(tmp3[psm_score])\n",
    "\n",
    "def group_is_decoy(x):\n",
    "    protein_group = x.split(',')\n",
    "    tmp = [_.startswith('decoy') for _ in protein_group]\n",
    "    return set(tmp)\n",
    "\n",
    "def classify_protein_group(x):\n",
    "    protein_group = x.split(',')\n",
    "    tmp = [classify_leadprot(_) for _ in protein_group]\n",
    "    return is_peptide_canonical(tmp)"
   ]
  },
  {
   "cell_type": "code",
   "execution_count": 12,
   "id": "2d5f1dbf-d297-4131-b757-163e7a7f8a00",
   "metadata": {},
   "outputs": [
    {
     "data": {
      "text/html": [
       "<div>\n",
       "<style scoped>\n",
       "    .dataframe tbody tr th:only-of-type {\n",
       "        vertical-align: middle;\n",
       "    }\n",
       "\n",
       "    .dataframe tbody tr th {\n",
       "        vertical-align: top;\n",
       "    }\n",
       "\n",
       "    .dataframe thead th {\n",
       "        text-align: right;\n",
       "    }\n",
       "</style>\n",
       "<table border=\"1\" class=\"dataframe\">\n",
       "  <thead>\n",
       "    <tr style=\"text-align: right;\">\n",
       "      <th></th>\n",
       "      <th>proteins</th>\n",
       "      <th>protein_classes</th>\n",
       "    </tr>\n",
       "  </thead>\n",
       "  <tbody>\n",
       "    <tr>\n",
       "      <th>0</th>\n",
       "      <td>[CH60_HUMAN]</td>\n",
       "      <td>['Canon']</td>\n",
       "    </tr>\n",
       "    <tr>\n",
       "      <th>1</th>\n",
       "      <td>[K1C18_HUMAN]</td>\n",
       "      <td>['Canon']</td>\n",
       "    </tr>\n",
       "    <tr>\n",
       "      <th>2</th>\n",
       "      <td>[TBB5_HUMAN]</td>\n",
       "      <td>['Canon']</td>\n",
       "    </tr>\n",
       "    <tr>\n",
       "      <th>3</th>\n",
       "      <td>[HS90A_HUMAN, HS90B_HUMAN, HS902_HUMAN]</td>\n",
       "      <td>['Canon']</td>\n",
       "    </tr>\n",
       "    <tr>\n",
       "      <th>4</th>\n",
       "      <td>[ENOA_HUMAN]</td>\n",
       "      <td>['Canon']</td>\n",
       "    </tr>\n",
       "    <tr>\n",
       "      <th>...</th>\n",
       "      <td>...</td>\n",
       "      <td>...</td>\n",
       "    </tr>\n",
       "    <tr>\n",
       "      <th>10420</th>\n",
       "      <td>[K1C19_HUMAN, sp|CONTAMINANT_P08727]</td>\n",
       "      <td>['Canon' 'Contam']</td>\n",
       "    </tr>\n",
       "    <tr>\n",
       "      <th>10421</th>\n",
       "      <td>[K2C7_HUMAN, sp|CONTAMINANT_P08729]</td>\n",
       "      <td>['Canon' 'Contam']</td>\n",
       "    </tr>\n",
       "    <tr>\n",
       "      <th>10422</th>\n",
       "      <td>[K2C8_HUMAN, CONTAMINANT_HIT000292931]</td>\n",
       "      <td>['Canon' 'Contam']</td>\n",
       "    </tr>\n",
       "    <tr>\n",
       "      <th>10423</th>\n",
       "      <td>[K1C18_HUMAN, sp|CONTAMINANT_P05784]</td>\n",
       "      <td>['Canon' 'Contam']</td>\n",
       "    </tr>\n",
       "    <tr>\n",
       "      <th>10424</th>\n",
       "      <td>[decoy_sp|CONTAMINANT_Q3TTY5]</td>\n",
       "      <td>['Contam']</td>\n",
       "    </tr>\n",
       "  </tbody>\n",
       "</table>\n",
       "<p>8532 rows × 2 columns</p>\n",
       "</div>"
      ],
      "text/plain": [
       "                                      proteins     protein_classes\n",
       "0                                 [CH60_HUMAN]           ['Canon']\n",
       "1                                [K1C18_HUMAN]           ['Canon']\n",
       "2                                 [TBB5_HUMAN]           ['Canon']\n",
       "3      [HS90A_HUMAN, HS90B_HUMAN, HS902_HUMAN]           ['Canon']\n",
       "4                                 [ENOA_HUMAN]           ['Canon']\n",
       "...                                        ...                 ...\n",
       "10420     [K1C19_HUMAN, sp|CONTAMINANT_P08727]  ['Canon' 'Contam']\n",
       "10421      [K2C7_HUMAN, sp|CONTAMINANT_P08729]  ['Canon' 'Contam']\n",
       "10422   [K2C8_HUMAN, CONTAMINANT_HIT000292931]  ['Canon' 'Contam']\n",
       "10423     [K1C18_HUMAN, sp|CONTAMINANT_P05784]  ['Canon' 'Contam']\n",
       "10424            [decoy_sp|CONTAMINANT_Q3TTY5]          ['Contam']\n",
       "\n",
       "[8532 rows x 2 columns]"
      ]
     },
     "execution_count": 12,
     "metadata": {},
     "output_type": "execute_result"
    }
   ],
   "source": [
    "psms[[\"proteins\",\"protein_classes\"]]                                                                                       "
   ]
  },
  {
   "cell_type": "code",
   "execution_count": 15,
   "id": "ed5e5383-66cc-444c-a7b6-29daedff09e0",
   "metadata": {
    "scrolled": true
   },
   "outputs": [
    {
     "name": "stdout",
     "output_type": "stream",
     "text": [
      "(1/6) <DirEntry '130327_o2_02_hu_P1_2hr.csv'> (10454, 44)\n",
      "Run pout2prot: True\n",
      "(2/6) <DirEntry '130327_o2_05_hu_C3_2hr.csv'> (6580, 44)\n",
      "Run pout2prot: True\n",
      "(3/6) <DirEntry '130327_o2_01_hu_C1_2hr.csv'> (7842, 44)\n",
      "Run pout2prot: True\n",
      "(4/6) <DirEntry '130327_o2_06_hu_P3_2hr.csv'> (9812, 44)\n",
      "Run pout2prot: True\n",
      "(5/6) <DirEntry '130327_o2_04_hu_P2_2hr.csv'> (9546, 44)\n",
      "Run pout2prot: True\n",
      "(6/6) <DirEntry '130327_o2_03_hu_C2_2hr.csv'> (6189, 44)\n",
      "Run pout2prot: True\n",
      "(1/6) <DirEntry '130327_o2_03_hu_C2_2hr.csv'> (5896, 44)\n",
      "Run pout2prot: True\n",
      "(2/6) <DirEntry '130327_o2_04_hu_P2_2hr.csv'> (9165, 44)\n",
      "Run pout2prot: True\n",
      "(3/6) <DirEntry '130327_o2_06_hu_P3_2hr.csv'> (9120, 44)\n",
      "Run pout2prot: True\n",
      "(4/6) <DirEntry '130327_o2_01_hu_C1_2hr.csv'> (7386, 44)\n",
      "Run pout2prot: True\n",
      "(5/6) <DirEntry '130327_o2_05_hu_C3_2hr.csv'> (6221, 44)\n",
      "Run pout2prot: True\n",
      "(6/6) <DirEntry '130327_o2_02_hu_P1_2hr.csv'> (9854, 44)\n",
      "Run pout2prot: True\n",
      "(1/6) <DirEntry '130327_o2_06_hu_P3_2hr.csv'> (9114, 44)\n",
      "Run pout2prot: True\n",
      "(2/6) <DirEntry '130327_o2_01_hu_C1_2hr.csv'> (7718, 44)\n",
      "Run pout2prot: True\n",
      "(3/6) <DirEntry '130327_o2_04_hu_P2_2hr.csv'> (8924, 44)\n",
      "Run pout2prot: True\n",
      "(4/6) <DirEntry '130327_o2_05_hu_C3_2hr.csv'> (6212, 44)\n",
      "Run pout2prot: True\n",
      "(5/6) <DirEntry '130327_o2_02_hu_P1_2hr.csv'> (9895, 44)\n",
      "Run pout2prot: True\n",
      "(6/6) <DirEntry '130327_o2_03_hu_C2_2hr.csv'> (5992, 44)\n",
      "Run pout2prot: True\n",
      "(1/15) <DirEntry 'AM21.csv'> (9666, 44)\n",
      "Run pout2prot: True\n",
      "(2/15) <DirEntry 'AM14.csv'> (11983, 44)\n",
      "Run pout2prot: True\n",
      "(3/15) <DirEntry 'AM13.csv'> (12407, 44)\n",
      "Run pout2prot: True\n",
      "(4/15) <DirEntry 'AM8.csv'> (11247, 44)\n",
      "Run pout2prot: True\n",
      "(5/15) <DirEntry 'AM12.csv'> (12546, 44)\n",
      "Run pout2prot: True\n",
      "(6/15) <DirEntry 'AM15.csv'> (10907, 44)\n",
      "Run pout2prot: True\n",
      "(7/15) <DirEntry 'AM20.csv'> (9948, 44)\n",
      "Run pout2prot: True\n",
      "(8/15) <DirEntry 'AM9.csv'> (11867, 44)\n",
      "Run pout2prot: True\n",
      "(9/15) <DirEntry 'AM7.csv'> (8805, 44)\n",
      "Run pout2prot: True\n",
      "(10/15) <DirEntry 'AM16.csv'> (13041, 44)\n",
      "Run pout2prot: True\n",
      "(11/15) <DirEntry 'AM11.csv'> (11706, 44)\n",
      "Run pout2prot: True\n",
      "(12/15) <DirEntry 'AM18.csv'> (11242, 44)\n",
      "Run pout2prot: True\n",
      "(13/15) <DirEntry 'AM19.csv'> (12667, 44)\n",
      "Run pout2prot: True\n",
      "(14/15) <DirEntry 'AM10.csv'> (11327, 44)\n",
      "Run pout2prot: True\n",
      "(15/15) <DirEntry 'AM17.csv'> (10373, 44)\n",
      "Run pout2prot: True\n",
      "(1/15) <DirEntry 'AM14.csv'> (11378, 44)\n",
      "Run pout2prot: True\n",
      "(2/15) <DirEntry 'AM7.csv'> (8111, 44)\n",
      "Run pout2prot: True\n",
      "(3/15) <DirEntry 'AM13.csv'> (11566, 44)\n",
      "Run pout2prot: True\n",
      "(4/15) <DirEntry 'AM9.csv'> (11457, 44)\n",
      "Run pout2prot: True\n",
      "(5/15) <DirEntry 'AM21.csv'> (8795, 44)\n",
      "Run pout2prot: True\n",
      "(6/15) <DirEntry 'AM20.csv'> (9951, 44)\n",
      "Run pout2prot: True\n",
      "(7/15) <DirEntry 'AM8.csv'> (10349, 44)\n",
      "Run pout2prot: True\n",
      "(8/15) <DirEntry 'AM12.csv'> (12051, 44)\n",
      "Run pout2prot: True\n",
      "(9/15) <DirEntry 'AM15.csv'> (10336, 44)\n",
      "Run pout2prot: True\n",
      "(10/15) <DirEntry 'AM18.csv'> (11007, 44)\n",
      "Run pout2prot: True\n",
      "(11/15) <DirEntry 'AM16.csv'> (12504, 44)\n",
      "Run pout2prot: True\n",
      "(12/15) <DirEntry 'AM11.csv'> (10822, 44)\n",
      "Run pout2prot: True\n",
      "(13/15) <DirEntry 'AM10.csv'> (10955, 44)\n",
      "Run pout2prot: True\n",
      "(14/15) <DirEntry 'AM17.csv'> (9909, 44)\n",
      "Run pout2prot: True\n",
      "(15/15) <DirEntry 'AM19.csv'> (12150, 44)\n",
      "Run pout2prot: True\n",
      "(1/15) <DirEntry 'AM20.csv'> (9496, 44)\n",
      "Run pout2prot: True\n",
      "(2/15) <DirEntry 'AM15.csv'> (10095, 44)\n",
      "Run pout2prot: True\n",
      "(3/15) <DirEntry 'AM12.csv'> (11547, 44)\n",
      "Run pout2prot: True\n",
      "(4/15) <DirEntry 'AM8.csv'> (10241, 44)\n",
      "Run pout2prot: True\n",
      "(5/15) <DirEntry 'AM13.csv'> (11592, 44)\n",
      "Run pout2prot: True\n",
      "(6/15) <DirEntry 'AM14.csv'> (11414, 44)\n",
      "Run pout2prot: True\n",
      "(7/15) <DirEntry 'AM21.csv'> (9051, 44)\n",
      "Run pout2prot: True\n",
      "(8/15) <DirEntry 'AM7.csv'> (8150, 44)\n",
      "Run pout2prot: True\n",
      "(9/15) <DirEntry 'AM9.csv'> (10813, 44)\n",
      "Run pout2prot: True\n",
      "(10/15) <DirEntry 'AM19.csv'> (11600, 44)\n",
      "Run pout2prot: True\n",
      "(11/15) <DirEntry 'AM17.csv'> (9547, 44)\n",
      "Run pout2prot: True\n",
      "(12/15) <DirEntry 'AM10.csv'> (10680, 44)\n",
      "Run pout2prot: True\n",
      "(13/15) <DirEntry 'AM11.csv'> (10648, 44)\n",
      "Run pout2prot: True\n",
      "(14/15) <DirEntry 'AM16.csv'> (12503, 44)\n",
      "Run pout2prot: True\n",
      "(15/15) <DirEntry 'AM18.csv'> (10342, 44)\n",
      "Run pout2prot: True\n"
     ]
    },
    {
     "name": "stderr",
     "output_type": "stream",
     "text": [
      "/tmp/ipykernel_807827/3087616044.py:7: DtypeWarning: Columns (31,32,34) have mixed types. Specify dtype option on import or set low_memory=False.\n",
      "  psms = pd.read_csv(os.path.join(sample_fld.path))\n"
     ]
    },
    {
     "name": "stdout",
     "output_type": "stream",
     "text": [
      "(1/3) <DirEntry 'ESC_HF_Sample_BT474.csv'> (40292, 44)\n"
     ]
    },
    {
     "name": "stderr",
     "output_type": "stream",
     "text": [
      "/tmp/ipykernel_807827/3087616044.py:9: DtypeWarning: Columns (31,32,34) have mixed types. Specify dtype option on import or set low_memory=False.\n",
      "  psms = pd.read_csv(os.path.join(sample_fld.path))\n"
     ]
    },
    {
     "name": "stdout",
     "output_type": "stream",
     "text": [
      "Run pout2prot: True\n"
     ]
    },
    {
     "name": "stderr",
     "output_type": "stream",
     "text": [
      "/tmp/ipykernel_807827/3087616044.py:7: DtypeWarning: Columns (31,32,34) have mixed types. Specify dtype option on import or set low_memory=False.\n",
      "  psms = pd.read_csv(os.path.join(sample_fld.path))\n"
     ]
    },
    {
     "name": "stdout",
     "output_type": "stream",
     "text": [
      "(2/3) <DirEntry 'ESC_HF_Sample_MCF.csv'> (42352, 44)\n"
     ]
    },
    {
     "name": "stderr",
     "output_type": "stream",
     "text": [
      "/tmp/ipykernel_807827/3087616044.py:9: DtypeWarning: Columns (31,32,34) have mixed types. Specify dtype option on import or set low_memory=False.\n",
      "  psms = pd.read_csv(os.path.join(sample_fld.path))\n"
     ]
    },
    {
     "name": "stdout",
     "output_type": "stream",
     "text": [
      "Run pout2prot: True\n",
      "(3/3) <DirEntry 'ESC_HF_SampleHela.csv'> (32690, 44)\n",
      "Run pout2prot: True\n"
     ]
    },
    {
     "name": "stderr",
     "output_type": "stream",
     "text": [
      "/tmp/ipykernel_807827/3087616044.py:7: DtypeWarning: Columns (31,32,34) have mixed types. Specify dtype option on import or set low_memory=False.\n",
      "  psms = pd.read_csv(os.path.join(sample_fld.path))\n"
     ]
    },
    {
     "name": "stdout",
     "output_type": "stream",
     "text": [
      "(1/3) <DirEntry 'ESC_HF_Sample_MCF.csv'> (39337, 44)\n"
     ]
    },
    {
     "name": "stderr",
     "output_type": "stream",
     "text": [
      "/tmp/ipykernel_807827/3087616044.py:9: DtypeWarning: Columns (31,32,34) have mixed types. Specify dtype option on import or set low_memory=False.\n",
      "  psms = pd.read_csv(os.path.join(sample_fld.path))\n"
     ]
    },
    {
     "name": "stdout",
     "output_type": "stream",
     "text": [
      "Run pout2prot: True\n"
     ]
    },
    {
     "name": "stderr",
     "output_type": "stream",
     "text": [
      "/tmp/ipykernel_807827/3087616044.py:7: DtypeWarning: Columns (31,32,34) have mixed types. Specify dtype option on import or set low_memory=False.\n",
      "  psms = pd.read_csv(os.path.join(sample_fld.path))\n"
     ]
    },
    {
     "name": "stdout",
     "output_type": "stream",
     "text": [
      "(2/3) <DirEntry 'ESC_HF_Sample_BT474.csv'> (37423, 44)\n"
     ]
    },
    {
     "name": "stderr",
     "output_type": "stream",
     "text": [
      "/tmp/ipykernel_807827/3087616044.py:9: DtypeWarning: Columns (31,32,34) have mixed types. Specify dtype option on import or set low_memory=False.\n",
      "  psms = pd.read_csv(os.path.join(sample_fld.path))\n"
     ]
    },
    {
     "name": "stdout",
     "output_type": "stream",
     "text": [
      "Run pout2prot: True\n",
      "(3/3) <DirEntry 'ESC_HF_SampleHela.csv'> (30559, 44)\n",
      "Run pout2prot: True\n",
      "(1/3) <DirEntry 'ESC_HF_Sample_MCF.csv'> (38201, 44)\n",
      "Run pout2prot: True\n",
      "(2/3) <DirEntry 'ESC_HF_Sample_BT474.csv'> (35874, 44)\n",
      "Run pout2prot: True\n",
      "(3/3) <DirEntry 'ESC_HF_SampleHela.csv'> (29296, 44)\n",
      "Run pout2prot: True\n"
     ]
    }
   ],
   "source": [
    "output_files = []\n",
    "for dataset_name in PXDs:\n",
    "    for search in SEARCHES:  \n",
    "        j = len(folders[search][dataset_name])\n",
    "        for i,sample_fld in enumerate(folders[search][dataset_name]):            \n",
    "            # Read and preprocess the dataset\n",
    "            psms = pd.read_csv(os.path.join(sample_fld.path))\n",
    "            print(f'({1+i}/{j})',sample_fld, psms.shape)\n",
    "            psms = pd.read_csv(os.path.join(sample_fld.path))\n",
    "            ##psms.modifications = psms.modifications.fillna('')\n",
    "            psms = psms[psms['global_q']<=.01].copy(deep=True)\n",
    "            ##psms.proteins = psms.proteins.str.split('||', regex=False)\n",
    "            ##psms.proteins = psms.proteins.apply(lambda x: [re.split(r'\\(\\(|\\)\\)', _)[3] for _ in x])\n",
    "            ##psms.proteins = psms.proteins.apply(lambda x: [re.sub(r'^sp\\|','',_) for _ in x])\n",
    "            ##psms.proteins = psms.proteins.apply(lambda x: list(set(x)))\n",
    "            # try without contaminant peptides\n",
    "            psms.proteins=psms.proteins.str.split('||', regex=False)\n",
    "            psms['protein_classes'] = psms.proteins.apply(lambda x: np.unique([classify_leadprot(_) for _ in x]))\n",
    "            psms['isCanonical'] = psms.protein_classes.apply(is_peptide_canonical)\n",
    "            ##psms = psms.copy(deep=True)\n",
    "            ##psms.proteins = psms.apply(lambda row: row.proteins if row.database=='T' else [f'decoy_{_}' for _ in row.proteins] , axis=1)\n",
    "            # print(psms.proteins.apply(len).describe())\n",
    "\n",
    "            sample=sample_fld.name.replace(\".csv\",\"\")\n",
    "            sample_path=os.path.join(working_folder, dataset_name, f\"{dataset_name}-{search}\")\n",
    "            \n",
    "            with open(os.path.join(sample_path, f\"{sample}-protein-inference-input.pout\"), 'w') as POUT:\n",
    "                for _,row in psms[(psms.isCanonical!='Contam')&(psms.proteins.apply(len)<1000)].iterrows():\n",
    "                    row2 =  [str(row[\"index\"]), row.spectrum, f\"{row['global_q']:.2e}\", \n",
    "                             row.modifications, f\"{'n'}.{row.peptide}\"] #no charge info\n",
    "                    row2 += [f'>xx|{_}|placeholder' if '|' not in _ else _ for _ in row.proteins]\n",
    "                    row2 =  '\\t'.join(row2) + '\\n'\n",
    "                    POUT.write(row2)\n",
    "            \n",
    "            pout_file = os.path.join(sample_path, f\"{sample}-protein-inference-input.pout\")\n",
    "            groups_file = os.path.join(sample_path, f\"{sample}-groups_Occam.tsv\")\n",
    "            subgroups_file = os.path.join(sample_path, f\"{sample}-subgroups_Occam.tsv\")\n",
    "            _ = subprocess.run(['pout2prot', '--occam', pout_file, groups_file, subgroups_file])\n",
    "            print('Run pout2prot:',_.returncode==0)  \n",
    "        \n",
    "            # Make \"summary\" table to get max psm score\n",
    "            psms = psms[['proteins',psm_score]].copy(deep=True)\n",
    "            psms = psms.explode('proteins')\n",
    "            psms.sort_values(psm_score, ascending=False, inplace=True)\n",
    "            psms.drop_duplicates('proteins', inplace=True)\n",
    "        \n",
    "            # calculate protein groups scores\n",
    "            protein_groups = pd.read_csv(groups_file, sep='\\t', usecols=['protein accessions'])\n",
    "            protein_groups.columns = ['proteins']\n",
    "            protein_groups[psm_score] = protein_groups.proteins.apply(lambda x: get_max_psm_score(x,psms,psm_score))\n",
    "        \n",
    "            # label decoys\n",
    "            protein_groups['isDecoy_'] = protein_groups.proteins.apply(group_is_decoy)\n",
    "            protein_groups['database'] = protein_groups.isDecoy_.apply(lambda x: 'D' if list(x)[-1] else 'T')\n",
    "    \n",
    "            protein_groups = protein_groups[['proteins','database',psm_score]].copy(deep=True)\n",
    "            protein_groups['experiment'] = sample\n",
    "            protein_groups['exp_number'] =  f'{dataset_name} exp {i+1}' #'-'.join(sample_fld.name.split('-')[:-1])\n",
    "            protein_groups['PXD'] = dataset_name\n",
    "            protein_groups['searchDB'] = search\n",
    "        \n",
    "            # recalculate q-values\n",
    "            protein_groups = aux.target_decoy.qvalues(protein_groups, key=psm_score, reverse=True, \n",
    "                                                      is_decoy=protein_groups.database=='D',\n",
    "                                                      q_label='global_q', formula=1, full_output=True)\n",
    "        \n",
    "            protein_groups['isCanonical'] = protein_groups.proteins.apply(classify_protein_group)\n",
    "            protein_groups['isModified'] = 'NA'\n",
    "            protein_groups = custom_subgroup_filter(protein_groups,psm_score)\n",
    "            out_path = os.path.join(sample_path, f\"{sample}_protein_groups_Occam.csv\")\n",
    "            protein_groups.to_csv(out_path, index=False)\n",
    "            output_files.append(out_path)"
   ]
  },
  {
   "cell_type": "code",
   "execution_count": 22,
   "id": "d1729b36-d9eb-42df-a495-bbbf73d172d9",
   "metadata": {},
   "outputs": [
    {
     "name": "stdout",
     "output_type": "stream",
     "text": [
      "Without filtering:\n",
      "Targets, Decoys = [96300, 5353] FDR = 5.56%\n",
      "After filtering:\n",
      "Targets, Decoys = [72821, 697] FDR = 0.96%\n",
      "After Custom filtering:\n",
      "Targets, Decoys = [74522, 710] FDR = 0.95%\n"
     ]
    }
   ],
   "source": [
    "combo = [pd.read_csv(_) for _ in output_files]\n",
    "combo = pd.concat(combo, ignore_index=True)\n",
    "#combo.rename(columns={'q-value':'global_qvalue','custom_q':'groupwise_qvalue','group_qval':'GroupWalk_q'}, inplace=True)\n",
    "combo.to_csv(savefile_path, index=False, compression='gzip')\n",
    "\n",
    "print('Without filtering:')\n",
    "data = pd.read_csv(savefile_path)\n",
    "T, D = data.database.value_counts()\n",
    "print('Targets, Decoys =',[T,D],f\"FDR = {D/T:.2%}\")\n",
    "\n",
    "print('After filtering:')\n",
    "data_filtered = data[data.global_q<.01].copy(deep=True)\n",
    "T, D = data_filtered.database.value_counts()\n",
    "print('Targets, Decoys =',[T,D],f\"FDR = {D/T:.2%}\")\n",
    "\n",
    "print('After Custom filtering:')\n",
    "data_filtered = data[data.groupwise_qvalue<.01].copy(deep=True)\n",
    "T, D = data_filtered.database.value_counts()\n",
    "print('Targets, Decoys =',[T,D],f\"FDR = {D/T:.2%}\")"
   ]
  },
  {
   "cell_type": "code",
   "execution_count": 24,
   "id": "511a77ba-37f0-4e2a-a7c2-adce0bcbaa50",
   "metadata": {},
   "outputs": [
    {
     "data": {
      "text/plain": [
       "Text(0.5, 1.0, 'groupwise_qvalue filtering')"
      ]
     },
     "execution_count": 24,
     "metadata": {},
     "output_type": "execute_result"
    },
    {
     "data": {
      "image/png": "[encoded data removed]",
      "text/plain": [
       "<Figure size 1113x500 with 1 Axes>"
      ]
     },
     "metadata": {},
     "output_type": "display_data"
    }
   ],
   "source": [
    "tmp = 'groupwise_qvalue'\n",
    "combo = combo[(combo[tmp]<.01)&(combo.database=='T')&(combo.isCanonical!='Contam')]\n",
    "combo.proteins = combo.proteins.str.split(',')\n",
    "combo = combo.explode('proteins')\n",
    "combo.drop_duplicates(['proteins','experiment','searchDB'], inplace=True)\n",
    "\n",
    "sns.catplot(data=combo, kind='count', x='exp_number', hue='searchDB', aspect=2, )#palette=list(project_palette.values()))\n",
    "plt.xticks(rotation=90)\n",
    "plt.xlabel('experiment')\n",
    "plt.ylabel('# identified proteins')\n",
    "plt.title(f'{tmp} filtering')\n",
    "\n",
    "#plt.savefig(savefig_path, dpi=300, bbox_inches='tight')"
   ]
  },
  {
   "cell_type": "code",
   "execution_count": null,
   "id": "c8c4ee8a-3d87-443c-b85f-6b0d75c3f5c0",
   "metadata": {},
   "outputs": [],
   "source": []
  }
 ],
 "metadata": {
  "kernelspec": {
   "display_name": "Python 3 (ipykernel)",
   "language": "python",
   "name": "python3"
  },
  "language_info": {
   "codemirror_mode": {
    "name": "ipython",
    "version": 3
   },
   "file_extension": ".py",
   "mimetype": "text/x-python",
   "name": "python",
   "nbconvert_exporter": "python",
   "pygments_lexer": "ipython3",
   "version": "3.13.2"
  }
 },
 "nbformat": 4,
 "nbformat_minor": 5
}

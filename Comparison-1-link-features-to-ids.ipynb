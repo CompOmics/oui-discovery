{
 "cells": [
  {
   "cell_type": "markdown",
   "id": "d2768b4f-4af1-4c46-b7e5-cddbadd0d26a",
   "metadata": {},
   "source": [
    "#### Get ionbot features of the IDs"
   ]
  },
  {
   "cell_type": "code",
   "execution_count": 1,
   "id": "17c08d20-40a3-491a-8392-e192542cb858",
   "metadata": {},
   "outputs": [],
   "source": [
    "# import stuff...\n",
    "import pandas as pd\n",
    "import os\n",
    "from IPython.display import clear_output"
   ]
  },
  {
   "cell_type": "code",
   "execution_count": 2,
   "id": "d5b3ba47",
   "metadata": {
    "jupyter": {
     "source_hidden": true
    }
   },
   "outputs": [
    {
     "data": {
      "text/plain": [
       "MultiIndex([('PXD002057.v0.11.4',    'canon'),\n",
       "            ('PXD002057.v0.11.4',   'trembl'),\n",
       "            ('PXD002057.v0.11.4', 'openprot'),\n",
       "            ('PXD005833.v0.11.4',    'canon'),\n",
       "            ('PXD005833.v0.11.4',   'trembl'),\n",
       "            ('PXD005833.v0.11.4', 'openprot'),\n",
       "            ('PXD014258.v0.11.4',    'canon'),\n",
       "            ('PXD014258.v0.11.4',   'trembl'),\n",
       "            ('PXD014258.v0.11.4', 'openprot'),\n",
       "            ( 'PXD002057-closed',    'canon'),\n",
       "            ( 'PXD002057-closed',   'trembl'),\n",
       "            ( 'PXD002057-closed', 'openprot'),\n",
       "            ( 'PXD005833-closed',    'canon'),\n",
       "            ( 'PXD005833-closed',   'trembl'),\n",
       "            ( 'PXD005833-closed', 'openprot'),\n",
       "            ( 'PXD014258-closed',    'canon'),\n",
       "            ( 'PXD014258-closed',   'trembl'),\n",
       "            ( 'PXD014258-closed', 'openprot')],\n",
       "           )"
      ]
     },
     "execution_count": 2,
     "metadata": {},
     "output_type": "execute_result"
    }
   ],
   "source": [
    "# indicate directory where all the data is present\n",
    "# all other paths in the code will be changed accordingly\n",
    "# using absolute path to the directory to avoid confusion...\n",
    "working_folder = \"C:/Users/Enrico/OneDrive - UGent/run-ionbot\"\n",
    "# working_folder = \"D:/run-ionbot\"\n",
    "PXDs = [\n",
    "    'PXD002057.v0.11.4',\n",
    "    'PXD005833.v0.11.4',\n",
    "    'PXD014258.v0.11.4',\n",
    "    'PXD002057-closed',\n",
    "    'PXD005833-closed',\n",
    "    'PXD014258-closed'\n",
    "]\n",
    "SEARCHES = [\n",
    "    'canon',\n",
    "    'trembl',\n",
    "    'openprot',\n",
    "]\n",
    "DATASETS = pd.MultiIndex.from_product([PXDs,SEARCHES])\n",
    "DATASETS\n",
    "\n",
    "# I organized the data like this:\n",
    "# WorkingFolder/\n",
    "#   PXD014258.v0.11.4/\n",
    "#       PXD014258.v0.11.4-canon/\n",
    "#       PXD014258.v0.11.4-trembl/\n",
    "#       PXD014258.v0.11.4-openprot/\n",
    "# etc..."
   ]
  },
  {
   "cell_type": "code",
   "execution_count": 3,
   "id": "3a3fcbac-f10b-4c53-b541-e70592f78975",
   "metadata": {},
   "outputs": [
    {
     "name": "stdout",
     "output_type": "stream",
     "text": [
      "C:/Users/Enrico/OneDrive - UGent/run-ionbot\\PXD014258-closed\\PXD014258-closed-openprot\n",
      "<DirEntry 'Sample-BT474-closed-open'>\n",
      "<DirEntry 'Sample-MCF-closed-open'>\n",
      "<DirEntry 'SampleHela-closed-open'>\n",
      "\n",
      "Done!\n"
     ]
    }
   ],
   "source": [
    "# loop thought ionbot results\n",
    "# for each search, merge ionbot.first (ids) and ionbot.features files, then concatenate them into one big df\n",
    "for dataset_name,search in DATASETS: \n",
    "    clear_output(wait=True)\n",
    "    PATH = os.path.join(working_folder,dataset_name,f'{dataset_name}-{search}') # edit this line so it fits your folder structure\n",
    "    print(PATH)\n",
    "    combo = []\n",
    "    for i,_ in enumerate(os.scandir(PATH)):\n",
    "        if os.path.isdir(_):\n",
    "            print(_)\n",
    "            features = pd.read_csv(os.path.join(_.path,'ionbot.features.csv'))\n",
    "            peptides = pd.read_csv(os.path.join(_.path,'ionbot.first.csv'))\n",
    "            peptides.spectrum_file = peptides.spectrum_file.apply(lambda x: x.split('.')[0])\n",
    "            tmp = peptides[['ionbot_match_id','spectrum_title','scan','spectrum_file']].merge(features, on='ionbot_match_id')\n",
    "            if len(features)<len(peptides) or len(tmp)!=len(peptides):\n",
    "                print(\"Please double check:\", len(features), len(peptides), len(tmp)) \n",
    "                # if len(tmp)!=len(peptides) something went wrong...\n",
    "            combo.append(tmp)\n",
    "    del features, peptides, tmp\n",
    "    combo = pd.concat(combo, ignore_index=False)\n",
    "\n",
    "    # in some mgf files the 'spectrum title' includes the file name, making the spectrum title unique.\n",
    "    # when the file name is NOT included, spectrum titles are NOT unique, and this can mess up some analysis.\n",
    "    combo.spectrum_title = combo.spectrum_file + ':' + combo.spectrum_title.apply(lambda x: x.split(':')[-1])\n",
    "    \n",
    "    combo.to_csv(os.path.join(PATH,f'{dataset_name}-{search}-combined-features.csv.gz'), index=False, compression='gzip')\n",
    "\n",
    "print('\\nDone!')"
   ]
  },
  {
   "cell_type": "markdown",
   "id": "2c890aaf",
   "metadata": {},
   "source": [
    "----------"
   ]
  }
 ],
 "metadata": {
  "kernelspec": {
   "display_name": "Python 3 (ipykernel)",
   "language": "python",
   "name": "python3"
  },
  "language_info": {
   "codemirror_mode": {
    "name": "ipython",
    "version": 3
   },
   "file_extension": ".py",
   "mimetype": "text/x-python",
   "name": "python",
   "nbconvert_exporter": "python",
   "pygments_lexer": "ipython3",
   "version": "3.13.0"
  }
 },
 "nbformat": 4,
 "nbformat_minor": 5
}

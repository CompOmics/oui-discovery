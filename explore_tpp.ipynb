{
 "cells": [
  {
   "cell_type": "code",
   "execution_count": 1,
   "id": "cd91df0f-61f2-46d2-8f05-7bd0129993ba",
   "metadata": {},
   "outputs": [],
   "source": [
    "import pandas as pd\n",
    "import numpy as np\n",
    "import zipfile\n",
    "import gzip\n",
    "import shutil\n",
    "from Bio import SeqIO\n",
    "from itertools import chain\n",
    "import matplotlib.pyplot as plt\n",
    "import re\n",
    "from matplotlib_venn import venn2, venn3\n",
    "import os\n",
    "import copy\n",
    "#from Bio.Align import substitution_matrices\n",
    "#from Bio import Align\n",
    "#aligner = Align.PairwiseAligner()\n",
    "#aligner.substitution_matrix = substitution_matrices.load(\"BLOSUM62\")\n",
    "import glob\n",
    "from pyteomics import mgf\n",
    "import seaborn as sns\n",
    "import warnings\n",
    "warnings.simplefilter(action='ignore', category=FutureWarning)\n",
    "import pickle\n",
    "from collections import Counter\n",
    "import matplotlib.patches as mpatches\n",
    "import plotly.graph_objects as go\n",
    "import textwrap\n",
    "from mpl_toolkits.axes_grid1 import make_axes_locatable\n",
    "from scipy import stats\n",
    "import regex\n",
    "from pyteomics import mass"
   ]
  },
  {
   "cell_type": "code",
   "execution_count": 2,
   "id": "97bcf599-a80e-4ad8-83a8-e48c3fc5d574",
   "metadata": {},
   "outputs": [],
   "source": [
    "import  pyteomics\n",
    "from pyteomics import pepxml, auxiliary\n",
    "import pickle\n",
    "import pandas as pd\n",
    "import os\n",
    "from copy import deepcopy\n",
    "import numpy as np\n",
    "import matplotlib.pyplot as plt\n",
    "from collections import Counter\n",
    "from matplotlib_venn import venn3"
   ]
  },
  {
   "cell_type": "code",
   "execution_count": 89,
   "id": "529305bf-5315-4d7b-9564-47b3f4091f77",
   "metadata": {},
   "outputs": [],
   "source": [
    "project_palette={\"canon\":\"orangered\",\"trembl\":\"yellowgreen\",\"openprot\":\"cornflowerblue\"}"
   ]
  },
  {
   "cell_type": "code",
   "execution_count": 4,
   "id": "1a89a855-892b-4122-bf9b-e1c9b0879296",
   "metadata": {},
   "outputs": [],
   "source": [
    "work_dir=\"./tpp_pride_reanalysis/\"\n",
    "work_subdirs=[\"PXD002057/\",\"PXD003594-tpp/\",\"PXD014258/\"]"
   ]
  },
  {
   "cell_type": "code",
   "execution_count": 48,
   "id": "4e7b9d3f-5f64-4675-adc9-af53b60d60fd",
   "metadata": {},
   "outputs": [],
   "source": [
    "def combine_tpp(work_dir,work_subdir,database,file_sufix):\n",
    "    '''\n",
    "    file_sufix: _PeptideProphet.pep.xml | \n",
    "    '''\n",
    "    path = os.path.join(work_dir, work_subdir, f'{work_subdir[0:9]}-{database}')\n",
    "    toread=[os.path.join(lvl1[0],lvl2) for lvl1 in os.walk(path) for lvl2 in lvl1[2] if lvl2.endswith(file_sufix)]\n",
    "    #print(toread)\n",
    "    combined=pd.DataFrame()\n",
    "    for file in toread:\n",
    "        #print(file)\n",
    "        a=pyteomics.pepxml.DataFrame(file)\n",
    "        v=re.sub(f\"\\{file_sufix}$\", \"\", file.lstrip(path))+\".mgf\"\n",
    "        a['spectrum_file']=v#file.lstrip(path).rstrip(file_sufix)+\".mgf\"\n",
    "        combined=pd.concat([combined,a])\n",
    "    return combined"
   ]
  },
  {
   "cell_type": "code",
   "execution_count": 47,
   "id": "3e2fdb3e-7c44-4ccc-b631-db943f85e17a",
   "metadata": {},
   "outputs": [
    {
     "data": {
      "text/plain": [
       "'sample_01_merged'"
      ]
     },
     "execution_count": 47,
     "metadata": {},
     "output_type": "execute_result"
    }
   ],
   "source": [
    "a=\"sample_01_merged_canon_PeptideProphet.pep.xml\"\n",
    "file_sufix=\"_canon_PeptideProphet.pep.xml\"\n",
    "re.sub(f\"\\{file_sufix}$\", \"\",a )"
   ]
  },
  {
   "cell_type": "code",
   "execution_count": 49,
   "id": "9881ba16-cd1e-4e3a-85d7-d59b0f500c12",
   "metadata": {},
   "outputs": [],
   "source": [
    "peptideprophet_combined_datasets={\"PXD002057\":0,\"PXD003594\":0,\"PXD014258\":0}\n",
    "file_sufix=\"PeptideProphet.pep.xml\"\n",
    "for work_subdir in work_subdirs:\n",
    "    databases={\"canon\":0,\"trembl\":0,\"openprot\":0}\n",
    "    for database in databases:\n",
    "        databases[database]=combine_tpp(work_dir,work_subdir,database,f\"_{database}_{file_sufix}\")\n",
    "    peptideprophet_combined_datasets[work_subdir[0:9]]=databases"
   ]
  },
  {
   "cell_type": "code",
   "execution_count": 191,
   "id": "7e6c9fc2-0dcb-4367-9bce-393cce38869d",
   "metadata": {},
   "outputs": [],
   "source": [
    "#filter\n",
    "peptideprophet_filt_combined_datasets={\"PXD002057\":{},\"PXD003594\":{},\"PXD014258\":{}}\n",
    "for dataset_name in peptideprophet_combined_datasets:\n",
    "    for database in peptideprophet_combined_datasets[dataset_name]:\n",
    "        df=peptideprophet_combined_datasets[dataset_name][database]\n",
    "        peptideprophet_filt_combined_datasets[dataset_name][database]=df.loc[df['peptideprophet_probability']>0.9,:]"
   ]
  },
  {
   "cell_type": "code",
   "execution_count": null,
   "id": "fca41cb2-22d8-4d8e-bb80-b50e0e3c41a4",
   "metadata": {},
   "outputs": [],
   "source": [
    "#ID rate"
   ]
  },
  {
   "cell_type": "code",
   "execution_count": 77,
   "id": "d0b03780-e485-4494-b89d-fc3154d7068d",
   "metadata": {},
   "outputs": [],
   "source": [
    "def get_idrate(mgfFiles, df):    \n",
    "    IDrate={}\n",
    "    for file in mgfFiles:\n",
    "        if \"RAW\" in file:\n",
    "            sup=re.sub(f\"\\{'.RAW.mgf'}$\", \"\", file)\n",
    "        sup=re.sub(f\"\\{'.mgf'}$\", \"\", file)\n",
    "        #print(sup)\n",
    "        id=np.sum([1 for sp in df.spectrum if sup in sp])\n",
    "        IDrate[file]=id/mgfFiles[file]\n",
    "    return IDrate"
   ]
  },
  {
   "cell_type": "code",
   "execution_count": 81,
   "id": "68447b67-1242-429f-8540-f02af2059c9d",
   "metadata": {},
   "outputs": [],
   "source": [
    "mgfspectraN_datasets=pickle.load(open('mgfspectraN_datasets.pickle', 'rb'))"
   ]
  },
  {
   "cell_type": "code",
   "execution_count": 82,
   "id": "2fc01405-2e4a-43f0-a569-82064df9b73e",
   "metadata": {},
   "outputs": [
    {
     "data": {
      "text/plain": [
       "{'PXD002057.v0.11.4': {'130327_o2_03_hu_C2_2hr.mgf': 24764,\n",
       "  '130327_o2_04_hu_P2_2hr.mgf': 26307,\n",
       "  '130327_o2_06_hu_P3_2hr.mgf': 26558,\n",
       "  '130327_o2_01_hu_C1_2hr.mgf': 25783,\n",
       "  '130327_o2_05_hu_C3_2hr.mgf': 25052,\n",
       "  '130327_o2_02_hu_P1_2hr.mgf': 26717},\n",
       " 'PXD003594.v0.11.4': {'sample_01_merged.mgf': 38482,\n",
       "  'sample_02_merged.mgf': 42821,\n",
       "  'sample_03_merged.mgf': 13669,\n",
       "  'sample_04_merged.mgf': 21647,\n",
       "  'sample_05_merged.mgf': 53575,\n",
       "  'sample_06_merged.mgf': 54799,\n",
       "  'sample_07_merged.mgf': 52299,\n",
       "  'sample_08_merged.mgf': 48152,\n",
       "  'sample_09_merged.mgf': 31604,\n",
       "  'sample_10_merged.mgf': 49413,\n",
       "  'sample_11_merged.mgf': 49511,\n",
       "  'sample_12_merged.mgf': 41357,\n",
       "  'sample_13_merged.mgf': 38670,\n",
       "  'sample_14_merged.mgf': 41529},\n",
       " 'PXD014258.v0.11.4': {'ESC-HF-Sample-BT474_merged.mgf': 109777,\n",
       "  'ESC-HF-SampleHela_merged.mgf': 100052,\n",
       "  'ESC-HF-Sample-MCF_merged.mgf': 110917}}"
      ]
     },
     "execution_count": 82,
     "metadata": {},
     "output_type": "execute_result"
    }
   ],
   "source": [
    "#as tpp does not save spectra by separate file (but merged, input), then add corresponding files n spectra\n",
    "mgfspectraN_datasets['PXD003594.v0.11.4']={f'sample_{i}_merged.mgf':mgfspectraN_datasets['PXD003594.v0.11.4'][f'b1369p080_sample_{i}_a.mgf']+mgfspectraN_datasets['PXD003594.v0.11.4'][f'b1369p080_sample_{i}_b.mgf'] for i in [\"01\",\"02\",\"03\",\"04\",\"05\",\"06\",\"07\",\"08\",\"09\",\"10\",\"11\",\"12\",\"13\",\"14\"]}\n",
    "tmp={}\n",
    "for i in [\"ESC-HF-Sample-BT474\",\"ESC-HF-SampleHela\",\"ESC-HF-Sample-MCF\"]:\n",
    "    if \"BT474\" not in i:\n",
    "        tmp[f\"{i}_merged.mgf\"]=np.sum([mgfspectraN_datasets['PXD014258.v0.11.4'][f\"{i}{j}.RAW.mgf\"] for j in range(1,6)])\n",
    "    else:\n",
    "        tmp[f\"{i}_merged.mgf\"]=np.sum([mgfspectraN_datasets['PXD014258.v0.11.4'][f\"{i}_{j}.RAW.mgf\"] for j in range(1,6)])\n",
    "mgfspectraN_datasets['PXD014258.v0.11.4']=tmp\n",
    "mgfspectraN_datasets"
   ]
  },
  {
   "cell_type": "code",
   "execution_count": 83,
   "id": "7720c29b-4063-42a2-88f6-939a1765e9a6",
   "metadata": {},
   "outputs": [],
   "source": [
    "#median across merged samples\n",
    "peprideprophet_idrate_datasets={\"PXD002057\":0,\"PXD003594\":0,\"PXD014258\":0}\n",
    "for dataset_name in peptideprophet_combined_datasets:\n",
    "    idrate_med={\"canon\":0,\"trembl\":0,\"openprot\":0}\n",
    "    key=[ds for ds in mgfspectraN_datasets if dataset_name in ds][0]\n",
    "    mgfspectraN=mgfspectraN_datasets[key]\n",
    "    for database in idrate_med:\n",
    "        df=peptideprophet_combined_datasets[dataset_name][database]\n",
    "        idrate_med[database]=np.median(list(get_idrate(mgfspectraN, df).values()))\n",
    "    peprideprophet_idrate_datasets[dataset_name]=idrate_med"
   ]
  },
  {
   "cell_type": "code",
   "execution_count": 84,
   "id": "0365aa15-347d-470d-a8b8-aed8f49dbab6",
   "metadata": {},
   "outputs": [
    {
     "data": {
      "text/plain": [
       "{'PXD002057': {'canon': 0.06184871347619641,\n",
       "  'trembl': 0.05969265584373567,\n",
       "  'openprot': 0.04206729144807763},\n",
       " 'PXD003594': {'canon': 0.008274427692082122,\n",
       "  'trembl': 0.007957793303037333,\n",
       "  'openprot': 0.007098809857780759},\n",
       " 'PXD014258': {'canon': 0.07503809154593075,\n",
       "  'trembl': 0.07294643742618354,\n",
       "  'openprot': 0.06344383638215963}}"
      ]
     },
     "execution_count": 84,
     "metadata": {},
     "output_type": "execute_result"
    }
   ],
   "source": [
    "peprideprophet_idrate_datasets"
   ]
  },
  {
   "cell_type": "code",
   "execution_count": 86,
   "id": "00177515-e728-4efe-810b-65d9ca514161",
   "metadata": {},
   "outputs": [],
   "source": [
    "idrate_med_error={\"canon\":0,\"trembl\":0,\"openprot\":0}\n",
    "idrate_med_avarage={\"canon\":0,\"trembl\":0,\"openprot\":0}\n",
    "idrate_med_swarmplot={\"canon\":0,\"trembl\":0,\"openprot\":0}\n",
    "for database in idrate_med_error:\n",
    "    medians=[]\n",
    "    for dataset_name in ['PXD003594','PXD002057','PXD014258']:\n",
    "        a=round(peprideprophet_idrate_datasets[dataset_name][database],3)\n",
    "        medians.append(a)\n",
    "    idrate_med_error[database]=stats.sem(medians, axis=None, ddof=0)\n",
    "    idrate_med_avarage[database]=np.mean(medians)\n",
    "    idrate_med_swarmplot[database]=medians"
   ]
  },
  {
   "cell_type": "code",
   "execution_count": 237,
   "id": "c5e82f6a-9074-4360-9cdd-c8120338787d",
   "metadata": {},
   "outputs": [
    {
     "data": {
      "text/plain": [
       "0.24333333333333335"
      ]
     },
     "execution_count": 237,
     "metadata": {},
     "output_type": "execute_result"
    }
   ],
   "source": [
    "0.2806666666666667-0.037333333333333336"
   ]
  },
  {
   "cell_type": "code",
   "execution_count": 234,
   "id": "3922068a-520e-421f-8697-4c8ffa225274",
   "metadata": {},
   "outputs": [
    {
     "data": {
      "text/plain": [
       "{'canon': 0.04833333333333334,\n",
       " 'trembl': 0.04700000000000001,\n",
       " 'openprot': 0.037333333333333336}"
      ]
     },
     "execution_count": 234,
     "metadata": {},
     "output_type": "execute_result"
    }
   ],
   "source": [
    "idrate_med_avarage"
   ]
  },
  {
   "cell_type": "code",
   "execution_count": 233,
   "id": "501db005-5994-4968-b672-3a3b1be003b9",
   "metadata": {},
   "outputs": [
    {
     "data": {
      "image/png": "[encoded data removed]",
      "text/plain": [
       "<Figure size 400x300 with 1 Axes>"
      ]
     },
     "metadata": {},
     "output_type": "display_data"
    }
   ],
   "source": [
    "dbs = (\"UniProt\", \"TrEMBL\", \"OpenProt\")\n",
    "x=np.array(range(len(dbs)))\n",
    "y=idrate_med_avarage.values()\n",
    "fig, ax = plt.subplots(layout='constrained', figsize=(4, 3))\n",
    "width=0.5\n",
    "ax.bar(x, y, width=width, color=project_palette.values())\n",
    "ax.errorbar(x, y, yerr=list(idrate_med_error.values()), fmt=\"^\",color=\"black\")\n",
    "sns.swarmplot(ax=ax,x=[0]*3+[1]*3+[2]*3, y=np.array(list(idrate_med_swarmplot.values())).flatten(),color=\"white\",size=6, edgecolor='black',linewidth=1)\n",
    "ax.set_ylabel('Median ID rate')\n",
    "ax.set_title('Identification rate FDR 1%')\n",
    "ax.set_xticks(x, dbs)\n",
    "plt.ylim(0,0.5) #as in ionbot\n",
    "for i,spine in enumerate(plt.gca().spines.values()):\n",
    "    if i==1 or i==3:\n",
    "        spine.set_visible(False)\n",
    "plt.savefig(\"tpp_idrate_errorbar.svg\")"
   ]
  },
  {
   "cell_type": "code",
   "execution_count": null,
   "id": "0d4511ff-7cc3-4851-b6a8-ca27e18f5dfa",
   "metadata": {},
   "outputs": [],
   "source": [
    "#PSMs, peptide overlap between searches"
   ]
  },
  {
   "cell_type": "code",
   "execution_count": 95,
   "id": "79968dbe-f755-4675-8e68-f14659508c11",
   "metadata": {},
   "outputs": [
    {
     "data": {
      "image/png": "[encoded data removed]",
      "text/plain": [
       "<Figure size 1600x800 with 3 Axes>"
      ]
     },
     "metadata": {},
     "output_type": "display_data"
    }
   ],
   "source": [
    "fig, axes = plt.subplots(1, 3, sharey=True,sharex=True, figsize=(16,8))\n",
    "fig.suptitle('Overlap of identified spectra between searches FDR 1%',size=20, y=0.9);\n",
    "for i, dataset_name in enumerate(peptideprophet_combined_datasets):\n",
    "    dfs=list(peptideprophet_combined_datasets[dataset_name].values())\n",
    "    databases=list(peptideprophet_combined_datasets[dataset_name].keys())\n",
    "    venn3([set(dfs[0].spectrum),set(dfs[1].spectrum),set(dfs[2].spectrum)], ax=axes[i],\n",
    "      set_labels=[databases[0],databases[1],databases[2]], set_colors=(project_palette[databases[0]],project_palette[databases[1]],project_palette[databases[2]]))\n",
    "    axes[i].set_title(f\"{dataset_name}\")\n",
    "p=[]\n",
    "for l,c in project_palette.items():\n",
    "    p.append(mpatches.Patch(color=c, label=l,alpha=0.3))  \n",
    "fig.legend(handles=p, title=\"search database\",loc='upper right',bbox_to_anchor=(1, 0.5));\n",
    "plt.savefig(\"tpp_spectra_venn.svg\")"
   ]
  },
  {
   "cell_type": "code",
   "execution_count": null,
   "id": "b23d4de3-0a00-4371-bd37-cb237a6c8603",
   "metadata": {},
   "outputs": [],
   "source": [
    "#such difference because of number of spectra?"
   ]
  },
  {
   "cell_type": "code",
   "execution_count": 96,
   "id": "7232a38d-2268-4e68-908b-97b4ed348867",
   "metadata": {},
   "outputs": [
    {
     "data": {
      "image/png": "[encoded data removed]",
      "text/plain": [
       "<Figure size 1600x800 with 3 Axes>"
      ]
     },
     "metadata": {},
     "output_type": "display_data"
    }
   ],
   "source": [
    "fig, axes = plt.subplots(1, 3, sharey=True,sharex=True, figsize=(16,8))\n",
    "fig.suptitle('Overlap of identified peptides between searches FDR 1%',size=20, y=0.9);\n",
    "for i, dataset_name in enumerate(peptideprophet_combined_datasets):\n",
    "    dfs=list(peptideprophet_combined_datasets[dataset_name].values())\n",
    "    databases=list(peptideprophet_combined_datasets[dataset_name].keys())\n",
    "    venn3([set(dfs[0].peptide),set(dfs[1].peptide),set(dfs[2].peptide)], ax=axes[i],\n",
    "      set_labels=[databases[0],databases[1],databases[2]], set_colors=(project_palette[databases[0]],project_palette[databases[1]],project_palette[databases[2]]))\n",
    "    axes[i].set_title(f\"{dataset_name}\")\n",
    "p=[]\n",
    "for l,c in project_palette.items():\n",
    "    p.append(mpatches.Patch(color=c, label=l,alpha=0.3))  \n",
    "fig.legend(handles=p, title=\"search database\",loc='upper right',bbox_to_anchor=(1, 0.5));\n",
    "plt.savefig(\"tpp_peptides_venn.svg\")"
   ]
  },
  {
   "cell_type": "code",
   "execution_count": null,
   "id": "2ab63d06-c92b-49ba-aca3-bb00af73cf93",
   "metadata": {},
   "outputs": [],
   "source": [
    "#Non-canonical"
   ]
  },
  {
   "cell_type": "code",
   "execution_count": null,
   "id": "c7fe1bee-342e-432c-9b1b-a3cc2649597f",
   "metadata": {},
   "outputs": [],
   "source": [
    "#how many unique peptides matched to noncanon"
   ]
  },
  {
   "cell_type": "code",
   "execution_count": 257,
   "id": "a42fb358-efb4-4647-9923-7deafdca72e6",
   "metadata": {},
   "outputs": [],
   "source": [
    "#match only altprots \n",
    "for dataset_name in peptideprophet_combined_datasets:\n",
    "    df=peptideprophet_filt_combined_datasets[dataset_name][\"openprot\"]\n",
    "    df.reset_index(inplace=True)\n",
    "    df[\"only altprots\"]=False\n",
    "    for i,row in df.iterrows():\n",
    "        if all([True if \"IP_\" in p else False for p in row.protein ]):     \n",
    "            df.loc[i,\"only altprots\"]=True\n",
    "    peptideprophet_filt_combined_datasets[dataset_name][\"openprot\"]=df"
   ]
  },
  {
   "cell_type": "code",
   "execution_count": 258,
   "id": "8b81ea13-1001-4286-84dc-83bbd58aaf37",
   "metadata": {},
   "outputs": [],
   "source": [
    "#add column that specifies if peptide is unique or shared netween non-canonical proteins\n",
    "for dataset_name in peptideprophet_combined_datasets:\n",
    "    df=peptideprophet_filt_combined_datasets[dataset_name][\"openprot\"]\n",
    "    df[\"1 altprot\"]=False\n",
    "    for i,row in df[df[\"only altprots\"]==True].iterrows():\n",
    "        if len(row.protein)==1:     \n",
    "            df.loc[i,\"1 altprot\"]=True\n",
    "    peptideprophet_filt_combined_datasets[dataset_name][\"openprot\"]=df"
   ]
  },
  {
   "cell_type": "code",
   "execution_count": 267,
   "id": "1d1b7e34-31d3-468c-b672-0b30a7a38531",
   "metadata": {},
   "outputs": [],
   "source": [
    "#% unique peptides from noncanon prots to all unique peps\n",
    "#to calculate in the same way as ionbot, assume that alt psms are distributed equaly among replicates\n",
    "#so devide each frqs by number of replicates\n",
    "nrepl={\"PXD002057\":1,\"PXD003594\":2,\"PXD014258\":5}\n",
    "frqs_noncapsm=[]\n",
    "for dataset_name in peptideprophet_filt_combined_datasets:\n",
    "    n=1#nrepl[dataset_name]\n",
    "    df=peptideprophet_filt_combined_datasets[dataset_name][\"openprot\"]\n",
    "    pepset=set(df.peptide)\n",
    "    a=[]\n",
    "    for file in set(df.spectrum_file): #&(df[\"1 altprot\"]==True)\n",
    "        a.append((len(df.loc[(df[\"only altprots\"]==True)&(df[\"spectrum_file\"]==file),\"peptide\"].drop_duplicates())/len(pepset))/n)\n",
    "    frqs_noncapsm.append(np.median(a)*100)\n",
    "    ##print(dataset_name,len(df[df[\"only altprots\"]==True])/len(df))"
   ]
  },
  {
   "cell_type": "code",
   "execution_count": 273,
   "id": "3748d58f-163d-46aa-90f2-da25ff7f7d6b",
   "metadata": {},
   "outputs": [
    {
     "data": {
      "text/plain": [
       "([0.29239766081871343, 2.082764272056815, 11.6208457546649],\n",
       " dict_keys(['PXD002057', 'PXD003594', 'PXD014258']))"
      ]
     },
     "execution_count": 273,
     "metadata": {},
     "output_type": "execute_result"
    }
   ],
   "source": [
    "frqs_noncapsm, peptideprophet_filt_combined_datasets.keys()"
   ]
  },
  {
   "cell_type": "code",
   "execution_count": 268,
   "id": "d6fb24ce-6bf8-44e6-b1a5-148be8e14335",
   "metadata": {},
   "outputs": [
    {
     "data": {
      "image/png": "[encoded data removed]",
      "text/plain": [
       "<Figure size 640x480 with 1 Axes>"
      ]
     },
     "metadata": {},
     "output_type": "display_data"
    }
   ],
   "source": [
    "data=pd.DataFrame({\"tool\":[\"TPP\",\"TPP\",\"TPP\"],\"%\":frqs_noncapsm})\n",
    "fig, axs = plt.subplots(1,1)\n",
    "sns.boxplot(data=data,x=\"tool\",y=\"%\",notch=False,color=\"purple\")\n",
    "plt.scatter([0,0,0],frqs_noncapsm,color=\"gold\",s=100,edgecolors=\"black\");\n",
    "#plt.ylim(0,3)\n",
    "plt.savefig(\"tpp_altpsmfrq_boxplot.svg\")"
   ]
  },
  {
   "cell_type": "code",
   "execution_count": null,
   "id": "da5c7c22-5c1a-43fa-9922-1dc638750fcf",
   "metadata": {},
   "outputs": [],
   "source": [
    "from plotly_upset.plotting import plot_upset"
   ]
  },
  {
   "cell_type": "code",
   "execution_count": 269,
   "id": "1bed41fc-e428-4e49-859f-57eda14ff459",
   "metadata": {},
   "outputs": [],
   "source": [
    "datasets=[\"PXD002057\",\"PXD003594\",\"PXD014258\"]\n",
    "dfs=[peptideprophet_filt_combined_datasets[dataset_name][\"openprot\"] for dataset_name in datasets]\n",
    "dfsconc=pd.DataFrame()\n",
    "for i,df in enumerate(dfs):\n",
    "    a=df.loc[df[\"only altprots\"]==True,\"peptide\"].drop_duplicates().to_frame()\n",
    "    a[datasets[i]]=1\n",
    "    a.set_index(\"peptide\",inplace=True)\n",
    "    #dfsconc=pd.concat([dfsconc,a],axis=0)\n",
    "    dfsconc=dfsconc.merge(a,how=\"outer\",left_index=True, right_index=True)\n",
    "dfsconc.fillna(0,inplace=True)"
   ]
  },
  {
   "cell_type": "code",
   "execution_count": 274,
   "id": "c0d0c0d4-6571-458a-a80f-4a006bb35496",
   "metadata": {},
   "outputs": [
    {
     "data": {
      "text/plain": [
       "((20, 3), 10090)"
      ]
     },
     "execution_count": 274,
     "metadata": {},
     "output_type": "execute_result"
    }
   ],
   "source": [
    "#get sets of unique peptides noncanon prots to see ovrlap between samples\n",
    "dfsconc[dfsconc.sum(axis=1)>1].shape, len(dfsconc)"
   ]
  },
  {
   "cell_type": "code",
   "execution_count": 278,
   "id": "29b8c85a-1554-44d8-80dd-c2af74131978",
   "metadata": {},
   "outputs": [
    {
     "data": {
      "image/png": "[encoded data removed]",
      "text/plain": [
       "<Figure size 640x480 with 1 Axes>"
      ]
     },
     "metadata": {},
     "output_type": "display_data"
    }
   ],
   "source": [
    "sizes=[len(dfsconc[dfsconc.sum(axis=1)>1]),len(dfsconc)]\n",
    "labels=[\"\",\"\"] #in >1 dataset\n",
    "fig, ax = plt.subplots()\n",
    "ax.pie(sizes, labels=labels, autopct='%1.1f%%',startangle=90,colors=[\"purple\",\"gainsboro\"], textprops={'fontsize': 14});\n",
    "plt.savefig(\"tpp_noncanpeprepr_pie.svg\")"
   ]
  },
  {
   "cell_type": "code",
   "execution_count": 271,
   "id": "470b9a97-f4de-4f9e-8660-808cea17e832",
   "metadata": {},
   "outputs": [
    {
     "data": {
      "application/vnd.plotly.v1+json": {
       "config": {
        "plotlyServerURL": "https://plot.ly"
       },
       "data": [
        {
         "cliponaxis": false,
         "legendgroup": "TPP",
         "marker": {
          "color": "#636efa",
          "line": {
           "width": 0
          }
         },
         "name": "TPP",
         "showlegend": false,
         "text": [
          0,
          6149,
          3868,
          18,
          53,
          2,
          0,
          0
         ],
         "textangle": -90,
         "textfont": {
          "size": 12
         },
         "textposition": "outside",
         "texttemplate": "%{text:}",
         "type": "bar",
         "x": [
          "000",
          "001",
          "010",
          "011",
          "100",
          "101",
          "110",
          "111"
         ],
         "xaxis": "x2",
         "y": [
          0,
          6149,
          3868,
          18,
          53,
          2,
          0,
          0
         ],
         "yaxis": "y2"
        },
        {
         "cliponaxis": false,
         "legendgroup": "TPP",
         "marker": {
          "color": "#636efa",
          "line": {
           "width": 0
          }
         },
         "name": "TPP",
         "orientation": "h",
         "text": [
          55,
          3886,
          6169
         ],
         "textangle": 0,
         "textfont": {
          "size": 12
         },
         "textposition": "outside",
         "texttemplate": "%{text:}",
         "type": "bar",
         "x": [
          55,
          3886,
          6169
         ],
         "xaxis": "x3",
         "y": [
          "PXD002057",
          "PXD003594",
          "PXD014258"
         ],
         "yaxis": "y3"
        },
        {
         "legendgroup": "True",
         "marker": {
          "color": "#000000",
          "line": {
           "color": "#000000",
           "width": 0
          },
          "size": 16,
          "symbol": "circle"
         },
         "mode": "markers",
         "name": "True",
         "showlegend": false,
         "type": "scatter",
         "x": [
          4,
          2,
          1,
          5,
          3,
          3,
          6,
          6,
          5,
          7,
          7,
          7
         ],
         "xaxis": "x4",
         "y": [
          0,
          1,
          2,
          0,
          1,
          2,
          0,
          1,
          2,
          0,
          1,
          2
         ],
         "yaxis": "y4"
        },
        {
         "legendgroup": "False",
         "marker": {
          "color": "#C2C2C2",
          "line": {
           "color": "#000000",
           "width": 0
          },
          "size": 16,
          "symbol": "circle"
         },
         "mode": "markers",
         "name": "False",
         "showlegend": false,
         "type": "scatter",
         "x": [
          3,
          5,
          6,
          2,
          4,
          4,
          1,
          1,
          2,
          0,
          0,
          0
         ],
         "xaxis": "x4",
         "y": [
          0,
          1,
          2,
          0,
          1,
          2,
          0,
          1,
          2,
          0,
          1,
          2
         ],
         "yaxis": "y4"
        },
        {
         "legendgroup": "True",
         "line": {
          "color": "#000000",
          "width": 2
         },
         "mode": "lines",
         "name": "True",
         "showlegend": false,
         "type": "scatter",
         "x": [
          3,
          3
         ],
         "xaxis": "x4",
         "y": [
          1,
          2
         ],
         "yaxis": "y4"
        },
        {
         "legendgroup": "True",
         "line": {
          "color": "#000000",
          "width": 2
         },
         "mode": "lines",
         "name": "True",
         "showlegend": false,
         "type": "scatter",
         "x": [
          5,
          5
         ],
         "xaxis": "x4",
         "y": [
          0,
          2
         ],
         "yaxis": "y4"
        },
        {
         "legendgroup": "True",
         "line": {
          "color": "#000000",
          "width": 2
         },
         "mode": "lines",
         "name": "True",
         "showlegend": false,
         "type": "scatter",
         "x": [
          6,
          6
         ],
         "xaxis": "x4",
         "y": [
          0,
          1
         ],
         "yaxis": "y4"
        },
        {
         "legendgroup": "True",
         "line": {
          "color": "#000000",
          "width": 2
         },
         "mode": "lines",
         "name": "True",
         "showlegend": false,
         "type": "scatter",
         "x": [
          7,
          7
         ],
         "xaxis": "x4",
         "y": [
          0,
          1
         ],
         "yaxis": "y4"
        },
        {
         "legendgroup": "True",
         "line": {
          "color": "#000000",
          "width": 2
         },
         "mode": "lines",
         "name": "True",
         "showlegend": false,
         "type": "scatter",
         "x": [
          7,
          7
         ],
         "xaxis": "x4",
         "y": [
          1,
          2
         ],
         "yaxis": "y4"
        }
       ],
       "layout": {
        "bargap": 0.2,
        "bargroupgap": 0,
        "barmode": "group",
        "font": {
         "color": "black"
        },
        "height": 400,
        "hovermode": "closest",
        "legend": {
         "orientation": "v",
         "x": 0,
         "xanchor": "left",
         "y": 1,
         "yanchor": "top"
        },
        "margin": {
         "b": 40,
         "l": 40,
         "r": 40,
         "t": 40
        },
        "paper_bgcolor": "white",
        "plot_bgcolor": "rgba(0, 0, 0, 0)",
        "shapes": [
         {
          "fillcolor": "#EBEBEB",
          "layer": "below",
          "line": {
           "width": 0
          },
          "type": "rect",
          "x0": 0,
          "x1": 1,
          "xref": "x4 domain",
          "y0": -0.5,
          "y1": 0.5,
          "yref": "y4"
         },
         {
          "fillcolor": "#EBEBEB",
          "layer": "below",
          "line": {
           "width": 0
          },
          "type": "rect",
          "x0": 0,
          "x1": 1,
          "xref": "x4 domain",
          "y0": 1.5,
          "y1": 2.5,
          "yref": "y4"
         }
        ],
        "showlegend": true,
        "template": {
         "data": {
          "bar": [
           {
            "error_x": {
             "color": "#2a3f5f"
            },
            "error_y": {
             "color": "#2a3f5f"
            },
            "marker": {
             "line": {
              "color": "#E5ECF6",
              "width": 0.5
             },
             "pattern": {
              "fillmode": "overlay",
              "size": 10,
              "solidity": 0.2
             }
            },
            "type": "bar"
           }
          ],
          "barpolar": [
           {
            "marker": {
             "line": {
              "color": "#E5ECF6",
              "width": 0.5
             },
             "pattern": {
              "fillmode": "overlay",
              "size": 10,
              "solidity": 0.2
             }
            },
            "type": "barpolar"
           }
          ],
          "carpet": [
           {
            "aaxis": {
             "endlinecolor": "#2a3f5f",
             "gridcolor": "white",
             "linecolor": "white",
             "minorgridcolor": "white",
             "startlinecolor": "#2a3f5f"
            },
            "baxis": {
             "endlinecolor": "#2a3f5f",
             "gridcolor": "white",
             "linecolor": "white",
             "minorgridcolor": "white",
             "startlinecolor": "#2a3f5f"
            },
            "type": "carpet"
           }
          ],
          "choropleth": [
           {
            "colorbar": {
             "outlinewidth": 0,
             "ticks": ""
            },
            "type": "choropleth"
           }
          ],
          "contour": [
           {
            "colorbar": {
             "outlinewidth": 0,
             "ticks": ""
            },
            "colorscale": [
             [
              0,
              "#0d0887"
             ],
             [
              0.1111111111111111,
              "#46039f"
             ],
             [
              0.2222222222222222,
              "#7201a8"
             ],
             [
              0.3333333333333333,
              "#9c179e"
             ],
             [
              0.4444444444444444,
              "#bd3786"
             ],
             [
              0.5555555555555556,
              "#d8576b"
             ],
             [
              0.6666666666666666,
              "#ed7953"
             ],
             [
              0.7777777777777778,
              "#fb9f3a"
             ],
             [
              0.8888888888888888,
              "#fdca26"
             ],
             [
              1,
              "#f0f921"
             ]
            ],
            "type": "contour"
           }
          ],
          "contourcarpet": [
           {
            "colorbar": {
             "outlinewidth": 0,
             "ticks": ""
            },
            "type": "contourcarpet"
           }
          ],
          "heatmap": [
           {
            "colorbar": {
             "outlinewidth": 0,
             "ticks": ""
            },
            "colorscale": [
             [
              0,
              "#0d0887"
             ],
             [
              0.1111111111111111,
              "#46039f"
             ],
             [
              0.2222222222222222,
              "#7201a8"
             ],
             [
              0.3333333333333333,
              "#9c179e"
             ],
             [
              0.4444444444444444,
              "#bd3786"
             ],
             [
              0.5555555555555556,
              "#d8576b"
             ],
             [
              0.6666666666666666,
              "#ed7953"
             ],
             [
              0.7777777777777778,
              "#fb9f3a"
             ],
             [
              0.8888888888888888,
              "#fdca26"
             ],
             [
              1,
              "#f0f921"
             ]
            ],
            "type": "heatmap"
           }
          ],
          "heatmapgl": [
           {
            "colorbar": {
             "outlinewidth": 0,
             "ticks": ""
            },
            "colorscale": [
             [
              0,
              "#0d0887"
             ],
             [
              0.1111111111111111,
              "#46039f"
             ],
             [
              0.2222222222222222,
              "#7201a8"
             ],
             [
              0.3333333333333333,
              "#9c179e"
             ],
             [
              0.4444444444444444,
              "#bd3786"
             ],
             [
              0.5555555555555556,
              "#d8576b"
             ],
             [
              0.6666666666666666,
              "#ed7953"
             ],
             [
              0.7777777777777778,
              "#fb9f3a"
             ],
             [
              0.8888888888888888,
              "#fdca26"
             ],
             [
              1,
              "#f0f921"
             ]
            ],
            "type": "heatmapgl"
           }
          ],
          "histogram": [
           {
            "marker": {
             "pattern": {
              "fillmode": "overlay",
              "size": 10,
              "solidity": 0.2
             }
            },
            "type": "histogram"
           }
          ],
          "histogram2d": [
           {
            "colorbar": {
             "outlinewidth": 0,
             "ticks": ""
            },
            "colorscale": [
             [
              0,
              "#0d0887"
             ],
             [
              0.1111111111111111,
              "#46039f"
             ],
             [
              0.2222222222222222,
              "#7201a8"
             ],
             [
              0.3333333333333333,
              "#9c179e"
             ],
             [
              0.4444444444444444,
              "#bd3786"
             ],
             [
              0.5555555555555556,
              "#d8576b"
             ],
             [
              0.6666666666666666,
              "#ed7953"
             ],
             [
              0.7777777777777778,
              "#fb9f3a"
             ],
             [
              0.8888888888888888,
              "#fdca26"
             ],
             [
              1,
              "#f0f921"
             ]
            ],
            "type": "histogram2d"
           }
          ],
          "histogram2dcontour": [
           {
            "colorbar": {
             "outlinewidth": 0,
             "ticks": ""
            },
            "colorscale": [
             [
              0,
              "#0d0887"
             ],
             [
              0.1111111111111111,
              "#46039f"
             ],
             [
              0.2222222222222222,
              "#7201a8"
             ],
             [
              0.3333333333333333,
              "#9c179e"
             ],
             [
              0.4444444444444444,
              "#bd3786"
             ],
             [
              0.5555555555555556,
              "#d8576b"
             ],
             [
              0.6666666666666666,
              "#ed7953"
             ],
             [
              0.7777777777777778,
              "#fb9f3a"
             ],
             [
              0.8888888888888888,
              "#fdca26"
             ],
             [
              1,
              "#f0f921"
             ]
            ],
            "type": "histogram2dcontour"
           }
          ],
          "mesh3d": [
           {
            "colorbar": {
             "outlinewidth": 0,
             "ticks": ""
            },
            "type": "mesh3d"
           }
          ],
          "parcoords": [
           {
            "line": {
             "colorbar": {
              "outlinewidth": 0,
              "ticks": ""
             }
            },
            "type": "parcoords"
           }
          ],
          "pie": [
           {
            "automargin": true,
            "type": "pie"
           }
          ],
          "scatter": [
           {
            "fillpattern": {
             "fillmode": "overlay",
             "size": 10,
             "solidity": 0.2
            },
            "type": "scatter"
           }
          ],
          "scatter3d": [
           {
            "line": {
             "colorbar": {
              "outlinewidth": 0,
              "ticks": ""
             }
            },
            "marker": {
             "colorbar": {
              "outlinewidth": 0,
              "ticks": ""
             }
            },
            "type": "scatter3d"
           }
          ],
          "scattercarpet": [
           {
            "marker": {
             "colorbar": {
              "outlinewidth": 0,
              "ticks": ""
             }
            },
            "type": "scattercarpet"
           }
          ],
          "scattergeo": [
           {
            "marker": {
             "colorbar": {
              "outlinewidth": 0,
              "ticks": ""
             }
            },
            "type": "scattergeo"
           }
          ],
          "scattergl": [
           {
            "marker": {
             "colorbar": {
              "outlinewidth": 0,
              "ticks": ""
             }
            },
            "type": "scattergl"
           }
          ],
          "scattermapbox": [
           {
            "marker": {
             "colorbar": {
              "outlinewidth": 0,
              "ticks": ""
             }
            },
            "type": "scattermapbox"
           }
          ],
          "scatterpolar": [
           {
            "marker": {
             "colorbar": {
              "outlinewidth": 0,
              "ticks": ""
             }
            },
            "type": "scatterpolar"
           }
          ],
          "scatterpolargl": [
           {
            "marker": {
             "colorbar": {
              "outlinewidth": 0,
              "ticks": ""
             }
            },
            "type": "scatterpolargl"
           }
          ],
          "scatterternary": [
           {
            "marker": {
             "colorbar": {
              "outlinewidth": 0,
              "ticks": ""
             }
            },
            "type": "scatterternary"
           }
          ],
          "surface": [
           {
            "colorbar": {
             "outlinewidth": 0,
             "ticks": ""
            },
            "colorscale": [
             [
              0,
              "#0d0887"
             ],
             [
              0.1111111111111111,
              "#46039f"
             ],
             [
              0.2222222222222222,
              "#7201a8"
             ],
             [
              0.3333333333333333,
              "#9c179e"
             ],
             [
              0.4444444444444444,
              "#bd3786"
             ],
             [
              0.5555555555555556,
              "#d8576b"
             ],
             [
              0.6666666666666666,
              "#ed7953"
             ],
             [
              0.7777777777777778,
              "#fb9f3a"
             ],
             [
              0.8888888888888888,
              "#fdca26"
             ],
             [
              1,
              "#f0f921"
             ]
            ],
            "type": "surface"
           }
          ],
          "table": [
           {
            "cells": {
             "fill": {
              "color": "#EBF0F8"
             },
             "line": {
              "color": "white"
             }
            },
            "header": {
             "fill": {
              "color": "#C8D4E3"
             },
             "line": {
              "color": "white"
             }
            },
            "type": "table"
           }
          ]
         },
         "layout": {
          "annotationdefaults": {
           "arrowcolor": "#2a3f5f",
           "arrowhead": 0,
           "arrowwidth": 1
          },
          "autotypenumbers": "strict",
          "coloraxis": {
           "colorbar": {
            "outlinewidth": 0,
            "ticks": ""
           }
          },
          "colorscale": {
           "diverging": [
            [
             0,
             "#8e0152"
            ],
            [
             0.1,
             "#c51b7d"
            ],
            [
             0.2,
             "#de77ae"
            ],
            [
             0.3,
             "#f1b6da"
            ],
            [
             0.4,
             "#fde0ef"
            ],
            [
             0.5,
             "#f7f7f7"
            ],
            [
             0.6,
             "#e6f5d0"
            ],
            [
             0.7,
             "#b8e186"
            ],
            [
             0.8,
             "#7fbc41"
            ],
            [
             0.9,
             "#4d9221"
            ],
            [
             1,
             "#276419"
            ]
           ],
           "sequential": [
            [
             0,
             "#0d0887"
            ],
            [
             0.1111111111111111,
             "#46039f"
            ],
            [
             0.2222222222222222,
             "#7201a8"
            ],
            [
             0.3333333333333333,
             "#9c179e"
            ],
            [
             0.4444444444444444,
             "#bd3786"
            ],
            [
             0.5555555555555556,
             "#d8576b"
            ],
            [
             0.6666666666666666,
             "#ed7953"
            ],
            [
             0.7777777777777778,
             "#fb9f3a"
            ],
            [
             0.8888888888888888,
             "#fdca26"
            ],
            [
             1,
             "#f0f921"
            ]
           ],
           "sequentialminus": [
            [
             0,
             "#0d0887"
            ],
            [
             0.1111111111111111,
             "#46039f"
            ],
            [
             0.2222222222222222,
             "#7201a8"
            ],
            [
             0.3333333333333333,
             "#9c179e"
            ],
            [
             0.4444444444444444,
             "#bd3786"
            ],
            [
             0.5555555555555556,
             "#d8576b"
            ],
            [
             0.6666666666666666,
             "#ed7953"
            ],
            [
             0.7777777777777778,
             "#fb9f3a"
            ],
            [
             0.8888888888888888,
             "#fdca26"
            ],
            [
             1,
             "#f0f921"
            ]
           ]
          },
          "colorway": [
           "#636efa",
           "#EF553B",
           "#00cc96",
           "#ab63fa",
           "#FFA15A",
           "#19d3f3",
           "#FF6692",
           "#B6E880",
           "#FF97FF",
           "#FECB52"
          ],
          "font": {
           "color": "#2a3f5f"
          },
          "geo": {
           "bgcolor": "white",
           "lakecolor": "white",
           "landcolor": "#E5ECF6",
           "showlakes": true,
           "showland": true,
           "subunitcolor": "white"
          },
          "hoverlabel": {
           "align": "left"
          },
          "hovermode": "closest",
          "mapbox": {
           "style": "light"
          },
          "paper_bgcolor": "white",
          "plot_bgcolor": "#E5ECF6",
          "polar": {
           "angularaxis": {
            "gridcolor": "white",
            "linecolor": "white",
            "ticks": ""
           },
           "bgcolor": "#E5ECF6",
           "radialaxis": {
            "gridcolor": "white",
            "linecolor": "white",
            "ticks": ""
           }
          },
          "scene": {
           "xaxis": {
            "backgroundcolor": "#E5ECF6",
            "gridcolor": "white",
            "gridwidth": 2,
            "linecolor": "white",
            "showbackground": true,
            "ticks": "",
            "zerolinecolor": "white"
           },
           "yaxis": {
            "backgroundcolor": "#E5ECF6",
            "gridcolor": "white",
            "gridwidth": 2,
            "linecolor": "white",
            "showbackground": true,
            "ticks": "",
            "zerolinecolor": "white"
           },
           "zaxis": {
            "backgroundcolor": "#E5ECF6",
            "gridcolor": "white",
            "gridwidth": 2,
            "linecolor": "white",
            "showbackground": true,
            "ticks": "",
            "zerolinecolor": "white"
           }
          },
          "shapedefaults": {
           "line": {
            "color": "#2a3f5f"
           }
          },
          "ternary": {
           "aaxis": {
            "gridcolor": "white",
            "linecolor": "white",
            "ticks": ""
           },
           "baxis": {
            "gridcolor": "white",
            "linecolor": "white",
            "ticks": ""
           },
           "bgcolor": "#E5ECF6",
           "caxis": {
            "gridcolor": "white",
            "linecolor": "white",
            "ticks": ""
           }
          },
          "title": {
           "x": 0.05
          },
          "xaxis": {
           "automargin": true,
           "gridcolor": "white",
           "linecolor": "white",
           "ticks": "",
           "title": {
            "standoff": 15
           },
           "zerolinecolor": "white",
           "zerolinewidth": 2
          },
          "yaxis": {
           "automargin": true,
           "gridcolor": "white",
           "linecolor": "white",
           "ticks": "",
           "title": {
            "standoff": 15
           },
           "zerolinecolor": "white",
           "zerolinewidth": 2
          }
         }
        },
        "uniformtext": {
         "minsize": 12,
         "mode": "show"
        },
        "width": 640,
        "xaxis": {
         "anchor": "y",
         "automargin": true,
         "domain": [
          0,
          0.35000000000000003
         ],
         "matches": "x3",
         "showticklabels": false,
         "zeroline": false
        },
        "xaxis2": {
         "anchor": "y2",
         "automargin": true,
         "domain": [
          0.47500000000000003,
          1
         ],
         "dtick": 1,
         "linecolor": "#000000",
         "matches": "x4",
         "range": [
          -0.5,
          7.5
         ],
         "showline": true,
         "showticklabels": false,
         "side": "bottom",
         "tickcolor": "#000000",
         "ticks": "outside",
         "type": "category",
         "zeroline": false
        },
        "xaxis3": {
         "anchor": "y3",
         "automargin": true,
         "autorange": true,
         "domain": [
          0,
          0.35000000000000003
         ],
         "gridcolor": "#E0E0E0",
         "linecolor": "#000000",
         "range": [
          6493.684210526316,
          0
         ],
         "showgrid": true,
         "showline": true,
         "showticklabels": true,
         "side": "top",
         "tickangle": -90,
         "tickcolor": "#000000",
         "ticks": "outside",
         "title": {
          "font": {
           "color": "#000000"
          },
          "standoff": 5,
          "text": "Set Size"
         },
         "type": "linear",
         "zeroline": false
        },
        "xaxis4": {
         "anchor": "y4",
         "automargin": true,
         "domain": [
          0.47500000000000003,
          1
         ],
         "dtick": 1,
         "range": [
          -0.5,
          7.5
         ],
         "showgrid": false,
         "showline": true,
         "showticklabels": false,
         "side": "bottom",
         "title": {
          "standoff": 5
         },
         "type": "linear",
         "zeroline": false
        },
        "yaxis": {
         "anchor": "x",
         "automargin": true,
         "domain": [
          0.33499999999999996,
          0.9999999999999999
         ],
         "zeroline": false
        },
        "yaxis2": {
         "anchor": "x2",
         "automargin": true,
         "domain": [
          0.33499999999999996,
          0.9999999999999999
         ],
         "gridcolor": "#E0E0E0",
         "linecolor": "#000000",
         "range": [
          0,
          7993.7
         ],
         "showgrid": true,
         "showline": true,
         "showticklabels": true,
         "side": "left",
         "tickcolor": "#000000",
         "ticks": "outside",
         "title": {
          "font": {
           "color": "#000000"
          },
          "standoff": 5,
          "text": "Intersection Size"
         },
         "type": "linear",
         "zeroline": false
        },
        "yaxis3": {
         "anchor": "x3",
         "automargin": true,
         "autorange": true,
         "domain": [
          0,
          0.285
         ],
         "linecolor": "#000000",
         "range": [
          -0.5,
          2.5
         ],
         "showline": true,
         "showticklabels": false,
         "side": "right",
         "tickcolor": "#000000",
         "ticks": "outside",
         "type": "category",
         "zeroline": false
        },
        "yaxis4": {
         "anchor": "x4",
         "automargin": true,
         "autorange": true,
         "domain": [
          0,
          0.285
         ],
         "linecolor": "#000000",
         "mirror": false,
         "range": [
          -0.5,
          2.5
         ],
         "showgrid": false,
         "showline": true,
         "showticklabels": true,
         "side": "left",
         "tickcolor": "#000000",
         "ticks": "outside",
         "ticktext": [
          "PXD002057",
          "PXD003594",
          "PXD014258"
         ],
         "tickvals": [
          0,
          1,
          2
         ],
         "type": "linear",
         "zeroline": false
        }
       }
      },
      "image/png": "[encoded data removed]",
      "text/html": [
       "<div>                            <div id=\"f0843770-92ef-4bad-b32d-32ba0d5a2182\" class=\"plotly-graph-div\" style=\"height:400px; width:640px;\"></div>            <script type=\"text/javascript\">                require([\"plotly\"], function(Plotly) {                    window.PLOTLYENV=window.PLOTLYENV || {};                                    if (document.getElementById(\"f0843770-92ef-4bad-b32d-32ba0d5a2182\")) {                    Plotly.newPlot(                        \"f0843770-92ef-4bad-b32d-32ba0d5a2182\",                        [{\"cliponaxis\":false,\"legendgroup\":\"TPP\",\"marker\":{\"color\":\"#636efa\",\"line\":{\"width\":0.0}},\"name\":\"TPP\",\"showlegend\":false,\"text\":[0.0,6149.0,3868.0,18.0,53.0,2.0,0.0,0.0],\"textangle\":-90,\"textfont\":{\"size\":12},\"textposition\":\"outside\",\"texttemplate\":\"%{text:}\",\"x\":[\"000\",\"001\",\"010\",\"011\",\"100\",\"101\",\"110\",\"111\"],\"y\":[0,6149,3868,18,53,2,0,0],\"type\":\"bar\",\"xaxis\":\"x2\",\"yaxis\":\"y2\"},{\"cliponaxis\":false,\"legendgroup\":\"TPP\",\"marker\":{\"color\":\"#636efa\",\"line\":{\"width\":0.0}},\"name\":\"TPP\",\"orientation\":\"h\",\"text\":[55.0,3886.0,6169.0],\"textangle\":0,\"textfont\":{\"size\":12},\"textposition\":\"outside\",\"texttemplate\":\"%{text:}\",\"x\":[55,3886,6169],\"y\":[\"PXD002057\",\"PXD003594\",\"PXD014258\"],\"type\":\"bar\",\"xaxis\":\"x3\",\"yaxis\":\"y3\"},{\"legendgroup\":\"True\",\"marker\":{\"color\":\"#000000\",\"line\":{\"color\":\"#000000\",\"width\":0},\"size\":16,\"symbol\":\"circle\"},\"mode\":\"markers\",\"name\":\"True\",\"showlegend\":false,\"x\":[4,2,1,5,3,3,6,6,5,7,7,7],\"y\":[0,1,2,0,1,2,0,1,2,0,1,2],\"type\":\"scatter\",\"xaxis\":\"x4\",\"yaxis\":\"y4\"},{\"legendgroup\":\"False\",\"marker\":{\"color\":\"#C2C2C2\",\"line\":{\"color\":\"#000000\",\"width\":0},\"size\":16,\"symbol\":\"circle\"},\"mode\":\"markers\",\"name\":\"False\",\"showlegend\":false,\"x\":[3,5,6,2,4,4,1,1,2,0,0,0],\"y\":[0,1,2,0,1,2,0,1,2,0,1,2],\"type\":\"scatter\",\"xaxis\":\"x4\",\"yaxis\":\"y4\"},{\"legendgroup\":\"True\",\"line\":{\"color\":\"#000000\",\"width\":2},\"mode\":\"lines\",\"name\":\"True\",\"showlegend\":false,\"x\":[3,3],\"y\":[1,2],\"type\":\"scatter\",\"xaxis\":\"x4\",\"yaxis\":\"y4\"},{\"legendgroup\":\"True\",\"line\":{\"color\":\"#000000\",\"width\":2},\"mode\":\"lines\",\"name\":\"True\",\"showlegend\":false,\"x\":[5,5],\"y\":[0,2],\"type\":\"scatter\",\"xaxis\":\"x4\",\"yaxis\":\"y4\"},{\"legendgroup\":\"True\",\"line\":{\"color\":\"#000000\",\"width\":2},\"mode\":\"lines\",\"name\":\"True\",\"showlegend\":false,\"x\":[6,6],\"y\":[0,1],\"type\":\"scatter\",\"xaxis\":\"x4\",\"yaxis\":\"y4\"},{\"legendgroup\":\"True\",\"line\":{\"color\":\"#000000\",\"width\":2},\"mode\":\"lines\",\"name\":\"True\",\"showlegend\":false,\"x\":[7,7],\"y\":[0,1],\"type\":\"scatter\",\"xaxis\":\"x4\",\"yaxis\":\"y4\"},{\"legendgroup\":\"True\",\"line\":{\"color\":\"#000000\",\"width\":2},\"mode\":\"lines\",\"name\":\"True\",\"showlegend\":false,\"x\":[7,7],\"y\":[1,2],\"type\":\"scatter\",\"xaxis\":\"x4\",\"yaxis\":\"y4\"}],                        {\"template\":{\"data\":{\"histogram2dcontour\":[{\"type\":\"histogram2dcontour\",\"colorbar\":{\"outlinewidth\":0,\"ticks\":\"\"},\"colorscale\":[[0.0,\"#0d0887\"],[0.1111111111111111,\"#46039f\"],[0.2222222222222222,\"#7201a8\"],[0.3333333333333333,\"#9c179e\"],[0.4444444444444444,\"#bd3786\"],[0.5555555555555556,\"#d8576b\"],[0.6666666666666666,\"#ed7953\"],[0.7777777777777778,\"#fb9f3a\"],[0.8888888888888888,\"#fdca26\"],[1.0,\"#f0f921\"]]}],\"choropleth\":[{\"type\":\"choropleth\",\"colorbar\":{\"outlinewidth\":0,\"ticks\":\"\"}}],\"histogram2d\":[{\"type\":\"histogram2d\",\"colorbar\":{\"outlinewidth\":0,\"ticks\":\"\"},\"colorscale\":[[0.0,\"#0d0887\"],[0.1111111111111111,\"#46039f\"],[0.2222222222222222,\"#7201a8\"],[0.3333333333333333,\"#9c179e\"],[0.4444444444444444,\"#bd3786\"],[0.5555555555555556,\"#d8576b\"],[0.6666666666666666,\"#ed7953\"],[0.7777777777777778,\"#fb9f3a\"],[0.8888888888888888,\"#fdca26\"],[1.0,\"#f0f921\"]]}],\"heatmap\":[{\"type\":\"heatmap\",\"colorbar\":{\"outlinewidth\":0,\"ticks\":\"\"},\"colorscale\":[[0.0,\"#0d0887\"],[0.1111111111111111,\"#46039f\"],[0.2222222222222222,\"#7201a8\"],[0.3333333333333333,\"#9c179e\"],[0.4444444444444444,\"#bd3786\"],[0.5555555555555556,\"#d8576b\"],[0.6666666666666666,\"#ed7953\"],[0.7777777777777778,\"#fb9f3a\"],[0.8888888888888888,\"#fdca26\"],[1.0,\"#f0f921\"]]}],\"heatmapgl\":[{\"type\":\"heatmapgl\",\"colorbar\":{\"outlinewidth\":0,\"ticks\":\"\"},\"colorscale\":[[0.0,\"#0d0887\"],[0.1111111111111111,\"#46039f\"],[0.2222222222222222,\"#7201a8\"],[0.3333333333333333,\"#9c179e\"],[0.4444444444444444,\"#bd3786\"],[0.5555555555555556,\"#d8576b\"],[0.6666666666666666,\"#ed7953\"],[0.7777777777777778,\"#fb9f3a\"],[0.8888888888888888,\"#fdca26\"],[1.0,\"#f0f921\"]]}],\"contourcarpet\":[{\"type\":\"contourcarpet\",\"colorbar\":{\"outlinewidth\":0,\"ticks\":\"\"}}],\"contour\":[{\"type\":\"contour\",\"colorbar\":{\"outlinewidth\":0,\"ticks\":\"\"},\"colorscale\":[[0.0,\"#0d0887\"],[0.1111111111111111,\"#46039f\"],[0.2222222222222222,\"#7201a8\"],[0.3333333333333333,\"#9c179e\"],[0.4444444444444444,\"#bd3786\"],[0.5555555555555556,\"#d8576b\"],[0.6666666666666666,\"#ed7953\"],[0.7777777777777778,\"#fb9f3a\"],[0.8888888888888888,\"#fdca26\"],[1.0,\"#f0f921\"]]}],\"surface\":[{\"type\":\"surface\",\"colorbar\":{\"outlinewidth\":0,\"ticks\":\"\"},\"colorscale\":[[0.0,\"#0d0887\"],[0.1111111111111111,\"#46039f\"],[0.2222222222222222,\"#7201a8\"],[0.3333333333333333,\"#9c179e\"],[0.4444444444444444,\"#bd3786\"],[0.5555555555555556,\"#d8576b\"],[0.6666666666666666,\"#ed7953\"],[0.7777777777777778,\"#fb9f3a\"],[0.8888888888888888,\"#fdca26\"],[1.0,\"#f0f921\"]]}],\"mesh3d\":[{\"type\":\"mesh3d\",\"colorbar\":{\"outlinewidth\":0,\"ticks\":\"\"}}],\"scatter\":[{\"fillpattern\":{\"fillmode\":\"overlay\",\"size\":10,\"solidity\":0.2},\"type\":\"scatter\"}],\"parcoords\":[{\"type\":\"parcoords\",\"line\":{\"colorbar\":{\"outlinewidth\":0,\"ticks\":\"\"}}}],\"scatterpolargl\":[{\"type\":\"scatterpolargl\",\"marker\":{\"colorbar\":{\"outlinewidth\":0,\"ticks\":\"\"}}}],\"bar\":[{\"error_x\":{\"color\":\"#2a3f5f\"},\"error_y\":{\"color\":\"#2a3f5f\"},\"marker\":{\"line\":{\"color\":\"#E5ECF6\",\"width\":0.5},\"pattern\":{\"fillmode\":\"overlay\",\"size\":10,\"solidity\":0.2}},\"type\":\"bar\"}],\"scattergeo\":[{\"type\":\"scattergeo\",\"marker\":{\"colorbar\":{\"outlinewidth\":0,\"ticks\":\"\"}}}],\"scatterpolar\":[{\"type\":\"scatterpolar\",\"marker\":{\"colorbar\":{\"outlinewidth\":0,\"ticks\":\"\"}}}],\"histogram\":[{\"marker\":{\"pattern\":{\"fillmode\":\"overlay\",\"size\":10,\"solidity\":0.2}},\"type\":\"histogram\"}],\"scattergl\":[{\"type\":\"scattergl\",\"marker\":{\"colorbar\":{\"outlinewidth\":0,\"ticks\":\"\"}}}],\"scatter3d\":[{\"type\":\"scatter3d\",\"line\":{\"colorbar\":{\"outlinewidth\":0,\"ticks\":\"\"}},\"marker\":{\"colorbar\":{\"outlinewidth\":0,\"ticks\":\"\"}}}],\"scattermapbox\":[{\"type\":\"scattermapbox\",\"marker\":{\"colorbar\":{\"outlinewidth\":0,\"ticks\":\"\"}}}],\"scatterternary\":[{\"type\":\"scatterternary\",\"marker\":{\"colorbar\":{\"outlinewidth\":0,\"ticks\":\"\"}}}],\"scattercarpet\":[{\"type\":\"scattercarpet\",\"marker\":{\"colorbar\":{\"outlinewidth\":0,\"ticks\":\"\"}}}],\"carpet\":[{\"aaxis\":{\"endlinecolor\":\"#2a3f5f\",\"gridcolor\":\"white\",\"linecolor\":\"white\",\"minorgridcolor\":\"white\",\"startlinecolor\":\"#2a3f5f\"},\"baxis\":{\"endlinecolor\":\"#2a3f5f\",\"gridcolor\":\"white\",\"linecolor\":\"white\",\"minorgridcolor\":\"white\",\"startlinecolor\":\"#2a3f5f\"},\"type\":\"carpet\"}],\"table\":[{\"cells\":{\"fill\":{\"color\":\"#EBF0F8\"},\"line\":{\"color\":\"white\"}},\"header\":{\"fill\":{\"color\":\"#C8D4E3\"},\"line\":{\"color\":\"white\"}},\"type\":\"table\"}],\"barpolar\":[{\"marker\":{\"line\":{\"color\":\"#E5ECF6\",\"width\":0.5},\"pattern\":{\"fillmode\":\"overlay\",\"size\":10,\"solidity\":0.2}},\"type\":\"barpolar\"}],\"pie\":[{\"automargin\":true,\"type\":\"pie\"}]},\"layout\":{\"autotypenumbers\":\"strict\",\"colorway\":[\"#636efa\",\"#EF553B\",\"#00cc96\",\"#ab63fa\",\"#FFA15A\",\"#19d3f3\",\"#FF6692\",\"#B6E880\",\"#FF97FF\",\"#FECB52\"],\"font\":{\"color\":\"#2a3f5f\"},\"hovermode\":\"closest\",\"hoverlabel\":{\"align\":\"left\"},\"paper_bgcolor\":\"white\",\"plot_bgcolor\":\"#E5ECF6\",\"polar\":{\"bgcolor\":\"#E5ECF6\",\"angularaxis\":{\"gridcolor\":\"white\",\"linecolor\":\"white\",\"ticks\":\"\"},\"radialaxis\":{\"gridcolor\":\"white\",\"linecolor\":\"white\",\"ticks\":\"\"}},\"ternary\":{\"bgcolor\":\"#E5ECF6\",\"aaxis\":{\"gridcolor\":\"white\",\"linecolor\":\"white\",\"ticks\":\"\"},\"baxis\":{\"gridcolor\":\"white\",\"linecolor\":\"white\",\"ticks\":\"\"},\"caxis\":{\"gridcolor\":\"white\",\"linecolor\":\"white\",\"ticks\":\"\"}},\"coloraxis\":{\"colorbar\":{\"outlinewidth\":0,\"ticks\":\"\"}},\"colorscale\":{\"sequential\":[[0.0,\"#0d0887\"],[0.1111111111111111,\"#46039f\"],[0.2222222222222222,\"#7201a8\"],[0.3333333333333333,\"#9c179e\"],[0.4444444444444444,\"#bd3786\"],[0.5555555555555556,\"#d8576b\"],[0.6666666666666666,\"#ed7953\"],[0.7777777777777778,\"#fb9f3a\"],[0.8888888888888888,\"#fdca26\"],[1.0,\"#f0f921\"]],\"sequentialminus\":[[0.0,\"#0d0887\"],[0.1111111111111111,\"#46039f\"],[0.2222222222222222,\"#7201a8\"],[0.3333333333333333,\"#9c179e\"],[0.4444444444444444,\"#bd3786\"],[0.5555555555555556,\"#d8576b\"],[0.6666666666666666,\"#ed7953\"],[0.7777777777777778,\"#fb9f3a\"],[0.8888888888888888,\"#fdca26\"],[1.0,\"#f0f921\"]],\"diverging\":[[0,\"#8e0152\"],[0.1,\"#c51b7d\"],[0.2,\"#de77ae\"],[0.3,\"#f1b6da\"],[0.4,\"#fde0ef\"],[0.5,\"#f7f7f7\"],[0.6,\"#e6f5d0\"],[0.7,\"#b8e186\"],[0.8,\"#7fbc41\"],[0.9,\"#4d9221\"],[1,\"#276419\"]]},\"xaxis\":{\"gridcolor\":\"white\",\"linecolor\":\"white\",\"ticks\":\"\",\"title\":{\"standoff\":15},\"zerolinecolor\":\"white\",\"automargin\":true,\"zerolinewidth\":2},\"yaxis\":{\"gridcolor\":\"white\",\"linecolor\":\"white\",\"ticks\":\"\",\"title\":{\"standoff\":15},\"zerolinecolor\":\"white\",\"automargin\":true,\"zerolinewidth\":2},\"scene\":{\"xaxis\":{\"backgroundcolor\":\"#E5ECF6\",\"gridcolor\":\"white\",\"linecolor\":\"white\",\"showbackground\":true,\"ticks\":\"\",\"zerolinecolor\":\"white\",\"gridwidth\":2},\"yaxis\":{\"backgroundcolor\":\"#E5ECF6\",\"gridcolor\":\"white\",\"linecolor\":\"white\",\"showbackground\":true,\"ticks\":\"\",\"zerolinecolor\":\"white\",\"gridwidth\":2},\"zaxis\":{\"backgroundcolor\":\"#E5ECF6\",\"gridcolor\":\"white\",\"linecolor\":\"white\",\"showbackground\":true,\"ticks\":\"\",\"zerolinecolor\":\"white\",\"gridwidth\":2}},\"shapedefaults\":{\"line\":{\"color\":\"#2a3f5f\"}},\"annotationdefaults\":{\"arrowcolor\":\"#2a3f5f\",\"arrowhead\":0,\"arrowwidth\":1},\"geo\":{\"bgcolor\":\"white\",\"landcolor\":\"#E5ECF6\",\"subunitcolor\":\"white\",\"showland\":true,\"showlakes\":true,\"lakecolor\":\"white\"},\"title\":{\"x\":0.05},\"mapbox\":{\"style\":\"light\"}}},\"xaxis\":{\"anchor\":\"y\",\"domain\":[0.0,0.35000000000000003],\"matches\":\"x3\",\"showticklabels\":false,\"zeroline\":false,\"automargin\":true},\"yaxis\":{\"anchor\":\"x\",\"domain\":[0.33499999999999996,0.9999999999999999],\"zeroline\":false,\"automargin\":true},\"xaxis2\":{\"anchor\":\"y2\",\"domain\":[0.47500000000000003,1.0],\"matches\":\"x4\",\"showticklabels\":false,\"side\":\"bottom\",\"showline\":true,\"linecolor\":\"#000000\",\"ticks\":\"outside\",\"tickcolor\":\"#000000\",\"dtick\":1,\"range\":[-0.5,7.5],\"zeroline\":false,\"automargin\":true},\"yaxis2\":{\"anchor\":\"x2\",\"domain\":[0.33499999999999996,0.9999999999999999],\"title\":{\"text\":\"Intersection Size\",\"standoff\":5,\"font\":{\"color\":\"#000000\"}},\"range\":[0.0,7993.7],\"side\":\"left\",\"showgrid\":true,\"showline\":true,\"showticklabels\":true,\"linecolor\":\"#000000\",\"gridcolor\":\"#E0E0E0\",\"ticks\":\"outside\",\"tickcolor\":\"#000000\",\"zeroline\":false,\"automargin\":true},\"xaxis3\":{\"anchor\":\"y3\",\"domain\":[0.0,0.35000000000000003],\"title\":{\"text\":\"Set Size\",\"standoff\":5,\"font\":{\"color\":\"#000000\"}},\"side\":\"top\",\"autorange\":\"reversed\",\"showgrid\":true,\"showline\":true,\"showticklabels\":true,\"gridcolor\":\"#E0E0E0\",\"linecolor\":\"#000000\",\"ticks\":\"outside\",\"tickcolor\":\"#000000\",\"tickangle\":-90,\"zeroline\":false,\"automargin\":true},\"yaxis3\":{\"anchor\":\"x3\",\"domain\":[0.0,0.285],\"side\":\"right\",\"showline\":true,\"showticklabels\":false,\"linecolor\":\"#000000\",\"ticks\":\"outside\",\"tickcolor\":\"#000000\",\"zeroline\":false,\"automargin\":true},\"xaxis4\":{\"anchor\":\"y4\",\"domain\":[0.47500000000000003,1.0],\"title\":{\"standoff\":5},\"range\":[-0.5,7.5],\"side\":\"bottom\",\"showline\":true,\"showgrid\":false,\"showticklabels\":false,\"dtick\":1,\"zeroline\":false,\"automargin\":true},\"yaxis4\":{\"anchor\":\"x4\",\"domain\":[0.0,0.285],\"side\":\"left\",\"showline\":true,\"showgrid\":false,\"showticklabels\":true,\"linecolor\":\"#000000\",\"ticks\":\"outside\",\"tickvals\":[0,1,2],\"ticktext\":[\"PXD002057\",\"PXD003594\",\"PXD014258\"],\"tickcolor\":\"#000000\",\"mirror\":false,\"zeroline\":false,\"automargin\":true},\"shapes\":[{\"fillcolor\":\"#EBEBEB\",\"layer\":\"below\",\"line\":{\"width\":0},\"type\":\"rect\",\"x0\":0,\"x1\":1,\"xref\":\"x4 domain\",\"y0\":-0.5,\"y1\":0.5,\"yref\":\"y4\"},{\"fillcolor\":\"#EBEBEB\",\"layer\":\"below\",\"line\":{\"width\":0},\"type\":\"rect\",\"x0\":0,\"x1\":1,\"xref\":\"x4 domain\",\"y0\":1.5,\"y1\":2.5,\"yref\":\"y4\"}],\"uniformtext\":{\"minsize\":12,\"mode\":\"show\"},\"margin\":{\"l\":40,\"r\":40,\"t\":40,\"b\":40},\"legend\":{\"orientation\":\"v\",\"yanchor\":\"top\",\"y\":1.0,\"xanchor\":\"left\",\"x\":0},\"font\":{\"color\":\"black\"},\"barmode\":\"group\",\"bargap\":0.2,\"bargroupgap\":0.0,\"showlegend\":true,\"height\":400,\"width\":640,\"paper_bgcolor\":\"white\",\"plot_bgcolor\":\"rgba(0, 0, 0, 0)\",\"hovermode\":\"closest\"},                        {\"responsive\": true}                    ).then(function(){\n",
       "                            \n",
       "var gd = document.getElementById('f0843770-92ef-4bad-b32d-32ba0d5a2182');\n",
       "var x = new MutationObserver(function (mutations, observer) {{\n",
       "        var display = window.getComputedStyle(gd).display;\n",
       "        if (!display || display === 'none') {{\n",
       "            console.log([gd, 'removed!']);\n",
       "            Plotly.purge(gd);\n",
       "            observer.disconnect();\n",
       "        }}\n",
       "}});\n",
       "\n",
       "// Listen for the removal of the full notebook cells\n",
       "var notebookContainer = gd.closest('#notebook-container');\n",
       "if (notebookContainer) {{\n",
       "    x.observe(notebookContainer, {childList: true});\n",
       "}}\n",
       "\n",
       "// Listen for the clearing of the current output cell\n",
       "var outputEl = gd.closest('.output');\n",
       "if (outputEl) {{\n",
       "    x.observe(outputEl, {childList: true});\n",
       "}}\n",
       "\n",
       "                        })                };                });            </script>        </div>"
      ]
     },
     "metadata": {},
     "output_type": "display_data"
    }
   ],
   "source": [
    "fig = plot_upset(\n",
    "    dataframes=[dfsconc],\n",
    "    legendgroups=[\"TPP\"],\n",
    "    marker_size=16,\n",
    ")\n",
    "fig.write_image(\"tpp_altpeptides_upset.svg\")\n",
    "fig.show()"
   ]
  },
  {
   "cell_type": "code",
   "execution_count": null,
   "id": "23fe7875-ae37-4b83-a239-e5957eeb2a55",
   "metadata": {},
   "outputs": [],
   "source": []
  }
 ],
 "metadata": {
  "kernelspec": {
   "display_name": "Python 3 (ipykernel)",
   "language": "python",
   "name": "python3"
  },
  "language_info": {
   "codemirror_mode": {
    "name": "ipython",
    "version": 3
   },
   "file_extension": ".py",
   "mimetype": "text/x-python",
   "name": "python",
   "nbconvert_exporter": "python",
   "pygments_lexer": "ipython3",
   "version": "3.11.5"
  }
 },
 "nbformat": 4,
 "nbformat_minor": 5
}
